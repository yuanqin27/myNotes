{
 "cells": [
  {
   "cell_type": "markdown",
   "metadata": {},
   "source": [
    "打印一个DataFrame数据集的列名，列数据类型，对应的取值"
   ]
  },
  {
   "cell_type": "code",
   "execution_count": null,
   "metadata": {},
   "outputs": [],
   "source": [
    "col_dtypes=list(df.dtypes.iteritems())\n",
    "print(f'    共有{len(col_dtypes)}列：')\n",
    "for col_dtype in col_dtypes:    \n",
    "    c=col_dtype[0]\n",
    "    dtype=col_dtype[1]\n",
    "    Unique_Values=df[c].unique()\n",
    "    l=len(Unique_Values)\n",
    "    out=f'{c}:{dtype} ({l})={Unique_Values[0:10]}'\n",
    "    if len(out)>100:\n",
    "        out=out[0:100]+\"......\"\n",
    "    print(\"    \"+out)"
   ]
  },
  {
   "cell_type": "code",
   "execution_count": null,
   "metadata": {},
   "outputs": [],
   "source": [
    "df_nn['ProductSize'] = df_nn['ProductSize'].astype('category')\n",
    "df_nn['ProductSize'].cat.set_categories(sizes, ordered=True, inplace=True)\n",
    "df_nn[dep_var] = np.log(df_nn[dep_var])"
   ]
  },
  {
   "cell_type": "markdown",
   "metadata": {},
   "source": [
    "修改了fastai2的方法，丰富了其中的整数、浮点数类型,增加了连续变量取值数量的打印输出"
   ]
  },
  {
   "cell_type": "code",
   "execution_count": 1,
   "metadata": {},
   "outputs": [],
   "source": [
    "def cont_cat_split(df, max_card=20, dep_var=None,verbose_info=True):\n",
    "    \"Helper function that returns column names of cont and cat variables from given `df`.\"\n",
    "    cont_names, cat_names = [], []\n",
    "    for label in df:\n",
    "        if label in L(dep_var): continue\n",
    "        if df[label].dtype in [int,np.int64,np.int32] and df[label].unique().shape[0] > max_card or df[label].dtype in [float,np.float64,np.float32]:\n",
    "            if verbose_info:print(f\"连续变量_{label}: length={len(df[label].unique())}\")\n",
    "            cont_names.append(label)\n",
    "        else: cat_names.append(label)\n",
    "    return cont_names, cat_names"
   ]
  },
  {
   "cell_type": "code",
   "execution_count": null,
   "metadata": {},
   "outputs": [],
   "source": []
  }
 ],
 "metadata": {
  "kernelspec": {
   "display_name": "Python 3",
   "language": "python",
   "name": "python3"
  },
  "language_info": {
   "codemirror_mode": {
    "name": "ipython",
    "version": 3
   },
   "file_extension": ".py",
   "mimetype": "text/x-python",
   "name": "python",
   "nbconvert_exporter": "python",
   "pygments_lexer": "ipython3",
   "version": "3.8.5"
  }
 },
 "nbformat": 4,
 "nbformat_minor": 4
}
