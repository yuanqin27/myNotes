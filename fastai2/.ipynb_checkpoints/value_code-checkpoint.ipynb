{
 "cells": [
  {
   "cell_type": "markdown",
   "metadata": {},
   "source": [
    "打印一个DataFrame数据集的列名，列数据类型，对应的取值"
   ]
  },
  {
   "cell_type": "code",
   "execution_count": null,
   "metadata": {},
   "outputs": [],
   "source": [
    "col_dtypes=list(df.dtypes.iteritems())\n",
    "print(f'    共有{len(col_dtypes)}列：')\n",
    "for col_dtype in col_dtypes:    \n",
    "    c=col_dtype[0]\n",
    "    dtype=col_dtype[1]\n",
    "    Unique_Values=df[c].unique()\n",
    "    l=len(Unique_Values)\n",
    "    out=f'{c}:{dtype} ({l})={Unique_Values[0:10]}'\n",
    "    if len(out)>100:\n",
    "        out=out[0:100]+\"......\"\n",
    "    print(\"    \"+out)"
   ]
  }
 ],
 "metadata": {
  "kernelspec": {
   "display_name": "Python 3",
   "language": "python",
   "name": "python3"
  },
  "language_info": {
   "codemirror_mode": {
    "name": "ipython",
    "version": 3
   },
   "file_extension": ".py",
   "mimetype": "text/x-python",
   "name": "python",
   "nbconvert_exporter": "python",
   "pygments_lexer": "ipython3",
   "version": "3.8.5"
  }
 },
 "nbformat": 4,
 "nbformat_minor": 4
}
