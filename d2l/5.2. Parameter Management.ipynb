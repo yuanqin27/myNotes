{
 "cells": [
  {
   "cell_type": "markdown",
   "metadata": {},
   "source": [
    "https://d2l.ai/chapter_deep-learning-computation/parameters.html"
   ]
  },
  {
   "cell_type": "code",
   "execution_count": 1,
   "metadata": {},
   "outputs": [
    {
     "data": {
      "text/plain": [
       "('1.6.0', '2.3.1', '1.7.0')"
      ]
     },
     "execution_count": 1,
     "metadata": {},
     "output_type": "execute_result"
    }
   ],
   "source": [
    "%matplotlib inline\n",
    "import torch as tc\n",
    "import tensorflow as tf\n",
    "import mxnet as mx\n",
    "from mxnet import np as mxnp\n",
    "from mxnet import npx as npx\n",
    "npx.set_np()\n",
    "# import numpy as np\n",
    "\n",
    "from d2l import mxnet as mxd2l  # Use MXNet as the backend\n",
    "from d2l import torch as tcd2l  # Use PyTorch as the backend\n",
    "from d2l import tensorflow as tfd2l  # Use TensorFlow as the backend\n",
    "\n",
    "from d2l import mxnet as mxd2l  # Use MXNet as the backend\n",
    "from d2l import torch as tcd2l  # Use PyTorch as the backend\n",
    "from d2l import tensorflow as tfd2l  # Use TensorFlow as the backend\n",
    "\n",
    "tc.__version__,tf.__version__,mx.__version__"
   ]
  },
  {
   "cell_type": "code",
   "execution_count": 2,
   "metadata": {},
   "outputs": [],
   "source": [
    "from mxnet.gluon import nn\n",
    "from mxnet import init"
   ]
  },
  {
   "cell_type": "code",
   "execution_count": 3,
   "metadata": {},
   "outputs": [],
   "source": [
    "net=nn.Sequential()\n",
    "# with net.name_scope():\n",
    "#     net.add(nn.Dense(8,activation='relu'))\n",
    "#     net.add(nn.Dense(1))\n",
    "\n",
    "net.add(nn.Dense(8,activation='relu'))\n",
    "net.add(nn.Dense(1))\n",
    "net.initialize()"
   ]
  },
  {
   "cell_type": "code",
   "execution_count": 4,
   "metadata": {},
   "outputs": [
    {
     "data": {
      "text/plain": [
       "Sequential(\n",
       "  (0): Dense(-1 -> 8, Activation(relu))\n",
       "  (1): Dense(-1 -> 1, linear)\n",
       ")"
      ]
     },
     "execution_count": 4,
     "metadata": {},
     "output_type": "execute_result"
    }
   ],
   "source": [
    "net"
   ]
  },
  {
   "cell_type": "code",
   "execution_count": 5,
   "metadata": {},
   "outputs": [],
   "source": [
    "# net.name_scope??"
   ]
  },
  {
   "cell_type": "code",
   "execution_count": 6,
   "metadata": {},
   "outputs": [
    {
     "data": {
      "text/plain": [
       "((2, 4),\n",
       " array([[0.5488135 , 0.5928446 , 0.71518934, 0.84426576],\n",
       "        [0.60276335, 0.8579456 , 0.5448832 , 0.8472517 ]]))"
      ]
     },
     "execution_count": 6,
     "metadata": {},
     "output_type": "execute_result"
    }
   ],
   "source": [
    "X=mxnp.random.uniform(size=(2,4))\n",
    "X.shape,X"
   ]
  },
  {
   "cell_type": "code",
   "execution_count": 7,
   "metadata": {},
   "outputs": [
    {
     "data": {
      "text/plain": [
       "array([[0.0054572 ],\n",
       "       [0.00488594]])"
      ]
     },
     "execution_count": 7,
     "metadata": {},
     "output_type": "execute_result"
    }
   ],
   "source": [
    "net(X)"
   ]
  },
  {
   "cell_type": "code",
   "execution_count": 19,
   "metadata": {},
   "outputs": [
    {
     "data": {
      "text/plain": [
       "dense0_ (\n",
       "  Parameter dense0_weight (shape=(8, 4), dtype=float32)\n",
       "  Parameter dense0_bias (shape=(8,), dtype=float32)\n",
       ")"
      ]
     },
     "execution_count": 19,
     "metadata": {},
     "output_type": "execute_result"
    }
   ],
   "source": [
    "net[0].params"
   ]
  },
  {
   "cell_type": "code",
   "execution_count": 20,
   "metadata": {},
   "outputs": [
    {
     "data": {
      "text/plain": [
       "dense1_ (\n",
       "  Parameter dense1_weight (shape=(1, 8), dtype=float32)\n",
       "  Parameter dense1_bias (shape=(1,), dtype=float32)\n",
       ")"
      ]
     },
     "execution_count": 20,
     "metadata": {},
     "output_type": "execute_result"
    }
   ],
   "source": [
    "net[1].params"
   ]
  },
  {
   "cell_type": "code",
   "execution_count": 21,
   "metadata": {},
   "outputs": [
    {
     "data": {
      "text/plain": [
       "(Parameter dense1_weight (shape=(1, 8), dtype=float32),\n",
       " Parameter dense1_bias (shape=(1,), dtype=float32))"
      ]
     },
     "execution_count": 21,
     "metadata": {},
     "output_type": "execute_result"
    }
   ],
   "source": [
    "net[1].weight,net[1].bias"
   ]
  },
  {
   "cell_type": "code",
   "execution_count": 22,
   "metadata": {},
   "outputs": [
    {
     "data": {
      "text/plain": [
       "array([[ 0.06700657, -0.00369488,  0.0418822 ,  0.0421275 , -0.00539289,\n",
       "         0.00286685,  0.03927409,  0.02504314]])"
      ]
     },
     "execution_count": 22,
     "metadata": {},
     "output_type": "execute_result"
    }
   ],
   "source": [
    "net[1].weight.data()"
   ]
  },
  {
   "cell_type": "code",
   "execution_count": 23,
   "metadata": {},
   "outputs": [
    {
     "data": {
      "text/plain": [
       "array([0.])"
      ]
     },
     "execution_count": 23,
     "metadata": {},
     "output_type": "execute_result"
    }
   ],
   "source": [
    "net[1].bias.data()"
   ]
  },
  {
   "cell_type": "code",
   "execution_count": 13,
   "metadata": {},
   "outputs": [
    {
     "data": {
      "text/plain": [
       "array([[0., 0., 0., 0., 0., 0., 0., 0.]])"
      ]
     },
     "execution_count": 13,
     "metadata": {},
     "output_type": "execute_result"
    }
   ],
   "source": [
    "net[1].weight.grad()"
   ]
  },
  {
   "cell_type": "code",
   "execution_count": 14,
   "metadata": {},
   "outputs": [
    {
     "data": {
      "text/plain": [
       "array([0.])"
      ]
     },
     "execution_count": 14,
     "metadata": {},
     "output_type": "execute_result"
    }
   ],
   "source": [
    "net[1].bias.grad()"
   ]
  },
  {
   "cell_type": "code",
   "execution_count": 26,
   "metadata": {},
   "outputs": [
    {
     "data": {
      "text/plain": [
       "dense0_ (\n",
       "  Parameter dense0_weight (shape=(8, 4), dtype=float32)\n",
       "  Parameter dense0_bias (shape=(8,), dtype=float32)\n",
       ")"
      ]
     },
     "execution_count": 26,
     "metadata": {},
     "output_type": "execute_result"
    }
   ],
   "source": [
    "ps0=net[0].collect_params()\n",
    "ps0"
   ]
  },
  {
   "cell_type": "code",
   "execution_count": 27,
   "metadata": {},
   "outputs": [
    {
     "data": {
      "text/plain": [
       "Parameter dense0_weight (shape=(8, 4), dtype=float32)"
      ]
     },
     "execution_count": 27,
     "metadata": {},
     "output_type": "execute_result"
    }
   ],
   "source": [
    "ps0['dense0_weight']"
   ]
  },
  {
   "cell_type": "code",
   "execution_count": 28,
   "metadata": {},
   "outputs": [
    {
     "data": {
      "text/plain": [
       "array([[-0.01068833,  0.01729892,  0.02042518, -0.01618656],\n",
       "       [-0.00873779, -0.02834515,  0.05484822, -0.06206018],\n",
       "       [ 0.06491279, -0.03182812, -0.01631819, -0.00312688],\n",
       "       [ 0.0408415 ,  0.04370362,  0.00404529, -0.0028032 ],\n",
       "       [ 0.00952624, -0.01501013,  0.05958354,  0.04705103],\n",
       "       [-0.06005495, -0.02276454, -0.0578019 ,  0.02074406],\n",
       "       [-0.06716943, -0.01844618,  0.04656678,  0.06400172],\n",
       "       [ 0.03894195, -0.05035089,  0.0518017 ,  0.05181222]])"
      ]
     },
     "execution_count": 28,
     "metadata": {},
     "output_type": "execute_result"
    }
   ],
   "source": [
    "ps0['dense0_weight'].data()"
   ]
  },
  {
   "cell_type": "code",
   "execution_count": 29,
   "metadata": {},
   "outputs": [
    {
     "data": {
      "text/plain": [
       "array([[0., 0., 0., 0.],\n",
       "       [0., 0., 0., 0.],\n",
       "       [0., 0., 0., 0.],\n",
       "       [0., 0., 0., 0.],\n",
       "       [0., 0., 0., 0.],\n",
       "       [0., 0., 0., 0.],\n",
       "       [0., 0., 0., 0.],\n",
       "       [0., 0., 0., 0.]])"
      ]
     },
     "execution_count": 29,
     "metadata": {},
     "output_type": "execute_result"
    }
   ],
   "source": [
    "ps0['dense0_weight'].grad()"
   ]
  },
  {
   "cell_type": "code",
   "execution_count": 16,
   "metadata": {},
   "outputs": [
    {
     "data": {
      "text/plain": [
       "sequential0_ (\n",
       "  Parameter dense0_weight (shape=(8, 4), dtype=float32)\n",
       "  Parameter dense0_bias (shape=(8,), dtype=float32)\n",
       "  Parameter dense1_weight (shape=(1, 8), dtype=float32)\n",
       "  Parameter dense1_bias (shape=(1,), dtype=float32)\n",
       ")"
      ]
     },
     "execution_count": 16,
     "metadata": {},
     "output_type": "execute_result"
    }
   ],
   "source": [
    "net.collect_params()"
   ]
  },
  {
   "cell_type": "code",
   "execution_count": 18,
   "metadata": {},
   "outputs": [
    {
     "data": {
      "text/plain": [
       "Parameter dense0_weight (shape=(8, 4), dtype=float32)"
      ]
     },
     "execution_count": 18,
     "metadata": {},
     "output_type": "execute_result"
    }
   ],
   "source": [
    "net.collect_params()['dense0_weight']"
   ]
  },
  {
   "cell_type": "code",
   "execution_count": null,
   "metadata": {},
   "outputs": [],
   "source": [
    "net.collect_params()['dense4_weight'].data()"
   ]
  },
  {
   "cell_type": "code",
   "execution_count": null,
   "metadata": {},
   "outputs": [],
   "source": [
    "net.collect_params()['dense5_bias'].data()"
   ]
  },
  {
   "cell_type": "code",
   "execution_count": 31,
   "metadata": {},
   "outputs": [],
   "source": [
    "def block1():\n",
    "    net=nn.Sequential()\n",
    "    net.add(nn.Dense(32,activation='relu'))\n",
    "    net.add(nn.Dense(16,activation='relu'))\n",
    "    return net"
   ]
  },
  {
   "cell_type": "code",
   "execution_count": 32,
   "metadata": {},
   "outputs": [],
   "source": [
    "def block2():\n",
    "    net=nn.Sequential()\n",
    "    for _ in range(4):\n",
    "        net.add(block1())\n",
    "    return net"
   ]
  },
  {
   "cell_type": "code",
   "execution_count": 33,
   "metadata": {},
   "outputs": [],
   "source": [
    "rgnet=nn.Sequential()\n",
    "rgnet.add(block2())\n",
    "rgnet.add(nn.Dense(10))\n",
    "rgnet.initialize()\n"
   ]
  },
  {
   "cell_type": "code",
   "execution_count": 34,
   "metadata": {},
   "outputs": [
    {
     "data": {
      "text/plain": [
       "array([[-6.3465850e-09, -1.1096741e-09,  6.4161783e-09,  6.6354131e-09,\n",
       "        -1.1265494e-09,  1.3285140e-10,  9.3619370e-09,  3.2229102e-09,\n",
       "         5.9429874e-09,  8.8181427e-09],\n",
       "       [-8.6219414e-09, -7.5150730e-10,  8.3133251e-09,  8.9321119e-09,\n",
       "        -1.6740000e-09,  3.2406028e-10,  1.2115975e-08,  4.4926440e-09,\n",
       "         8.0741742e-09,  1.2075873e-08]])"
      ]
     },
     "execution_count": 34,
     "metadata": {},
     "output_type": "execute_result"
    }
   ],
   "source": [
    "rgnet(X)"
   ]
  },
  {
   "cell_type": "code",
   "execution_count": 35,
   "metadata": {},
   "outputs": [
    {
     "data": {
      "text/plain": [
       "((2, 4), (2, 10))"
      ]
     },
     "execution_count": 35,
     "metadata": {},
     "output_type": "execute_result"
    }
   ],
   "source": [
    "X.shape,rgnet(X).shape"
   ]
  },
  {
   "cell_type": "code",
   "execution_count": 36,
   "metadata": {},
   "outputs": [
    {
     "name": "stdout",
     "output_type": "stream",
     "text": [
      "--------------------------------------------------------------------------------\n",
      "        Layer (type)                                Output Shape         Param #\n",
      "================================================================================\n",
      "               Input                                      (2, 4)               0\n",
      "        Activation-1                                     (2, 32)               0\n",
      "             Dense-2                                     (2, 32)             160\n",
      "        Activation-3                                     (2, 16)               0\n",
      "             Dense-4                                     (2, 16)             528\n",
      "        Activation-5                                     (2, 32)               0\n",
      "             Dense-6                                     (2, 32)             544\n",
      "        Activation-7                                     (2, 16)               0\n",
      "             Dense-8                                     (2, 16)             528\n",
      "        Activation-9                                     (2, 32)               0\n",
      "            Dense-10                                     (2, 32)             544\n",
      "       Activation-11                                     (2, 16)               0\n",
      "            Dense-12                                     (2, 16)             528\n",
      "       Activation-13                                     (2, 32)               0\n",
      "            Dense-14                                     (2, 32)             544\n",
      "       Activation-15                                     (2, 16)               0\n",
      "            Dense-16                                     (2, 16)             528\n",
      "            Dense-17                                     (2, 10)             170\n",
      "================================================================================\n",
      "Parameters in forward computation graph, duplicate included\n",
      "   Total params: 4074\n",
      "   Trainable params: 4074\n",
      "   Non-trainable params: 0\n",
      "Shared params in forward computation graph: 0\n",
      "Unique parameters in model: 4074\n",
      "--------------------------------------------------------------------------------\n"
     ]
    }
   ],
   "source": [
    "rgnet.summary(X)"
   ]
  },
  {
   "cell_type": "code",
   "execution_count": 38,
   "metadata": {},
   "outputs": [
    {
     "data": {
      "text/plain": [
       "<bound method Block.collect_params of Sequential(\n",
       "  (0): Sequential(\n",
       "    (0): Sequential(\n",
       "      (0): Dense(4 -> 32, Activation(relu))\n",
       "      (1): Dense(32 -> 16, Activation(relu))\n",
       "    )\n",
       "    (1): Sequential(\n",
       "      (0): Dense(16 -> 32, Activation(relu))\n",
       "      (1): Dense(32 -> 16, Activation(relu))\n",
       "    )\n",
       "    (2): Sequential(\n",
       "      (0): Dense(16 -> 32, Activation(relu))\n",
       "      (1): Dense(32 -> 16, Activation(relu))\n",
       "    )\n",
       "    (3): Sequential(\n",
       "      (0): Dense(16 -> 32, Activation(relu))\n",
       "      (1): Dense(32 -> 16, Activation(relu))\n",
       "    )\n",
       "  )\n",
       "  (1): Dense(16 -> 10, linear)\n",
       ")>"
      ]
     },
     "execution_count": 38,
     "metadata": {},
     "output_type": "execute_result"
    }
   ],
   "source": [
    "rgnet.collect_params"
   ]
  },
  {
   "cell_type": "code",
   "execution_count": 48,
   "metadata": {},
   "outputs": [
    {
     "data": {
      "text/plain": [
       "(Dense(32 -> 16, Activation(relu)), (16, 32))"
      ]
     },
     "execution_count": 48,
     "metadata": {},
     "output_type": "execute_result"
    }
   ],
   "source": [
    "rgnet[0][1][1],rgnet[0][1][1].weight.data().shape"
   ]
  },
  {
   "cell_type": "code",
   "execution_count": 50,
   "metadata": {},
   "outputs": [
    {
     "data": {
      "text/plain": [
       "sequential1_ (\n",
       "  Parameter dense2_weight (shape=(32, 4), dtype=float32)\n",
       "  Parameter dense2_bias (shape=(32,), dtype=float32)\n",
       "  Parameter dense3_weight (shape=(16, 32), dtype=float32)\n",
       "  Parameter dense3_bias (shape=(16,), dtype=float32)\n",
       "  Parameter dense4_weight (shape=(32, 16), dtype=float32)\n",
       "  Parameter dense4_bias (shape=(32,), dtype=float32)\n",
       "  Parameter dense5_weight (shape=(16, 32), dtype=float32)\n",
       "  Parameter dense5_bias (shape=(16,), dtype=float32)\n",
       "  Parameter dense6_weight (shape=(32, 16), dtype=float32)\n",
       "  Parameter dense6_bias (shape=(32,), dtype=float32)\n",
       "  Parameter dense7_weight (shape=(16, 32), dtype=float32)\n",
       "  Parameter dense7_bias (shape=(16,), dtype=float32)\n",
       "  Parameter dense8_weight (shape=(32, 16), dtype=float32)\n",
       "  Parameter dense8_bias (shape=(32,), dtype=float32)\n",
       "  Parameter dense9_weight (shape=(16, 32), dtype=float32)\n",
       "  Parameter dense9_bias (shape=(16,), dtype=float32)\n",
       "  Parameter dense10_weight (shape=(10, 16), dtype=float32)\n",
       "  Parameter dense10_bias (shape=(10,), dtype=float32)\n",
       ")"
      ]
     },
     "execution_count": 50,
     "metadata": {},
     "output_type": "execute_result"
    }
   ],
   "source": [
    "all_ps=rgnet.collect_params()\n",
    "all_ps"
   ]
  },
  {
   "cell_type": "code",
   "execution_count": 57,
   "metadata": {},
   "outputs": [
    {
     "data": {
      "text/plain": [
       "'sequential1_'"
      ]
     },
     "execution_count": 57,
     "metadata": {},
     "output_type": "execute_result"
    }
   ],
   "source": [
    "all_ps.prefix"
   ]
  },
  {
   "cell_type": "code",
   "execution_count": 58,
   "metadata": {},
   "outputs": [
    {
     "data": {
      "text/plain": [
       "odict_items([('dense2_weight', Parameter dense2_weight (shape=(32, 4), dtype=float32)), ('dense2_bias', Parameter dense2_bias (shape=(32,), dtype=float32)), ('dense3_weight', Parameter dense3_weight (shape=(16, 32), dtype=float32)), ('dense3_bias', Parameter dense3_bias (shape=(16,), dtype=float32)), ('dense4_weight', Parameter dense4_weight (shape=(32, 16), dtype=float32)), ('dense4_bias', Parameter dense4_bias (shape=(32,), dtype=float32)), ('dense5_weight', Parameter dense5_weight (shape=(16, 32), dtype=float32)), ('dense5_bias', Parameter dense5_bias (shape=(16,), dtype=float32)), ('dense6_weight', Parameter dense6_weight (shape=(32, 16), dtype=float32)), ('dense6_bias', Parameter dense6_bias (shape=(32,), dtype=float32)), ('dense7_weight', Parameter dense7_weight (shape=(16, 32), dtype=float32)), ('dense7_bias', Parameter dense7_bias (shape=(16,), dtype=float32)), ('dense8_weight', Parameter dense8_weight (shape=(32, 16), dtype=float32)), ('dense8_bias', Parameter dense8_bias (shape=(32,), dtype=float32)), ('dense9_weight', Parameter dense9_weight (shape=(16, 32), dtype=float32)), ('dense9_bias', Parameter dense9_bias (shape=(16,), dtype=float32)), ('dense10_weight', Parameter dense10_weight (shape=(10, 16), dtype=float32)), ('dense10_bias', Parameter dense10_bias (shape=(10,), dtype=float32))])"
      ]
     },
     "execution_count": 58,
     "metadata": {},
     "output_type": "execute_result"
    }
   ],
   "source": [
    "all_ps.items()"
   ]
  },
  {
   "cell_type": "code",
   "execution_count": 59,
   "metadata": {},
   "outputs": [
    {
     "data": {
      "text/plain": [
       "odict_values([Parameter dense2_weight (shape=(32, 4), dtype=float32), Parameter dense2_bias (shape=(32,), dtype=float32), Parameter dense3_weight (shape=(16, 32), dtype=float32), Parameter dense3_bias (shape=(16,), dtype=float32), Parameter dense4_weight (shape=(32, 16), dtype=float32), Parameter dense4_bias (shape=(32,), dtype=float32), Parameter dense5_weight (shape=(16, 32), dtype=float32), Parameter dense5_bias (shape=(16,), dtype=float32), Parameter dense6_weight (shape=(32, 16), dtype=float32), Parameter dense6_bias (shape=(32,), dtype=float32), Parameter dense7_weight (shape=(16, 32), dtype=float32), Parameter dense7_bias (shape=(16,), dtype=float32), Parameter dense8_weight (shape=(32, 16), dtype=float32), Parameter dense8_bias (shape=(32,), dtype=float32), Parameter dense9_weight (shape=(16, 32), dtype=float32), Parameter dense9_bias (shape=(16,), dtype=float32), Parameter dense10_weight (shape=(10, 16), dtype=float32), Parameter dense10_bias (shape=(10,), dtype=float32)])"
      ]
     },
     "execution_count": 59,
     "metadata": {},
     "output_type": "execute_result"
    }
   ],
   "source": [
    "all_ps.values()"
   ]
  },
  {
   "cell_type": "code",
   "execution_count": 62,
   "metadata": {},
   "outputs": [
    {
     "data": {
      "text/plain": [
       "['_prefix',\n",
       " '_params',\n",
       " '_shared',\n",
       " '__module__',\n",
       " '__doc__',\n",
       " '__init__',\n",
       " '__repr__',\n",
       " '__getitem__',\n",
       " '__iter__',\n",
       " 'items',\n",
       " 'keys',\n",
       " 'values',\n",
       " 'prefix',\n",
       " '_get_impl',\n",
       " 'get',\n",
       " 'get_constant',\n",
       " 'update',\n",
       " 'initialize',\n",
       " 'zero_grad',\n",
       " 'reset_ctx',\n",
       " 'list_ctx',\n",
       " 'setattr',\n",
       " 'save',\n",
       " 'load',\n",
       " 'load_dict',\n",
       " '__dict__',\n",
       " '__weakref__',\n",
       " '__hash__',\n",
       " '__str__',\n",
       " '__getattribute__',\n",
       " '__setattr__',\n",
       " '__delattr__',\n",
       " '__lt__',\n",
       " '__le__',\n",
       " '__eq__',\n",
       " '__ne__',\n",
       " '__gt__',\n",
       " '__ge__',\n",
       " '__new__',\n",
       " '__reduce_ex__',\n",
       " '__reduce__',\n",
       " '__subclasshook__',\n",
       " '__init_subclass__',\n",
       " '__format__',\n",
       " '__sizeof__',\n",
       " '__dir__',\n",
       " '__class__']"
      ]
     },
     "execution_count": 62,
     "metadata": {},
     "output_type": "execute_result"
    }
   ],
   "source": [
    "all_ps.__dir__()"
   ]
  },
  {
   "cell_type": "code",
   "execution_count": 63,
   "metadata": {},
   "outputs": [],
   "source": [
    "# all_ps??"
   ]
  },
  {
   "cell_type": "code",
   "execution_count": 61,
   "metadata": {},
   "outputs": [
    {
     "data": {
      "text/plain": [
       "<bound method Parameter.data of Parameter dense6_weight (shape=(32, 4), dtype=float32)>"
      ]
     },
     "execution_count": 61,
     "metadata": {},
     "output_type": "execute_result"
    }
   ],
   "source": [
    "# rgnet[0][0][0].weight.data()\n",
    "rgnet[0][0][0].weight.data"
   ]
  },
  {
   "cell_type": "code",
   "execution_count": 56,
   "metadata": {},
   "outputs": [
    {
     "data": {
      "text/plain": [
       "(32, 4)"
      ]
     },
     "execution_count": 56,
     "metadata": {},
     "output_type": "execute_result"
    }
   ],
   "source": [
    "rgnet[0][0][0].weight.data().shape"
   ]
  },
  {
   "cell_type": "code",
   "execution_count": 62,
   "metadata": {},
   "outputs": [
    {
     "data": {
      "text/plain": [
       "Dense(16 -> 10, linear)"
      ]
     },
     "execution_count": 62,
     "metadata": {},
     "output_type": "execute_result"
    }
   ],
   "source": [
    "rgnet[1]"
   ]
  },
  {
   "cell_type": "code",
   "execution_count": 63,
   "metadata": {},
   "outputs": [
    {
     "data": {
      "text/plain": [
       "Sequential(\n",
       "  (0): Dense(16 -> 32, Activation(relu))\n",
       "  (1): Dense(32 -> 16, Activation(relu))\n",
       ")"
      ]
     },
     "execution_count": 63,
     "metadata": {},
     "output_type": "execute_result"
    }
   ],
   "source": [
    "rgnet[0][1]"
   ]
  },
  {
   "cell_type": "code",
   "execution_count": 64,
   "metadata": {},
   "outputs": [
    {
     "data": {
      "text/plain": [
       "Sequential(\n",
       "  (0): Dense(16 -> 32, Activation(relu))\n",
       "  (1): Dense(32 -> 16, Activation(relu))\n",
       ")"
      ]
     },
     "execution_count": 64,
     "metadata": {},
     "output_type": "execute_result"
    }
   ],
   "source": [
    "rgnet[0][2]"
   ]
  },
  {
   "cell_type": "code",
   "execution_count": 65,
   "metadata": {},
   "outputs": [
    {
     "data": {
      "text/plain": [
       "Sequential(\n",
       "  (0): Dense(16 -> 32, Activation(relu))\n",
       "  (1): Dense(32 -> 16, Activation(relu))\n",
       ")"
      ]
     },
     "execution_count": 65,
     "metadata": {},
     "output_type": "execute_result"
    }
   ],
   "source": [
    "rgnet[0][3]"
   ]
  },
  {
   "cell_type": "code",
   "execution_count": 67,
   "metadata": {},
   "outputs": [
    {
     "data": {
      "text/plain": [
       "Dense(16 -> 10, linear)"
      ]
     },
     "execution_count": 67,
     "metadata": {},
     "output_type": "execute_result"
    }
   ],
   "source": [
    "rgnet[1]"
   ]
  },
  {
   "cell_type": "code",
   "execution_count": 71,
   "metadata": {},
   "outputs": [],
   "source": [
    "ps=rgnet.collect_params"
   ]
  },
  {
   "cell_type": "code",
   "execution_count": 79,
   "metadata": {},
   "outputs": [
    {
     "data": {
      "text/plain": [
       "2"
      ]
     },
     "execution_count": 79,
     "metadata": {},
     "output_type": "execute_result"
    }
   ],
   "source": [
    "len(rgnet)"
   ]
  },
  {
   "cell_type": "code",
   "execution_count": 82,
   "metadata": {},
   "outputs": [
    {
     "data": {
      "text/plain": [
       "mxnet.gluon.nn.basic_layers.Sequential"
      ]
     },
     "execution_count": 82,
     "metadata": {},
     "output_type": "execute_result"
    }
   ],
   "source": [
    "type(rgnet)"
   ]
  },
  {
   "cell_type": "code",
   "execution_count": 83,
   "metadata": {},
   "outputs": [
    {
     "data": {
      "text/plain": [
       "[Sequential(\n",
       "   (0): Sequential(\n",
       "     (0): Dense(4 -> 32, Activation(relu))\n",
       "     (1): Dense(32 -> 16, Activation(relu))\n",
       "   )\n",
       "   (1): Sequential(\n",
       "     (0): Dense(16 -> 32, Activation(relu))\n",
       "     (1): Dense(32 -> 16, Activation(relu))\n",
       "   )\n",
       "   (2): Sequential(\n",
       "     (0): Dense(16 -> 32, Activation(relu))\n",
       "     (1): Dense(32 -> 16, Activation(relu))\n",
       "   )\n",
       "   (3): Sequential(\n",
       "     (0): Dense(16 -> 32, Activation(relu))\n",
       "     (1): Dense(32 -> 16, Activation(relu))\n",
       "   )\n",
       " ),\n",
       " Dense(16 -> 10, linear)]"
      ]
     },
     "execution_count": 83,
     "metadata": {},
     "output_type": "execute_result"
    }
   ],
   "source": [
    "list(rgnet)"
   ]
  },
  {
   "cell_type": "code",
   "execution_count": 80,
   "metadata": {},
   "outputs": [
    {
     "data": {
      "text/plain": [
       "4"
      ]
     },
     "execution_count": 80,
     "metadata": {},
     "output_type": "execute_result"
    }
   ],
   "source": [
    "len(rgnet[0])"
   ]
  },
  {
   "cell_type": "code",
   "execution_count": 81,
   "metadata": {},
   "outputs": [
    {
     "ename": "TypeError",
     "evalue": "object of type 'Dense' has no len()",
     "output_type": "error",
     "traceback": [
      "\u001b[1;31m---------------------------------------------------------------------------\u001b[0m",
      "\u001b[1;31mTypeError\u001b[0m                                 Traceback (most recent call last)",
      "\u001b[1;32m<ipython-input-81-216018a798c3>\u001b[0m in \u001b[0;36m<module>\u001b[1;34m\u001b[0m\n\u001b[1;32m----> 1\u001b[1;33m \u001b[0mlen\u001b[0m\u001b[1;33m(\u001b[0m\u001b[0mrgnet\u001b[0m\u001b[1;33m[\u001b[0m\u001b[1;36m1\u001b[0m\u001b[1;33m]\u001b[0m\u001b[1;33m)\u001b[0m\u001b[1;33m\u001b[0m\u001b[1;33m\u001b[0m\u001b[0m\n\u001b[0m",
      "\u001b[1;31mTypeError\u001b[0m: object of type 'Dense' has no len()"
     ]
    }
   ],
   "source": [
    "len(rgnet[1])"
   ]
  },
  {
   "cell_type": "code",
   "execution_count": 193,
   "metadata": {},
   "outputs": [],
   "source": [
    "def print_net_layers_details(net,l=-1):\n",
    "    if not isinstance(net,nn.Sequential):\n",
    "        #print(net)\n",
    "        pass\n",
    "    else:\n",
    "        #print(f\"Type:{type(net)}\")\n",
    "        l+=1\n",
    "        for i in range(len(net)):\n",
    "            print(f\"  {'  '*l}({l}):Type:{type(net[i])}\")\n",
    "            print_net_layers_details(net[i],l)            "
   ]
  },
  {
   "cell_type": "code",
   "execution_count": 203,
   "metadata": {},
   "outputs": [],
   "source": [
    "def print_net_layers_details(net,l=-1):\n",
    "    if not isinstance(net,nn.Sequential):\n",
    "        #print(net)\n",
    "        pass\n",
    "    else:\n",
    "        l+=1\n",
    "        for i in range(len(net)):\n",
    "            l_name=net[i].name\n",
    "            l_weight_name=l_name+'_weight'\n",
    "            #print(f\"  {'  '*l}({l}):{l_name},shape:{net[i].collect_params()[l_weight_name].data().shape}\")\n",
    "            print(f\"  {'   '*l}({l}):{l_name}\")\n",
    "            print_net_layers_details(net[i],l)   "
   ]
  },
  {
   "cell_type": "code",
   "execution_count": 204,
   "metadata": {},
   "outputs": [],
   "source": [
    "# len(net),net.qe"
   ]
  },
  {
   "cell_type": "code",
   "execution_count": 205,
   "metadata": {},
   "outputs": [
    {
     "name": "stdout",
     "output_type": "stream",
     "text": [
      "  (0):dense4\n",
      "  (0):dense5\n"
     ]
    }
   ],
   "source": [
    "print_net_layers_details(net)"
   ]
  },
  {
   "cell_type": "code",
   "execution_count": 206,
   "metadata": {},
   "outputs": [
    {
     "name": "stdout",
     "output_type": "stream",
     "text": [
      "  (0):sequential5\n",
      "     (1):sequential6\n",
      "        (2):dense6\n",
      "        (2):dense7\n",
      "     (1):sequential7\n",
      "        (2):dense8\n",
      "        (2):dense9\n",
      "     (1):sequential8\n",
      "        (2):dense10\n",
      "        (2):dense11\n",
      "     (1):sequential9\n",
      "        (2):dense12\n",
      "        (2):dense13\n",
      "  (0):dense14\n"
     ]
    }
   ],
   "source": [
    "print_net_layers_details(rgnet)"
   ]
  },
  {
   "cell_type": "code",
   "execution_count": 172,
   "metadata": {},
   "outputs": [
    {
     "ename": "AttributeError",
     "evalue": "'Sequential' object has no attribute 'dense6_weight'",
     "output_type": "error",
     "traceback": [
      "\u001b[1;31m---------------------------------------------------------------------------\u001b[0m",
      "\u001b[1;31mAttributeError\u001b[0m                            Traceback (most recent call last)",
      "\u001b[1;32m<ipython-input-172-895160f27793>\u001b[0m in \u001b[0;36m<module>\u001b[1;34m\u001b[0m\n\u001b[1;32m----> 1\u001b[1;33m \u001b[0mrgnet\u001b[0m\u001b[1;33m.\u001b[0m\u001b[0mdense6_weight\u001b[0m\u001b[1;33m\u001b[0m\u001b[1;33m\u001b[0m\u001b[0m\n\u001b[0m",
      "\u001b[1;31mAttributeError\u001b[0m: 'Sequential' object has no attribute 'dense6_weight'"
     ]
    }
   ],
   "source": [
    "rgnet.dense6_weight"
   ]
  },
  {
   "cell_type": "code",
   "execution_count": 174,
   "metadata": {},
   "outputs": [
    {
     "data": {
      "text/plain": [
       "sequential4_ (\n",
       "  Parameter dense6_weight (shape=(32, 4), dtype=float32)\n",
       "  Parameter dense6_bias (shape=(32,), dtype=float32)\n",
       "  Parameter dense7_weight (shape=(16, 32), dtype=float32)\n",
       "  Parameter dense7_bias (shape=(16,), dtype=float32)\n",
       "  Parameter dense8_weight (shape=(32, 16), dtype=float32)\n",
       "  Parameter dense8_bias (shape=(32,), dtype=float32)\n",
       "  Parameter dense9_weight (shape=(16, 32), dtype=float32)\n",
       "  Parameter dense9_bias (shape=(16,), dtype=float32)\n",
       "  Parameter dense10_weight (shape=(32, 16), dtype=float32)\n",
       "  Parameter dense10_bias (shape=(32,), dtype=float32)\n",
       "  Parameter dense11_weight (shape=(16, 32), dtype=float32)\n",
       "  Parameter dense11_bias (shape=(16,), dtype=float32)\n",
       "  Parameter dense12_weight (shape=(32, 16), dtype=float32)\n",
       "  Parameter dense12_bias (shape=(32,), dtype=float32)\n",
       "  Parameter dense13_weight (shape=(16, 32), dtype=float32)\n",
       "  Parameter dense13_bias (shape=(16,), dtype=float32)\n",
       "  Parameter dense14_weight (shape=(10, 16), dtype=float32)\n",
       "  Parameter dense14_bias (shape=(10,), dtype=float32)\n",
       ")"
      ]
     },
     "execution_count": 174,
     "metadata": {},
     "output_type": "execute_result"
    }
   ],
   "source": [
    "rgnet.collect_params()"
   ]
  },
  {
   "cell_type": "code",
   "execution_count": 177,
   "metadata": {},
   "outputs": [
    {
     "data": {
      "text/plain": [
       "Parameter dense6_weight (shape=(32, 4), dtype=float32)"
      ]
     },
     "execution_count": 177,
     "metadata": {},
     "output_type": "execute_result"
    }
   ],
   "source": [
    "rgnet.collect_params()[\"dense6_weight\"]"
   ]
  },
  {
   "cell_type": "code",
   "execution_count": 162,
   "metadata": {},
   "outputs": [
    {
     "data": {
      "text/plain": [
       "'sequential3'"
      ]
     },
     "execution_count": 162,
     "metadata": {},
     "output_type": "execute_result"
    }
   ],
   "source": [
    "net.name"
   ]
  },
  {
   "cell_type": "code",
   "execution_count": 68,
   "metadata": {},
   "outputs": [
    {
     "data": {
      "text/plain": [
       "array([-0.05344158,  0.03088857,  0.01958894,  0.01148278])"
      ]
     },
     "execution_count": 68,
     "metadata": {},
     "output_type": "execute_result"
    }
   ],
   "source": [
    "rgnet[0][0][0].weight.data()[0]"
   ]
  },
  {
   "cell_type": "code",
   "execution_count": 75,
   "metadata": {},
   "outputs": [],
   "source": [
    "rgnet.initialize(init=init.Normal(),force_reinit=True,verbose=False)"
   ]
  },
  {
   "cell_type": "code",
   "execution_count": 76,
   "metadata": {},
   "outputs": [
    {
     "data": {
      "text/plain": [
       "array([ 0.00055116, -0.01317326,  0.01149097, -0.00646666])"
      ]
     },
     "execution_count": 76,
     "metadata": {},
     "output_type": "execute_result"
    }
   ],
   "source": [
    "rgnet[0][0][0].weight.data()[0]"
   ]
  },
  {
   "cell_type": "code",
   "execution_count": 77,
   "metadata": {},
   "outputs": [
    {
     "data": {
      "text/plain": [
       "array(0.)"
      ]
     },
     "execution_count": 77,
     "metadata": {},
     "output_type": "execute_result"
    }
   ],
   "source": [
    "rgnet[0][0][0].bias.data()[0]"
   ]
  },
  {
   "cell_type": "code",
   "execution_count": 78,
   "metadata": {},
   "outputs": [
    {
     "data": {
      "text/plain": [
       "array([0., 0., 0., 0., 0., 0., 0., 0., 0., 0., 0., 0., 0., 0., 0., 0., 0.,\n",
       "       0., 0., 0., 0., 0., 0., 0., 0., 0., 0., 0., 0., 0., 0., 0.])"
      ]
     },
     "execution_count": 78,
     "metadata": {},
     "output_type": "execute_result"
    }
   ],
   "source": [
    "rgnet[0][0][0].bias.data()"
   ]
  },
  {
   "cell_type": "code",
   "execution_count": 82,
   "metadata": {},
   "outputs": [],
   "source": [
    "rgnet[0][0][0].bias.initialize(init=init.Constant(42), force_reinit=True)"
   ]
  },
  {
   "cell_type": "code",
   "execution_count": 83,
   "metadata": {},
   "outputs": [
    {
     "data": {
      "text/plain": [
       "array([42., 42., 42., 42., 42., 42., 42., 42., 42., 42., 42., 42., 42.,\n",
       "       42., 42., 42., 42., 42., 42., 42., 42., 42., 42., 42., 42., 42.,\n",
       "       42., 42., 42., 42., 42., 42.])"
      ]
     },
     "execution_count": 83,
     "metadata": {},
     "output_type": "execute_result"
    }
   ],
   "source": [
    "rgnet[0][0][0].bias.data()"
   ]
  },
  {
   "cell_type": "code",
   "execution_count": 84,
   "metadata": {},
   "outputs": [],
   "source": [
    "rgnet[0][0][0].bias.initialize(init=init.Normal(), force_reinit=True)"
   ]
  },
  {
   "cell_type": "code",
   "execution_count": 85,
   "metadata": {},
   "outputs": [
    {
     "data": {
      "text/plain": [
       "array([ 0.0110995 ,  0.01027754,  0.00117048,  0.0123198 , -0.01141737,\n",
       "        0.00026106,  0.00560496,  0.00522628, -0.01829545,  0.01075405,\n",
       "        0.00580612, -0.000322  , -0.00479999, -0.00329021,  0.00689593,\n",
       "       -0.02144433,  0.01524227, -0.00942547, -0.00180339,  0.01470467,\n",
       "       -0.00947481, -0.00560179, -0.02078937, -0.01483103, -0.01200161,\n",
       "        0.00546303,  0.01246248,  0.00443168,  0.00041833,  0.00467015,\n",
       "       -0.00327042,  0.01185161])"
      ]
     },
     "execution_count": 85,
     "metadata": {},
     "output_type": "execute_result"
    }
   ],
   "source": [
    "rgnet[0][0][0].bias.data()"
   ]
  },
  {
   "cell_type": "code",
   "execution_count": 160,
   "metadata": {},
   "outputs": [
    {
     "data": {
      "text/plain": [
       "mappingproxy({'__module__': 'mxnet.initializer',\n",
       "              '__doc__': 'The base class of an initializer.',\n",
       "              '__init__': <function mxnet.initializer.Initializer.__init__(self, **kwargs)>,\n",
       "              'set_verbosity': <function mxnet.initializer.Initializer.set_verbosity(self, verbose=False, print_func=None)>,\n",
       "              '_verbose_print': <function mxnet.initializer.Initializer._verbose_print(self, desc, init, arr)>,\n",
       "              'dumps': <function mxnet.initializer.Initializer.dumps(self)>,\n",
       "              '__call__': <function mxnet.initializer.Initializer.__call__(self, desc, arr)>,\n",
       "              '_legacy_init': <function mxnet.initializer.Initializer._legacy_init(self, name, arr)>,\n",
       "              '_init_bilinear': <function mxnet.initializer.Initializer._init_bilinear(self, _, arr)>,\n",
       "              '_init_loc_bias': <function mxnet.initializer.Initializer._init_loc_bias(self, _, arr)>,\n",
       "              '_init_zero': <function mxnet.initializer.Initializer._init_zero(self, _, arr)>,\n",
       "              '_init_one': <function mxnet.initializer.Initializer._init_one(self, _, arr)>,\n",
       "              '_init_bias': <function mxnet.initializer.Initializer._init_bias(self, _, arr)>,\n",
       "              '_init_quantized_bias': <function mxnet.initializer.Initializer._init_quantized_bias(self, _, arr)>,\n",
       "              '_init_gamma': <function mxnet.initializer.Initializer._init_gamma(self, _, arr)>,\n",
       "              '_init_beta': <function mxnet.initializer.Initializer._init_beta(self, _, arr)>,\n",
       "              '_init_weight': <function mxnet.initializer.Initializer._init_weight(self, name, arr)>,\n",
       "              '_init_quantized_weight': <function mxnet.initializer.Initializer._init_quantized_weight(self, _, arr)>,\n",
       "              '_init_default': <function mxnet.initializer.Initializer._init_default(self, name, _)>,\n",
       "              '__eq__': <function mxnet.initializer.Initializer.__eq__(self, other)>,\n",
       "              '__dict__': <attribute '__dict__' of 'Initializer' objects>,\n",
       "              '__weakref__': <attribute '__weakref__' of 'Initializer' objects>,\n",
       "              '__hash__': None})"
      ]
     },
     "execution_count": 160,
     "metadata": {},
     "output_type": "execute_result"
    }
   ],
   "source": [
    "init.Initializer.__dict__"
   ]
  },
  {
   "cell_type": "code",
   "execution_count": 149,
   "metadata": {},
   "outputs": [],
   "source": [
    "class MyInit(init.Initializer):\n",
    "    def _init_weight(self,name,data):\n",
    "        print(\"Init\",name,data.shape)\n",
    "        data[:]=mxnp.random.uniform(-10,10,data.shape)\n",
    "        print(f\"-10,10:\\n{data}\")\n",
    "        factor=mxnp.abs(data)>=5\n",
    "        print(f\"factor:{factor}\")\n",
    "        data *=factor\n",
    "        print(f\"factored data:\\n{data}\")\n",
    "        self._init_bias(name, data)\n",
    "    def _init_bias(self, name, data):\n",
    "        print(f\"_init_bias called!,name={name},data={data}\")        \n",
    "        data[:]=1.11"
   ]
  },
  {
   "cell_type": "code",
   "execution_count": 150,
   "metadata": {},
   "outputs": [
    {
     "data": {
      "text/plain": [
       "Sequential(\n",
       "  (0): Dense(4 -> 8, Activation(relu))\n",
       "  (1): Dense(8 -> 1, linear)\n",
       ")"
      ]
     },
     "execution_count": 150,
     "metadata": {},
     "output_type": "execute_result"
    }
   ],
   "source": [
    "net"
   ]
  },
  {
   "cell_type": "code",
   "execution_count": 152,
   "metadata": {},
   "outputs": [],
   "source": [
    "# net."
   ]
  },
  {
   "cell_type": "code",
   "execution_count": 153,
   "metadata": {},
   "outputs": [
    {
     "name": "stdout",
     "output_type": "stream",
     "text": [
      "Init dense0_weight (8, 4)\n",
      "-10,10:\n",
      "[[ 6.6337414  7.07259    9.012396  -9.367755 ]\n",
      " [-2.7147179  6.1081753  7.739073  -7.7084026]\n",
      " [ 7.177149  -5.229972   1.4760866  1.8462448]\n",
      " [-7.0485115  6.2846203  4.0829706  7.8691273]\n",
      " [ 8.895758   7.628229   6.386101  -8.593758 ]\n",
      " [-8.469378  -8.417879  -9.549531  -0.8415394]\n",
      " [-0.787282   3.1703672  8.260176   8.013813 ]\n",
      " [ 4.447256  -8.846274   9.987713  -2.7920098]]\n",
      "factor:[[ True  True  True  True]\n",
      " [False  True  True  True]\n",
      " [ True  True False False]\n",
      " [ True  True False  True]\n",
      " [ True  True  True  True]\n",
      " [ True  True  True False]\n",
      " [False False  True  True]\n",
      " [False  True  True False]]\n",
      "factored data:\n",
      "[[ 6.6337414  7.07259    9.012396  -9.367755 ]\n",
      " [-0.         6.1081753  7.739073  -7.7084026]\n",
      " [ 7.177149  -5.229972   0.         0.       ]\n",
      " [-7.0485115  6.2846203  0.         7.8691273]\n",
      " [ 8.895758   7.628229   6.386101  -8.593758 ]\n",
      " [-8.469378  -8.417879  -9.549531  -0.       ]\n",
      " [-0.         0.         8.260176   8.013813 ]\n",
      " [ 0.        -8.846274   9.987713  -0.       ]]\n",
      "_init_bias called!,name=dense0_weight,data=[[ 6.6337414  7.07259    9.012396  -9.367755 ]\n",
      " [-0.         6.1081753  7.739073  -7.7084026]\n",
      " [ 7.177149  -5.229972   0.         0.       ]\n",
      " [-7.0485115  6.2846203  0.         7.8691273]\n",
      " [ 8.895758   7.628229   6.386101  -8.593758 ]\n",
      " [-8.469378  -8.417879  -9.549531  -0.       ]\n",
      " [-0.         0.         8.260176   8.013813 ]\n",
      " [ 0.        -8.846274   9.987713  -0.       ]]\n",
      "Init dense1_weight (1, 8)\n",
      "-10,10:\n",
      "[[ 2.5459719   8.11277     7.6446      5.495119    6.2404995   6.4097576\n",
      "   0.77217865 -5.289061  ]]\n",
      "factor:[[False  True  True  True  True  True False  True]]\n",
      "factored data:\n",
      "[[ 0.         8.11277    7.6446     5.495119   6.2404995  6.4097576\n",
      "   0.        -5.289061 ]]\n",
      "_init_bias called!,name=dense1_weight,data=[[ 0.         8.11277    7.6446     5.495119   6.2404995  6.4097576\n",
      "   0.        -5.289061 ]]\n"
     ]
    }
   ],
   "source": [
    "net.initialize(init=MyInit(),force_reinit=True)"
   ]
  },
  {
   "cell_type": "code",
   "execution_count": 161,
   "metadata": {},
   "outputs": [
    {
     "data": {
      "text/plain": [
       "array([0., 0., 0., 0., 0., 0., 0., 0.])"
      ]
     },
     "execution_count": 161,
     "metadata": {},
     "output_type": "execute_result"
    }
   ],
   "source": [
    "net[0].bias.data()"
   ]
  },
  {
   "cell_type": "code",
   "execution_count": 170,
   "metadata": {},
   "outputs": [],
   "source": [
    "net[0].bias.initialize(init=init.Constant(0.0),force_reinit=True)"
   ]
  },
  {
   "cell_type": "code",
   "execution_count": 171,
   "metadata": {},
   "outputs": [],
   "source": [
    "# rgnet.initialize(init=MyInit(),force_reinit=True)"
   ]
  },
  {
   "cell_type": "code",
   "execution_count": 172,
   "metadata": {},
   "outputs": [
    {
     "data": {
      "text/plain": [
       "array([0., 0., 0., 0., 0., 0., 0., 0.])"
      ]
     },
     "execution_count": 172,
     "metadata": {},
     "output_type": "execute_result"
    }
   ],
   "source": [
    "net[0].bias.data()"
   ]
  },
  {
   "cell_type": "code",
   "execution_count": 179,
   "metadata": {},
   "outputs": [],
   "source": [
    "net[0].bias.data()[:]+=1.1"
   ]
  },
  {
   "cell_type": "code",
   "execution_count": 180,
   "metadata": {},
   "outputs": [
    {
     "data": {
      "text/plain": [
       "array([4.1, 4.1, 4.1, 4.1, 4.1, 4.1, 4.1, 4.1])"
      ]
     },
     "execution_count": 180,
     "metadata": {},
     "output_type": "execute_result"
    }
   ],
   "source": [
    "net[0].bias.data()"
   ]
  },
  {
   "cell_type": "code",
   "execution_count": 191,
   "metadata": {},
   "outputs": [
    {
     "ename": "AttributeError",
     "evalue": "'int' object has no attribute 'shape'",
     "output_type": "error",
     "traceback": [
      "\u001b[1;31m---------------------------------------------------------------------------\u001b[0m",
      "\u001b[1;31mAttributeError\u001b[0m                            Traceback (most recent call last)",
      "\u001b[1;32m<ipython-input-191-5f2e814dd048>\u001b[0m in \u001b[0;36m<module>\u001b[1;34m\u001b[0m\n\u001b[1;32m----> 1\u001b[1;33m \u001b[0mnet\u001b[0m\u001b[1;33m[\u001b[0m\u001b[1;36m0\u001b[0m\u001b[1;33m]\u001b[0m\u001b[1;33m.\u001b[0m\u001b[0mbias\u001b[0m\u001b[1;33m.\u001b[0m\u001b[0mset_data\u001b[0m\u001b[1;33m(\u001b[0m\u001b[1;36m1\u001b[0m\u001b[1;33m)\u001b[0m\u001b[1;33m\u001b[0m\u001b[1;33m\u001b[0m\u001b[0m\n\u001b[0m",
      "\u001b[1;32m~\\miniconda3\\envs\\d2l\\lib\\site-packages\\mxnet\\gluon\\parameter.py\u001b[0m in \u001b[0;36mset_data\u001b[1;34m(self, data)\u001b[0m\n\u001b[0;32m    495\u001b[0m     \u001b[1;32mdef\u001b[0m \u001b[0mset_data\u001b[0m\u001b[1;33m(\u001b[0m\u001b[0mself\u001b[0m\u001b[1;33m,\u001b[0m \u001b[0mdata\u001b[0m\u001b[1;33m)\u001b[0m\u001b[1;33m:\u001b[0m\u001b[1;33m\u001b[0m\u001b[1;33m\u001b[0m\u001b[0m\n\u001b[0;32m    496\u001b[0m         \u001b[1;34m\"\"\"Sets this parameter's value on all contexts.\"\"\"\u001b[0m\u001b[1;33m\u001b[0m\u001b[1;33m\u001b[0m\u001b[0m\n\u001b[1;32m--> 497\u001b[1;33m         \u001b[0mself\u001b[0m\u001b[1;33m.\u001b[0m\u001b[0mshape\u001b[0m \u001b[1;33m=\u001b[0m \u001b[0mdata\u001b[0m\u001b[1;33m.\u001b[0m\u001b[0mshape\u001b[0m\u001b[1;33m\u001b[0m\u001b[1;33m\u001b[0m\u001b[0m\n\u001b[0m\u001b[0;32m    498\u001b[0m \u001b[1;33m\u001b[0m\u001b[0m\n\u001b[0;32m    499\u001b[0m         \u001b[1;32mif\u001b[0m \u001b[0mself\u001b[0m\u001b[1;33m.\u001b[0m\u001b[0m_data\u001b[0m \u001b[1;32mis\u001b[0m \u001b[1;32mNone\u001b[0m\u001b[1;33m:\u001b[0m\u001b[1;33m\u001b[0m\u001b[1;33m\u001b[0m\u001b[0m\n",
      "\u001b[1;31mAttributeError\u001b[0m: 'int' object has no attribute 'shape'"
     ]
    }
   ],
   "source": [
    "net[0].bias.set_data(1)"
   ]
  },
  {
   "cell_type": "code",
   "execution_count": null,
   "metadata": {},
   "outputs": [],
   "source": [
    "net[0].bias.set_data"
   ]
  },
  {
   "cell_type": "code",
   "execution_count": null,
   "metadata": {},
   "outputs": [],
   "source": [
    "net[0].bias.set_data"
   ]
  },
  {
   "cell_type": "code",
   "execution_count": 189,
   "metadata": {},
   "outputs": [
    {
     "name": "stdout",
     "output_type": "stream",
     "text": [
      "Object `net.set_data` not found.\n"
     ]
    }
   ],
   "source": [
    "net.set_data??"
   ]
  },
  {
   "cell_type": "code",
   "execution_count": 205,
   "metadata": {},
   "outputs": [
    {
     "name": "stdout",
     "output_type": "stream",
     "text": [
      "Help on class Parameter in module mxnet.gluon.parameter:\n",
      "\n",
      "class Parameter(builtins.object)\n",
      " |  Parameter(name, grad_req='write', shape=None, dtype=<class 'numpy.float32'>, lr_mult=1.0, wd_mult=1.0, init=None, allow_deferred_init=False, differentiable=True, stype='default', grad_stype='default')\n",
      " |  \n",
      " |  A Container holding parameters (weights) of Blocks.\n",
      " |  \n",
      " |  :py:class:`Parameter` holds a copy of the parameter on each :py:class:`Context` after\n",
      " |  it is initialized with ``Parameter.initialize(...)``. If :py:attr:`grad_req` is\n",
      " |  not ``'null'``, it will also hold a gradient array on each :py:class:`Context`::\n",
      " |  \n",
      " |      ctx = mx.gpu(0)\n",
      " |      x = mx.nd.zeros((16, 100), ctx=ctx)\n",
      " |      w = mx.gluon.Parameter('fc_weight', shape=(64, 100), init=mx.init.Xavier())\n",
      " |      b = mx.gluon.Parameter('fc_bias', shape=(64,), init=mx.init.Zero())\n",
      " |      w.initialize(ctx=ctx)\n",
      " |      b.initialize(ctx=ctx)\n",
      " |      out = mx.nd.FullyConnected(x, w.data(ctx), b.data(ctx), num_hidden=64)\n",
      " |  \n",
      " |  Parameters\n",
      " |  ----------\n",
      " |  name : str\n",
      " |      Name of this parameter.\n",
      " |  grad_req : {'write', 'add', 'null'}, default 'write'\n",
      " |      Specifies how to update gradient to grad arrays.\n",
      " |  \n",
      " |      - ``'write'`` means everytime gradient is written to grad :py:class:`NDArray`.\n",
      " |      - ``'add'`` means everytime gradient is added to the grad :py:class:`NDArray`. You need\n",
      " |        to manually call ``zero_grad()`` to clear the gradient buffer before each\n",
      " |        iteration when using this option.\n",
      " |      - 'null' means gradient is not requested for this parameter. gradient arrays\n",
      " |        will not be allocated.\n",
      " |  shape : int or tuple of int, default None\n",
      " |      Shape of this parameter. By default shape is not specified. Parameter with\n",
      " |      unknown shape can be used for :py:class:`Symbol` API, but ``init`` will throw an error\n",
      " |      when using :py:class:`NDArray` API.\n",
      " |  dtype : numpy.dtype or str, default 'float32'\n",
      " |      Data type of this parameter. For example, ``numpy.float32`` or ``'float32'``.\n",
      " |  lr_mult : float, default 1.0\n",
      " |      Learning rate multiplier. Learning rate will be multiplied by lr_mult\n",
      " |      when updating this parameter with optimizer.\n",
      " |  wd_mult : float, default 1.0\n",
      " |      Weight decay multiplier (L2 regularizer coefficient). Works similar to lr_mult.\n",
      " |  init : Initializer, default None\n",
      " |      Initializer of this parameter. Will use the global initializer by default.\n",
      " |  stype: {'default', 'row_sparse', 'csr'}, defaults to 'default'.\n",
      " |      The storage type of the parameter.\n",
      " |  grad_stype: {'default', 'row_sparse', 'csr'}, defaults to 'default'.\n",
      " |      The storage type of the parameter's gradient.\n",
      " |  \n",
      " |  Attributes\n",
      " |  ----------\n",
      " |  grad_req : {'write', 'add', 'null'}\n",
      " |      This can be set before or after initialization. Setting ``grad_req`` to ``'null'``\n",
      " |      with ``x.grad_req = 'null'`` saves memory and computation when you don't\n",
      " |      need gradient w.r.t x.\n",
      " |  lr_mult : float\n",
      " |      Local learning rate multiplier for this Parameter. The actual learning rate\n",
      " |      is calculated with ``learning_rate * lr_mult``. You can set it with\n",
      " |      ``param.lr_mult = 2.0``\n",
      " |  wd_mult : float\n",
      " |      Local weight decay multiplier for this Parameter.\n",
      " |  \n",
      " |  Methods defined here:\n",
      " |  \n",
      " |  __init__(self, name, grad_req='write', shape=None, dtype=<class 'numpy.float32'>, lr_mult=1.0, wd_mult=1.0, init=None, allow_deferred_init=False, differentiable=True, stype='default', grad_stype='default')\n",
      " |      Initialize self.  See help(type(self)) for accurate signature.\n",
      " |  \n",
      " |  __repr__(self)\n",
      " |      Return repr(self).\n",
      " |  \n",
      " |  cast(self, dtype)\n",
      " |      Cast data and gradient of this Parameter to a new data type.\n",
      " |      \n",
      " |      Parameters\n",
      " |      ----------\n",
      " |      dtype : str or numpy.dtype\n",
      " |          The new data type.\n",
      " |  \n",
      " |  data(self, ctx=None)\n",
      " |      Returns a copy of this parameter on one context. Must have been\n",
      " |      initialized on this context before. For sparse parameters, use\n",
      " |      :py:meth:`Parameter.row_sparse_data` instead.\n",
      " |      \n",
      " |      Parameters\n",
      " |      ----------\n",
      " |      ctx : Context\n",
      " |          Desired context.\n",
      " |      \n",
      " |      Returns\n",
      " |      -------\n",
      " |      NDArray on ctx\n",
      " |  \n",
      " |  grad(self, ctx=None)\n",
      " |      Returns a gradient buffer for this parameter on one context.\n",
      " |      \n",
      " |      Parameters\n",
      " |      ----------\n",
      " |      ctx : Context\n",
      " |          Desired context.\n",
      " |  \n",
      " |  initialize(self, init=None, ctx=None, default_init=<mxnet.initializer.Uniform object at 0x0000020E7FA7B310>, force_reinit=False)\n",
      " |      Initializes parameter and gradient arrays. Only used for :py:class:`NDArray` API.\n",
      " |      \n",
      " |      Parameters\n",
      " |      ----------\n",
      " |      init : Initializer\n",
      " |          The initializer to use. Overrides :py:meth:`Parameter.init` and default_init.\n",
      " |      ctx : Context or list of Context, defaults to :py:meth:`context.current_context()`.\n",
      " |          Initialize Parameter on given context. If ctx is a list of Context, a\n",
      " |          copy will be made for each context.\n",
      " |      \n",
      " |          .. note::\n",
      " |              Copies are independent arrays. User is responsible for keeping\n",
      " |              their values consistent when updating.\n",
      " |              Normally :py:class:`gluon.Trainer` does this for you.\n",
      " |      \n",
      " |      default_init : Initializer\n",
      " |          Default initializer is used when both :py:func:`init`\n",
      " |          and :py:meth:`Parameter.init` are ``None``.\n",
      " |      force_reinit : bool, default False\n",
      " |          Whether to force re-initialization if parameter is already initialized.\n",
      " |      \n",
      " |      Examples\n",
      " |      --------\n",
      " |      >>> weight = mx.gluon.Parameter('weight', shape=(2, 2))\n",
      " |      >>> weight.initialize(ctx=mx.cpu(0))\n",
      " |      >>> weight.data()\n",
      " |      [[-0.01068833  0.01729892]\n",
      " |       [ 0.02042518 -0.01618656]]\n",
      " |      <NDArray 2x2 @cpu(0)>\n",
      " |      >>> weight.grad()\n",
      " |      [[ 0.  0.]\n",
      " |       [ 0.  0.]]\n",
      " |      <NDArray 2x2 @cpu(0)>\n",
      " |      >>> weight.initialize(ctx=[mx.gpu(0), mx.gpu(1)])\n",
      " |      >>> weight.data(mx.gpu(0))\n",
      " |      [[-0.00873779 -0.02834515]\n",
      " |       [ 0.05484822 -0.06206018]]\n",
      " |      <NDArray 2x2 @gpu(0)>\n",
      " |      >>> weight.data(mx.gpu(1))\n",
      " |      [[-0.00873779 -0.02834515]\n",
      " |       [ 0.05484822 -0.06206018]]\n",
      " |      <NDArray 2x2 @gpu(1)>\n",
      " |  \n",
      " |  list_ctx(self)\n",
      " |      Returns a list of contexts this parameter is initialized on.\n",
      " |  \n",
      " |  list_data(self)\n",
      " |      Returns copies of this parameter on all contexts, in the same order\n",
      " |      as creation. For sparse parameters, use :py:meth:`Parameter.list_row_sparse_data`\n",
      " |      instead.\n",
      " |      \n",
      " |      Returns\n",
      " |      -------\n",
      " |      list of NDArrays\n",
      " |  \n",
      " |  list_grad(self)\n",
      " |      Returns gradient buffers on all contexts, in the same order\n",
      " |      as :py:meth:`values`.\n",
      " |  \n",
      " |  list_row_sparse_data(self, row_id)\n",
      " |      Returns copies of the 'row_sparse' parameter on all contexts, in the same order\n",
      " |      as creation. The copy only retains rows whose ids occur in provided row ids.\n",
      " |      The parameter must have been initialized before.\n",
      " |      \n",
      " |      Parameters\n",
      " |      ----------\n",
      " |      row_id: NDArray\n",
      " |          Row ids to retain for the 'row_sparse' parameter.\n",
      " |      \n",
      " |      Returns\n",
      " |      -------\n",
      " |      list of NDArrays\n",
      " |  \n",
      " |  reset_ctx(self, ctx)\n",
      " |      Re-assign Parameter to other contexts.\n",
      " |      \n",
      " |      Parameters\n",
      " |      ----------\n",
      " |      ctx : Context or list of Context, default ``context.current_context()``.\n",
      " |          Assign Parameter to given context. If ctx is a list of Context, a\n",
      " |          copy will be made for each context.\n",
      " |  \n",
      " |  row_sparse_data(self, row_id)\n",
      " |      Returns a copy of the 'row_sparse' parameter on the same context as row_id's.\n",
      " |      The copy only retains rows whose ids occur in provided row ids.\n",
      " |      The parameter must have been initialized on this context before.\n",
      " |      \n",
      " |      Parameters\n",
      " |      ----------\n",
      " |      row_id: NDArray\n",
      " |          Row ids to retain for the 'row_sparse' parameter.\n",
      " |      \n",
      " |      Returns\n",
      " |      -------\n",
      " |      NDArray on row_id's context\n",
      " |  \n",
      " |  set_data(self, data)\n",
      " |      Sets this parameter's value on all contexts.\n",
      " |  \n",
      " |  var(self)\n",
      " |      Returns a symbol representing this parameter.\n",
      " |  \n",
      " |  zero_grad(self)\n",
      " |      Sets gradient buffer on all contexts to 0. No action is taken if\n",
      " |      parameter is uninitialized or doesn't require gradient.\n",
      " |  \n",
      " |  ----------------------------------------------------------------------\n",
      " |  Data descriptors defined here:\n",
      " |  \n",
      " |  __dict__\n",
      " |      dictionary for instance variables (if defined)\n",
      " |  \n",
      " |  __weakref__\n",
      " |      list of weak references to the object (if defined)\n",
      " |  \n",
      " |  dtype\n",
      " |      The type of the parameter.\n",
      " |      \n",
      " |      Setting the dtype value is equivalent to casting the value of the parameter\n",
      " |  \n",
      " |  grad_req\n",
      " |  \n",
      " |  shape\n",
      " |      The shape of the parameter.\n",
      " |      \n",
      " |      By default, an unknown dimension size is 0. However, when the NumPy semantic\n",
      " |      is turned on, unknown dimension size is -1.\n",
      "\n"
     ]
    }
   ],
   "source": [
    "help(mx.gluon.Parameter)"
   ]
  },
  {
   "cell_type": "markdown",
   "metadata": {},
   "source": [
    "## ---5.2.3. Tied Parameters"
   ]
  },
  {
   "cell_type": "code",
   "execution_count": 227,
   "metadata": {},
   "outputs": [],
   "source": [
    "net=nn.Sequential()\n",
    "shared=nn.Dense(8,activation='relu')"
   ]
  },
  {
   "cell_type": "code",
   "execution_count": 228,
   "metadata": {},
   "outputs": [],
   "source": [
    "net.add(nn.Dense(8,activation='relu'),\n",
    "        shared,\n",
    "        nn.Dense(8,activation='relu',params=shared.params),\n",
    "        nn.Dense(10)\n",
    "       )"
   ]
  },
  {
   "cell_type": "code",
   "execution_count": 229,
   "metadata": {},
   "outputs": [
    {
     "data": {
      "text/plain": [
       "array([[-2.1250595e-04,  1.8790623e-05, -8.4716550e-05, -5.5808996e-05,\n",
       "        -5.9902501e-05,  5.3465628e-05, -3.5292582e-05,  3.8800637e-05,\n",
       "        -1.4099345e-04,  3.2080083e-05],\n",
       "       [-3.0736171e-04,  1.9917868e-05, -1.4329508e-04, -7.0946102e-05,\n",
       "        -7.3313502e-05,  5.9338534e-05, -6.6079527e-05,  5.8100843e-05,\n",
       "        -2.0833977e-04,  6.6165143e-05]])"
      ]
     },
     "execution_count": 229,
     "metadata": {},
     "output_type": "execute_result"
    }
   ],
   "source": [
    "net.initialize()\n",
    "X = mxnp.random.uniform(size=(2, 20))\n",
    "net(X)"
   ]
  },
  {
   "cell_type": "code",
   "execution_count": 230,
   "metadata": {},
   "outputs": [
    {
     "data": {
      "text/plain": [
       "Sequential(\n",
       "  (0): Dense(20 -> 8, Activation(relu))\n",
       "  (1): Dense(8 -> 8, Activation(relu))\n",
       "  (2): Dense(8 -> 8, Activation(relu))\n",
       "  (3): Dense(8 -> 10, linear)\n",
       ")"
      ]
     },
     "execution_count": 230,
     "metadata": {},
     "output_type": "execute_result"
    }
   ],
   "source": [
    "net"
   ]
  },
  {
   "cell_type": "code",
   "execution_count": 231,
   "metadata": {},
   "outputs": [
    {
     "data": {
      "text/plain": [
       "array([[ 0.0003989 ,  0.06467754, -0.06415183, -0.0044894 ,  0.04645038,\n",
       "        -0.03191967,  0.00962504,  0.00032905],\n",
       "       [-0.05347276, -0.05808223,  0.06686059, -0.02243201, -0.02966708,\n",
       "        -0.02598768, -0.03744306,  0.01313522],\n",
       "       [ 0.05144552, -0.02406184,  0.03482223,  0.02472705, -0.00093874,\n",
       "        -0.00144684,  0.05293112,  0.05540768],\n",
       "       [-0.00513945, -0.05274353, -0.06629816, -0.06857597,  0.03105516,\n",
       "        -0.00392253, -0.03308609, -0.03342582],\n",
       "       [-0.02473748, -0.01061019,  0.06016981,  0.06766913,  0.01706763,\n",
       "         0.06049497,  0.03693354, -0.01908711],\n",
       "       [ 0.00470132,  0.02634631,  0.01266788, -0.02322487,  0.03734159,\n",
       "        -0.01236327,  0.06247991, -0.06183095],\n",
       "       [ 0.02938278, -0.05197422, -0.06606058,  0.03735435, -0.02002081,\n",
       "         0.06628404,  0.03830533,  0.03782804],\n",
       "       [-0.06532781,  0.05832445,  0.05319418, -0.02658434,  0.02415888,\n",
       "        -0.01762218, -0.03679934, -0.06199735]])"
      ]
     },
     "execution_count": 231,
     "metadata": {},
     "output_type": "execute_result"
    }
   ],
   "source": [
    "net[1].weight.data()"
   ]
  },
  {
   "cell_type": "code",
   "execution_count": 232,
   "metadata": {},
   "outputs": [
    {
     "data": {
      "text/plain": [
       "array([[ 0.0003989 ,  0.06467754, -0.06415183, -0.0044894 ,  0.04645038,\n",
       "        -0.03191967,  0.00962504,  0.00032905],\n",
       "       [-0.05347276, -0.05808223,  0.06686059, -0.02243201, -0.02966708,\n",
       "        -0.02598768, -0.03744306,  0.01313522],\n",
       "       [ 0.05144552, -0.02406184,  0.03482223,  0.02472705, -0.00093874,\n",
       "        -0.00144684,  0.05293112,  0.05540768],\n",
       "       [-0.00513945, -0.05274353, -0.06629816, -0.06857597,  0.03105516,\n",
       "        -0.00392253, -0.03308609, -0.03342582],\n",
       "       [-0.02473748, -0.01061019,  0.06016981,  0.06766913,  0.01706763,\n",
       "         0.06049497,  0.03693354, -0.01908711],\n",
       "       [ 0.00470132,  0.02634631,  0.01266788, -0.02322487,  0.03734159,\n",
       "        -0.01236327,  0.06247991, -0.06183095],\n",
       "       [ 0.02938278, -0.05197422, -0.06606058,  0.03735435, -0.02002081,\n",
       "         0.06628404,  0.03830533,  0.03782804],\n",
       "       [-0.06532781,  0.05832445,  0.05319418, -0.02658434,  0.02415888,\n",
       "        -0.01762218, -0.03679934, -0.06199735]])"
      ]
     },
     "execution_count": 232,
     "metadata": {},
     "output_type": "execute_result"
    }
   ],
   "source": [
    "net[2].weight.data()"
   ]
  },
  {
   "cell_type": "code",
   "execution_count": 233,
   "metadata": {},
   "outputs": [
    {
     "data": {
      "text/plain": [
       "array([[ True,  True,  True,  True,  True,  True,  True,  True],\n",
       "       [ True,  True,  True,  True,  True,  True,  True,  True],\n",
       "       [ True,  True,  True,  True,  True,  True,  True,  True],\n",
       "       [ True,  True,  True,  True,  True,  True,  True,  True],\n",
       "       [ True,  True,  True,  True,  True,  True,  True,  True],\n",
       "       [ True,  True,  True,  True,  True,  True,  True,  True],\n",
       "       [ True,  True,  True,  True,  True,  True,  True,  True],\n",
       "       [ True,  True,  True,  True,  True,  True,  True,  True]])"
      ]
     },
     "execution_count": 233,
     "metadata": {},
     "output_type": "execute_result"
    }
   ],
   "source": [
    "net[1].weight.data()==net[2].weight.data()"
   ]
  },
  {
   "cell_type": "code",
   "execution_count": 234,
   "metadata": {},
   "outputs": [],
   "source": [
    "net[1].weight.data()[0, 0] = 100"
   ]
  },
  {
   "cell_type": "code",
   "execution_count": 235,
   "metadata": {},
   "outputs": [
    {
     "data": {
      "text/plain": [
       "array([[ 1.0000000e+02,  6.4677544e-02, -6.4151831e-02, -4.4893995e-03,\n",
       "         4.6450377e-02, -3.1919666e-02,  9.6250400e-03,  3.2905489e-04],\n",
       "       [-5.3472757e-02, -5.8082234e-02,  6.6860594e-02, -2.2432011e-02,\n",
       "        -2.9667076e-02, -2.5987685e-02, -3.7443057e-02,  1.3135217e-02],\n",
       "       [ 5.1445521e-02, -2.4061840e-02,  3.4822233e-02,  2.4727054e-02,\n",
       "        -9.3874335e-04, -1.4468357e-03,  5.2931115e-02,  5.5407681e-02],\n",
       "       [-5.1394477e-03, -5.2743532e-02, -6.6298164e-02, -6.8575971e-02,\n",
       "         3.1055160e-02, -3.9225295e-03, -3.3086088e-02, -3.3425819e-02],\n",
       "       [-2.4737481e-02, -1.0610189e-02,  6.0169809e-02,  6.7669131e-02,\n",
       "         1.7067634e-02,  6.0494967e-02,  3.6933541e-02, -1.9087110e-02],\n",
       "       [ 4.7013164e-03,  2.6346311e-02,  1.2667879e-02, -2.3224872e-02,\n",
       "         3.7341587e-02, -1.2363274e-02,  6.2479906e-02, -6.1830945e-02],\n",
       "       [ 2.9382780e-02, -5.1974218e-02, -6.6060580e-02,  3.7354350e-02,\n",
       "        -2.0020809e-02,  6.6284038e-02,  3.8305327e-02,  3.7828043e-02],\n",
       "       [-6.5327808e-02,  5.8324449e-02,  5.3194180e-02, -2.6584338e-02,\n",
       "         2.4158880e-02, -1.7622177e-02, -3.6799341e-02, -6.1997354e-02]])"
      ]
     },
     "execution_count": 235,
     "metadata": {},
     "output_type": "execute_result"
    }
   ],
   "source": [
    "net[1].weight.data()"
   ]
  },
  {
   "cell_type": "code",
   "execution_count": 236,
   "metadata": {},
   "outputs": [
    {
     "data": {
      "text/plain": [
       "array([[ 1.0000000e+02,  6.4677544e-02, -6.4151831e-02, -4.4893995e-03,\n",
       "         4.6450377e-02, -3.1919666e-02,  9.6250400e-03,  3.2905489e-04],\n",
       "       [-5.3472757e-02, -5.8082234e-02,  6.6860594e-02, -2.2432011e-02,\n",
       "        -2.9667076e-02, -2.5987685e-02, -3.7443057e-02,  1.3135217e-02],\n",
       "       [ 5.1445521e-02, -2.4061840e-02,  3.4822233e-02,  2.4727054e-02,\n",
       "        -9.3874335e-04, -1.4468357e-03,  5.2931115e-02,  5.5407681e-02],\n",
       "       [-5.1394477e-03, -5.2743532e-02, -6.6298164e-02, -6.8575971e-02,\n",
       "         3.1055160e-02, -3.9225295e-03, -3.3086088e-02, -3.3425819e-02],\n",
       "       [-2.4737481e-02, -1.0610189e-02,  6.0169809e-02,  6.7669131e-02,\n",
       "         1.7067634e-02,  6.0494967e-02,  3.6933541e-02, -1.9087110e-02],\n",
       "       [ 4.7013164e-03,  2.6346311e-02,  1.2667879e-02, -2.3224872e-02,\n",
       "         3.7341587e-02, -1.2363274e-02,  6.2479906e-02, -6.1830945e-02],\n",
       "       [ 2.9382780e-02, -5.1974218e-02, -6.6060580e-02,  3.7354350e-02,\n",
       "        -2.0020809e-02,  6.6284038e-02,  3.8305327e-02,  3.7828043e-02],\n",
       "       [-6.5327808e-02,  5.8324449e-02,  5.3194180e-02, -2.6584338e-02,\n",
       "         2.4158880e-02, -1.7622177e-02, -3.6799341e-02, -6.1997354e-02]])"
      ]
     },
     "execution_count": 236,
     "metadata": {},
     "output_type": "execute_result"
    }
   ],
   "source": [
    "net[2].weight.data()"
   ]
  },
  {
   "cell_type": "code",
   "execution_count": 237,
   "metadata": {},
   "outputs": [
    {
     "data": {
      "text/plain": [
       "array([[ True,  True,  True,  True,  True,  True,  True,  True],\n",
       "       [ True,  True,  True,  True,  True,  True,  True,  True],\n",
       "       [ True,  True,  True,  True,  True,  True,  True,  True],\n",
       "       [ True,  True,  True,  True,  True,  True,  True,  True],\n",
       "       [ True,  True,  True,  True,  True,  True,  True,  True],\n",
       "       [ True,  True,  True,  True,  True,  True,  True,  True],\n",
       "       [ True,  True,  True,  True,  True,  True,  True,  True],\n",
       "       [ True,  True,  True,  True,  True,  True,  True,  True]])"
      ]
     },
     "execution_count": 237,
     "metadata": {},
     "output_type": "execute_result"
    }
   ],
   "source": [
    "net[1].weight.data()==net[2].weight.data()"
   ]
  },
  {
   "cell_type": "code",
   "execution_count": 238,
   "metadata": {},
   "outputs": [],
   "source": [
    "net[2].weight.data()[0,1]=10."
   ]
  },
  {
   "cell_type": "code",
   "execution_count": 239,
   "metadata": {},
   "outputs": [
    {
     "data": {
      "text/plain": [
       "array(10.)"
      ]
     },
     "execution_count": 239,
     "metadata": {},
     "output_type": "execute_result"
    }
   ],
   "source": [
    "net[1].weight.data()[0,1]"
   ]
  },
  {
   "cell_type": "code",
   "execution_count": 240,
   "metadata": {},
   "outputs": [
    {
     "data": {
      "text/plain": [
       "array([[ True,  True,  True,  True,  True,  True,  True,  True],\n",
       "       [ True,  True,  True,  True,  True,  True,  True,  True],\n",
       "       [ True,  True,  True,  True,  True,  True,  True,  True],\n",
       "       [ True,  True,  True,  True,  True,  True,  True,  True],\n",
       "       [ True,  True,  True,  True,  True,  True,  True,  True],\n",
       "       [ True,  True,  True,  True,  True,  True,  True,  True],\n",
       "       [ True,  True,  True,  True,  True,  True,  True,  True],\n",
       "       [ True,  True,  True,  True,  True,  True,  True,  True]])"
      ]
     },
     "execution_count": 240,
     "metadata": {},
     "output_type": "execute_result"
    }
   ],
   "source": [
    "net[1].weight.data()==net[2].weight.data()"
   ]
  },
  {
   "cell_type": "markdown",
   "metadata": {},
   "source": [
    "##  --torch"
   ]
  },
  {
   "cell_type": "code",
   "execution_count": 358,
   "metadata": {},
   "outputs": [],
   "source": [
    "import torch\n",
    "from torch import nn"
   ]
  },
  {
   "cell_type": "code",
   "execution_count": 242,
   "metadata": {},
   "outputs": [
    {
     "data": {
      "text/plain": [
       "tensor([[-0.0979],\n",
       "        [-0.0531]], grad_fn=<AddmmBackward>)"
      ]
     },
     "execution_count": 242,
     "metadata": {},
     "output_type": "execute_result"
    }
   ],
   "source": [
    "net = nn.Sequential(nn.Linear(4, 8), nn.ReLU(), nn.Linear(8, 1))\n",
    "X = torch.rand(size=(2, 4))\n",
    "net(X)"
   ]
  },
  {
   "cell_type": "code",
   "execution_count": 244,
   "metadata": {},
   "outputs": [
    {
     "data": {
      "text/plain": [
       "Sequential(\n",
       "  (0): Linear(in_features=4, out_features=8, bias=True)\n",
       "  (1): ReLU()\n",
       "  (2): Linear(in_features=8, out_features=1, bias=True)\n",
       ")"
      ]
     },
     "execution_count": 244,
     "metadata": {},
     "output_type": "execute_result"
    }
   ],
   "source": [
    "net"
   ]
  },
  {
   "cell_type": "code",
   "execution_count": 245,
   "metadata": {},
   "outputs": [
    {
     "data": {
      "text/plain": [
       "Linear(in_features=4, out_features=8, bias=True)"
      ]
     },
     "execution_count": 245,
     "metadata": {},
     "output_type": "execute_result"
    }
   ],
   "source": [
    "net[0]"
   ]
  },
  {
   "cell_type": "code",
   "execution_count": 246,
   "metadata": {},
   "outputs": [
    {
     "data": {
      "text/plain": [
       "ReLU()"
      ]
     },
     "execution_count": 246,
     "metadata": {},
     "output_type": "execute_result"
    }
   ],
   "source": [
    "net[1]"
   ]
  },
  {
   "cell_type": "code",
   "execution_count": 247,
   "metadata": {},
   "outputs": [
    {
     "data": {
      "text/plain": [
       "Linear(in_features=8, out_features=1, bias=True)"
      ]
     },
     "execution_count": 247,
     "metadata": {},
     "output_type": "execute_result"
    }
   ],
   "source": [
    "net[2]"
   ]
  },
  {
   "cell_type": "code",
   "execution_count": 250,
   "metadata": {},
   "outputs": [
    {
     "data": {
      "text/plain": [
       "3"
      ]
     },
     "execution_count": 250,
     "metadata": {},
     "output_type": "execute_result"
    }
   ],
   "source": [
    "len(net)"
   ]
  },
  {
   "cell_type": "code",
   "execution_count": 251,
   "metadata": {},
   "outputs": [
    {
     "ename": "IndexError",
     "evalue": "index 3 is out of range",
     "output_type": "error",
     "traceback": [
      "\u001b[1;31m---------------------------------------------------------------------------\u001b[0m",
      "\u001b[1;31mIndexError\u001b[0m                                Traceback (most recent call last)",
      "\u001b[1;32m<ipython-input-251-429a62f715c4>\u001b[0m in \u001b[0;36m<module>\u001b[1;34m\u001b[0m\n\u001b[1;32m----> 1\u001b[1;33m \u001b[0mnet\u001b[0m\u001b[1;33m[\u001b[0m\u001b[1;36m3\u001b[0m\u001b[1;33m]\u001b[0m\u001b[1;33m\u001b[0m\u001b[1;33m\u001b[0m\u001b[0m\n\u001b[0m",
      "\u001b[1;32m~\\miniconda3\\envs\\d2l\\lib\\site-packages\\torch\\nn\\modules\\container.py\u001b[0m in \u001b[0;36m__getitem__\u001b[1;34m(self, idx)\u001b[0m\n\u001b[0;32m     81\u001b[0m             \u001b[1;32mreturn\u001b[0m \u001b[0mself\u001b[0m\u001b[1;33m.\u001b[0m\u001b[0m__class__\u001b[0m\u001b[1;33m(\u001b[0m\u001b[0mOrderedDict\u001b[0m\u001b[1;33m(\u001b[0m\u001b[0mlist\u001b[0m\u001b[1;33m(\u001b[0m\u001b[0mself\u001b[0m\u001b[1;33m.\u001b[0m\u001b[0m_modules\u001b[0m\u001b[1;33m.\u001b[0m\u001b[0mitems\u001b[0m\u001b[1;33m(\u001b[0m\u001b[1;33m)\u001b[0m\u001b[1;33m)\u001b[0m\u001b[1;33m[\u001b[0m\u001b[0midx\u001b[0m\u001b[1;33m]\u001b[0m\u001b[1;33m)\u001b[0m\u001b[1;33m)\u001b[0m\u001b[1;33m\u001b[0m\u001b[1;33m\u001b[0m\u001b[0m\n\u001b[0;32m     82\u001b[0m         \u001b[1;32melse\u001b[0m\u001b[1;33m:\u001b[0m\u001b[1;33m\u001b[0m\u001b[1;33m\u001b[0m\u001b[0m\n\u001b[1;32m---> 83\u001b[1;33m             \u001b[1;32mreturn\u001b[0m \u001b[0mself\u001b[0m\u001b[1;33m.\u001b[0m\u001b[0m_get_item_by_idx\u001b[0m\u001b[1;33m(\u001b[0m\u001b[0mself\u001b[0m\u001b[1;33m.\u001b[0m\u001b[0m_modules\u001b[0m\u001b[1;33m.\u001b[0m\u001b[0mvalues\u001b[0m\u001b[1;33m(\u001b[0m\u001b[1;33m)\u001b[0m\u001b[1;33m,\u001b[0m \u001b[0midx\u001b[0m\u001b[1;33m)\u001b[0m\u001b[1;33m\u001b[0m\u001b[1;33m\u001b[0m\u001b[0m\n\u001b[0m\u001b[0;32m     84\u001b[0m \u001b[1;33m\u001b[0m\u001b[0m\n\u001b[0;32m     85\u001b[0m     \u001b[1;32mdef\u001b[0m \u001b[0m__setitem__\u001b[0m\u001b[1;33m(\u001b[0m\u001b[0mself\u001b[0m\u001b[1;33m,\u001b[0m \u001b[0midx\u001b[0m\u001b[1;33m:\u001b[0m \u001b[0mint\u001b[0m\u001b[1;33m,\u001b[0m \u001b[0mmodule\u001b[0m\u001b[1;33m:\u001b[0m \u001b[0mModule\u001b[0m\u001b[1;33m)\u001b[0m \u001b[1;33m->\u001b[0m \u001b[1;32mNone\u001b[0m\u001b[1;33m:\u001b[0m\u001b[1;33m\u001b[0m\u001b[1;33m\u001b[0m\u001b[0m\n",
      "\u001b[1;32m~\\miniconda3\\envs\\d2l\\lib\\site-packages\\torch\\nn\\modules\\container.py\u001b[0m in \u001b[0;36m_get_item_by_idx\u001b[1;34m(self, iterator, idx)\u001b[0m\n\u001b[0;32m     72\u001b[0m         \u001b[0midx\u001b[0m \u001b[1;33m=\u001b[0m \u001b[0moperator\u001b[0m\u001b[1;33m.\u001b[0m\u001b[0mindex\u001b[0m\u001b[1;33m(\u001b[0m\u001b[0midx\u001b[0m\u001b[1;33m)\u001b[0m\u001b[1;33m\u001b[0m\u001b[1;33m\u001b[0m\u001b[0m\n\u001b[0;32m     73\u001b[0m         \u001b[1;32mif\u001b[0m \u001b[1;32mnot\u001b[0m \u001b[1;33m-\u001b[0m\u001b[0msize\u001b[0m \u001b[1;33m<=\u001b[0m \u001b[0midx\u001b[0m \u001b[1;33m<\u001b[0m \u001b[0msize\u001b[0m\u001b[1;33m:\u001b[0m\u001b[1;33m\u001b[0m\u001b[1;33m\u001b[0m\u001b[0m\n\u001b[1;32m---> 74\u001b[1;33m             \u001b[1;32mraise\u001b[0m \u001b[0mIndexError\u001b[0m\u001b[1;33m(\u001b[0m\u001b[1;34m'index {} is out of range'\u001b[0m\u001b[1;33m.\u001b[0m\u001b[0mformat\u001b[0m\u001b[1;33m(\u001b[0m\u001b[0midx\u001b[0m\u001b[1;33m)\u001b[0m\u001b[1;33m)\u001b[0m\u001b[1;33m\u001b[0m\u001b[1;33m\u001b[0m\u001b[0m\n\u001b[0m\u001b[0;32m     75\u001b[0m         \u001b[0midx\u001b[0m \u001b[1;33m%=\u001b[0m \u001b[0msize\u001b[0m\u001b[1;33m\u001b[0m\u001b[1;33m\u001b[0m\u001b[0m\n\u001b[0;32m     76\u001b[0m         \u001b[1;32mreturn\u001b[0m \u001b[0mnext\u001b[0m\u001b[1;33m(\u001b[0m\u001b[0mislice\u001b[0m\u001b[1;33m(\u001b[0m\u001b[0miterator\u001b[0m\u001b[1;33m,\u001b[0m \u001b[0midx\u001b[0m\u001b[1;33m,\u001b[0m \u001b[1;32mNone\u001b[0m\u001b[1;33m)\u001b[0m\u001b[1;33m)\u001b[0m\u001b[1;33m\u001b[0m\u001b[1;33m\u001b[0m\u001b[0m\n",
      "\u001b[1;31mIndexError\u001b[0m: index 3 is out of range"
     ]
    }
   ],
   "source": [
    "net[3]"
   ]
  },
  {
   "cell_type": "code",
   "execution_count": 253,
   "metadata": {},
   "outputs": [
    {
     "data": {
      "text/plain": [
       "OrderedDict([('weight',\n",
       "              tensor([[-0.2462, -0.0022,  0.2605, -0.2276,  0.1718,  0.1981,  0.0372,  0.0573]])),\n",
       "             ('bias', tensor([0.0677]))])"
      ]
     },
     "execution_count": 253,
     "metadata": {},
     "output_type": "execute_result"
    }
   ],
   "source": [
    "net[2].state_dict()"
   ]
  },
  {
   "cell_type": "code",
   "execution_count": 254,
   "metadata": {},
   "outputs": [
    {
     "data": {
      "text/plain": [
       "Parameter containing:\n",
       "tensor([[-0.2462, -0.0022,  0.2605, -0.2276,  0.1718,  0.1981,  0.0372,  0.0573]],\n",
       "       requires_grad=True)"
      ]
     },
     "execution_count": 254,
     "metadata": {},
     "output_type": "execute_result"
    }
   ],
   "source": [
    "net[2].weight"
   ]
  },
  {
   "cell_type": "code",
   "execution_count": 255,
   "metadata": {},
   "outputs": [
    {
     "data": {
      "text/plain": [
       "tensor([[-0.2462, -0.0022,  0.2605, -0.2276,  0.1718,  0.1981,  0.0372,  0.0573]])"
      ]
     },
     "execution_count": 255,
     "metadata": {},
     "output_type": "execute_result"
    }
   ],
   "source": [
    "net[2].weight.data"
   ]
  },
  {
   "cell_type": "code",
   "execution_count": 256,
   "metadata": {},
   "outputs": [
    {
     "data": {
      "text/plain": [
       "torch.float32"
      ]
     },
     "execution_count": 256,
     "metadata": {},
     "output_type": "execute_result"
    }
   ],
   "source": [
    "net[2].weight.data.dtype"
   ]
  },
  {
   "cell_type": "code",
   "execution_count": 258,
   "metadata": {},
   "outputs": [
    {
     "data": {
      "text/plain": [
       "(None, None)"
      ]
     },
     "execution_count": 258,
     "metadata": {},
     "output_type": "execute_result"
    }
   ],
   "source": [
    "net[2].weight.grad,net[2].weight.grad"
   ]
  },
  {
   "cell_type": "code",
   "execution_count": 259,
   "metadata": {},
   "outputs": [
    {
     "data": {
      "text/plain": [
       "<generator object Module.named_parameters at 0x0000020E41BE3040>"
      ]
     },
     "execution_count": 259,
     "metadata": {},
     "output_type": "execute_result"
    }
   ],
   "source": [
    "net.named_parameters()"
   ]
  },
  {
   "cell_type": "code",
   "execution_count": 260,
   "metadata": {},
   "outputs": [
    {
     "data": {
      "text/plain": [
       "[('0.weight',\n",
       "  Parameter containing:\n",
       "  tensor([[ 0.4088,  0.0157,  0.3174,  0.4552],\n",
       "          [ 0.4190, -0.4450,  0.1210, -0.4408],\n",
       "          [-0.4061,  0.1100,  0.1412,  0.1877],\n",
       "          [ 0.2792,  0.4302, -0.2359, -0.0999],\n",
       "          [-0.1740, -0.1502, -0.3748, -0.2132],\n",
       "          [-0.2526,  0.4556, -0.2180, -0.3074],\n",
       "          [ 0.2574, -0.2946,  0.1812, -0.3666],\n",
       "          [ 0.0712,  0.2555,  0.3182,  0.3894]], requires_grad=True)),\n",
       " ('0.bias',\n",
       "  Parameter containing:\n",
       "  tensor([-0.2001, -0.1859,  0.0203,  0.4270,  0.0506,  0.4136,  0.2259,  0.1288],\n",
       "         requires_grad=True)),\n",
       " ('2.weight',\n",
       "  Parameter containing:\n",
       "  tensor([[-0.2462, -0.0022,  0.2605, -0.2276,  0.1718,  0.1981,  0.0372,  0.0573]],\n",
       "         requires_grad=True)),\n",
       " ('2.bias',\n",
       "  Parameter containing:\n",
       "  tensor([0.0677], requires_grad=True))]"
      ]
     },
     "execution_count": 260,
     "metadata": {},
     "output_type": "execute_result"
    }
   ],
   "source": [
    "list(net.named_parameters())"
   ]
  },
  {
   "cell_type": "code",
   "execution_count": 261,
   "metadata": {},
   "outputs": [
    {
     "data": {
      "text/plain": [
       "[('0.weight', torch.Size([8, 4])),\n",
       " ('0.bias', torch.Size([8])),\n",
       " ('2.weight', torch.Size([1, 8])),\n",
       " ('2.bias', torch.Size([1]))]"
      ]
     },
     "execution_count": 261,
     "metadata": {},
     "output_type": "execute_result"
    }
   ],
   "source": [
    "[(name,param.shape) for name,param in net.named_parameters()]"
   ]
  },
  {
   "cell_type": "code",
   "execution_count": 262,
   "metadata": {},
   "outputs": [
    {
     "data": {
      "text/plain": [
       "[('weight', torch.Size([8, 4])), ('bias', torch.Size([8]))]"
      ]
     },
     "execution_count": 262,
     "metadata": {},
     "output_type": "execute_result"
    }
   ],
   "source": [
    "[(name,param.shape) for name,param in net[0].named_parameters()]"
   ]
  },
  {
   "cell_type": "code",
   "execution_count": 263,
   "metadata": {},
   "outputs": [
    {
     "data": {
      "text/plain": [
       "[('weight', torch.Size([1, 8])), ('bias', torch.Size([1]))]"
      ]
     },
     "execution_count": 263,
     "metadata": {},
     "output_type": "execute_result"
    }
   ],
   "source": [
    "[(name,param.shape) for name,param in net[2].named_parameters()]"
   ]
  },
  {
   "cell_type": "code",
   "execution_count": 264,
   "metadata": {},
   "outputs": [
    {
     "data": {
      "text/plain": [
       "[]"
      ]
     },
     "execution_count": 264,
     "metadata": {},
     "output_type": "execute_result"
    }
   ],
   "source": [
    "[(name,param.shape) for name,param in net[1].named_parameters()]"
   ]
  },
  {
   "cell_type": "code",
   "execution_count": 265,
   "metadata": {},
   "outputs": [
    {
     "data": {
      "text/plain": [
       "tensor([[-0.2462, -0.0022,  0.2605, -0.2276,  0.1718,  0.1981,  0.0372,  0.0573]])"
      ]
     },
     "execution_count": 265,
     "metadata": {},
     "output_type": "execute_result"
    }
   ],
   "source": [
    "net[2].state_dict()[\"weight\"]"
   ]
  },
  {
   "cell_type": "code",
   "execution_count": 266,
   "metadata": {},
   "outputs": [
    {
     "data": {
      "text/plain": [
       "tensor([[ 0.4088,  0.0157,  0.3174,  0.4552],\n",
       "        [ 0.4190, -0.4450,  0.1210, -0.4408],\n",
       "        [-0.4061,  0.1100,  0.1412,  0.1877],\n",
       "        [ 0.2792,  0.4302, -0.2359, -0.0999],\n",
       "        [-0.1740, -0.1502, -0.3748, -0.2132],\n",
       "        [-0.2526,  0.4556, -0.2180, -0.3074],\n",
       "        [ 0.2574, -0.2946,  0.1812, -0.3666],\n",
       "        [ 0.0712,  0.2555,  0.3182,  0.3894]])"
      ]
     },
     "execution_count": 266,
     "metadata": {},
     "output_type": "execute_result"
    }
   ],
   "source": [
    "net.state_dict()['0.weight']"
   ]
  },
  {
   "cell_type": "code",
   "execution_count": 268,
   "metadata": {},
   "outputs": [
    {
     "data": {
      "text/plain": [
       "tensor([[ 0.4088,  0.0157,  0.3174,  0.4552],\n",
       "        [ 0.4190, -0.4450,  0.1210, -0.4408],\n",
       "        [-0.4061,  0.1100,  0.1412,  0.1877],\n",
       "        [ 0.2792,  0.4302, -0.2359, -0.0999],\n",
       "        [-0.1740, -0.1502, -0.3748, -0.2132],\n",
       "        [-0.2526,  0.4556, -0.2180, -0.3074],\n",
       "        [ 0.2574, -0.2946,  0.1812, -0.3666],\n",
       "        [ 0.0712,  0.2555,  0.3182,  0.3894]])"
      ]
     },
     "execution_count": 268,
     "metadata": {},
     "output_type": "execute_result"
    }
   ],
   "source": [
    "net[0].weight.data"
   ]
  },
  {
   "cell_type": "code",
   "execution_count": 269,
   "metadata": {},
   "outputs": [
    {
     "data": {
      "text/plain": [
       "tensor([[0.2787],\n",
       "        [0.2788]], grad_fn=<AddmmBackward>)"
      ]
     },
     "execution_count": 269,
     "metadata": {},
     "output_type": "execute_result"
    }
   ],
   "source": [
    "def block1():\n",
    "    return nn.Sequential(nn.Linear(4, 8), nn.ReLU(),\n",
    "                         nn.Linear(8, 4), nn.ReLU())\n",
    "\n",
    "def block2():\n",
    "    net = nn.Sequential()\n",
    "    for i in range(4):\n",
    "        # Nested here\n",
    "        net.add_module(f'block {i}', block1())\n",
    "    return net\n",
    "\n",
    "rgnet = nn.Sequential(block2(), nn.Linear(4, 1))\n",
    "rgnet(X)"
   ]
  },
  {
   "cell_type": "code",
   "execution_count": 270,
   "metadata": {},
   "outputs": [
    {
     "data": {
      "text/plain": [
       "Sequential(\n",
       "  (0): Sequential(\n",
       "    (block 0): Sequential(\n",
       "      (0): Linear(in_features=4, out_features=8, bias=True)\n",
       "      (1): ReLU()\n",
       "      (2): Linear(in_features=8, out_features=4, bias=True)\n",
       "      (3): ReLU()\n",
       "    )\n",
       "    (block 1): Sequential(\n",
       "      (0): Linear(in_features=4, out_features=8, bias=True)\n",
       "      (1): ReLU()\n",
       "      (2): Linear(in_features=8, out_features=4, bias=True)\n",
       "      (3): ReLU()\n",
       "    )\n",
       "    (block 2): Sequential(\n",
       "      (0): Linear(in_features=4, out_features=8, bias=True)\n",
       "      (1): ReLU()\n",
       "      (2): Linear(in_features=8, out_features=4, bias=True)\n",
       "      (3): ReLU()\n",
       "    )\n",
       "    (block 3): Sequential(\n",
       "      (0): Linear(in_features=4, out_features=8, bias=True)\n",
       "      (1): ReLU()\n",
       "      (2): Linear(in_features=8, out_features=4, bias=True)\n",
       "      (3): ReLU()\n",
       "    )\n",
       "  )\n",
       "  (1): Linear(in_features=4, out_features=1, bias=True)\n",
       ")"
      ]
     },
     "execution_count": 270,
     "metadata": {},
     "output_type": "execute_result"
    }
   ],
   "source": [
    "rgnet"
   ]
  },
  {
   "cell_type": "code",
   "execution_count": 276,
   "metadata": {},
   "outputs": [
    {
     "data": {
      "text/plain": [
       "tensor([[ 0.2465, -0.1762, -0.0527, -0.3288],\n",
       "        [ 0.3619,  0.0370,  0.3797,  0.0367],\n",
       "        [-0.1266,  0.2676, -0.4161, -0.4609],\n",
       "        [-0.4198, -0.2046,  0.2989, -0.3051],\n",
       "        [-0.1959,  0.2850, -0.0159,  0.4352],\n",
       "        [-0.3871, -0.2042,  0.3062, -0.3165],\n",
       "        [ 0.2053, -0.2228,  0.0427, -0.4909],\n",
       "        [ 0.0053,  0.3339, -0.0767,  0.4009]])"
      ]
     },
     "execution_count": 276,
     "metadata": {},
     "output_type": "execute_result"
    }
   ],
   "source": [
    "rgnet[0][3][0].weight.data"
   ]
  },
  {
   "cell_type": "code",
   "execution_count": 277,
   "metadata": {},
   "outputs": [
    {
     "data": {
      "text/plain": [
       "tensor([-0.1548, -0.2233,  0.1993, -0.4676,  0.1049, -0.2364,  0.2601,  0.1327])"
      ]
     },
     "execution_count": 277,
     "metadata": {},
     "output_type": "execute_result"
    }
   ],
   "source": [
    "rgnet[0][3][0].bias.data"
   ]
  },
  {
   "cell_type": "code",
   "execution_count": 278,
   "metadata": {},
   "outputs": [
    {
     "data": {
      "text/plain": [
       "Linear(in_features=4, out_features=8, bias=True)"
      ]
     },
     "execution_count": 278,
     "metadata": {},
     "output_type": "execute_result"
    }
   ],
   "source": [
    "nn.Linear(4,8)"
   ]
  },
  {
   "cell_type": "code",
   "execution_count": 279,
   "metadata": {},
   "outputs": [
    {
     "data": {
      "text/plain": [
       "<generator object Module.modules at 0x0000020E421A74A0>"
      ]
     },
     "execution_count": 279,
     "metadata": {},
     "output_type": "execute_result"
    }
   ],
   "source": [
    "rgnet.modules()"
   ]
  },
  {
   "cell_type": "code",
   "execution_count": 348,
   "metadata": {},
   "outputs": [],
   "source": [
    "# len(list(rgnet.modules())),list(rgnet.modules())"
   ]
  },
  {
   "cell_type": "code",
   "execution_count": 286,
   "metadata": {},
   "outputs": [
    {
     "data": {
      "text/plain": [
       "generator"
      ]
     },
     "execution_count": 286,
     "metadata": {},
     "output_type": "execute_result"
    }
   ],
   "source": [
    "type(rgnet.modules())"
   ]
  },
  {
   "cell_type": "code",
   "execution_count": 285,
   "metadata": {},
   "outputs": [
    {
     "name": "stdout",
     "output_type": "stream",
     "text": [
      "___________\n",
      "___________\n",
      "___________\n",
      "___________\n",
      "Linear(in_features=4, out_features=8, bias=True)\n",
      "___________\n",
      "___________\n",
      "Linear(in_features=8, out_features=4, bias=True)\n",
      "___________\n",
      "___________\n",
      "___________\n",
      "Linear(in_features=4, out_features=8, bias=True)\n",
      "___________\n",
      "___________\n",
      "Linear(in_features=8, out_features=4, bias=True)\n",
      "___________\n",
      "___________\n",
      "___________\n",
      "Linear(in_features=4, out_features=8, bias=True)\n",
      "___________\n",
      "___________\n",
      "Linear(in_features=8, out_features=4, bias=True)\n",
      "___________\n",
      "___________\n",
      "___________\n",
      "Linear(in_features=4, out_features=8, bias=True)\n",
      "___________\n",
      "___________\n",
      "Linear(in_features=8, out_features=4, bias=True)\n",
      "___________\n",
      "___________\n",
      "Linear(in_features=4, out_features=1, bias=True)\n"
     ]
    }
   ],
   "source": [
    "for m in rgnet.modules():\n",
    "    print(\"___________\")\n",
    "    if isinstance(m,nn.Linear):\n",
    "        print(m)"
   ]
  },
  {
   "cell_type": "code",
   "execution_count": 351,
   "metadata": {},
   "outputs": [],
   "source": [
    "def init_normal(m):\n",
    "    if isinstance(m,nn.Linear):\n",
    "        nn.init.normal_(m.weight,std=0.5)\n",
    "        nn.init.ones_(m.bias)"
   ]
  },
  {
   "cell_type": "code",
   "execution_count": 352,
   "metadata": {},
   "outputs": [],
   "source": [
    "rgnet.apply(init_normal);"
   ]
  },
  {
   "cell_type": "code",
   "execution_count": 353,
   "metadata": {},
   "outputs": [
    {
     "data": {
      "text/plain": [
       "tensor(0.4334)"
      ]
     },
     "execution_count": 353,
     "metadata": {},
     "output_type": "execute_result"
    }
   ],
   "source": [
    "rgnet[0][0][0].weight.data.std()"
   ]
  },
  {
   "cell_type": "code",
   "execution_count": 354,
   "metadata": {},
   "outputs": [
    {
     "data": {
      "text/plain": [
       "tensor([1., 1., 1., 1., 1., 1., 1., 1.])"
      ]
     },
     "execution_count": 354,
     "metadata": {},
     "output_type": "execute_result"
    }
   ],
   "source": [
    "rgnet[0][0][0].bias.data"
   ]
  },
  {
   "cell_type": "code",
   "execution_count": 343,
   "metadata": {},
   "outputs": [],
   "source": [
    "def init_module(m):\n",
    "    for m in m.modules():\n",
    "        if isinstance(m,nn.Linear):\n",
    "            nn.init.normal_(m.weight,mean=3,std=10.)\n",
    "            nn.init.constant_(m.bias,10)"
   ]
  },
  {
   "cell_type": "code",
   "execution_count": 344,
   "metadata": {},
   "outputs": [],
   "source": [
    "init_module(rgnet)"
   ]
  },
  {
   "cell_type": "code",
   "execution_count": 345,
   "metadata": {},
   "outputs": [
    {
     "data": {
      "text/plain": [
       "tensor(10.8022)"
      ]
     },
     "execution_count": 345,
     "metadata": {},
     "output_type": "execute_result"
    }
   ],
   "source": [
    "rgnet[0][0][0].weight.data.std()"
   ]
  },
  {
   "cell_type": "code",
   "execution_count": 346,
   "metadata": {},
   "outputs": [
    {
     "data": {
      "text/plain": [
       "tensor(0.6286)"
      ]
     },
     "execution_count": 346,
     "metadata": {},
     "output_type": "execute_result"
    }
   ],
   "source": [
    "rgnet[0][0][0].weight.data.mean()"
   ]
  },
  {
   "cell_type": "code",
   "execution_count": 347,
   "metadata": {},
   "outputs": [
    {
     "data": {
      "text/plain": [
       "tensor([10., 10., 10., 10., 10., 10., 10., 10.])"
      ]
     },
     "execution_count": 347,
     "metadata": {},
     "output_type": "execute_result"
    }
   ],
   "source": [
    "rgnet[0][0][0].bias.data"
   ]
  },
  {
   "cell_type": "code",
   "execution_count": 359,
   "metadata": {},
   "outputs": [],
   "source": [
    "shared_lin=nn.Linear(8,8)"
   ]
  },
  {
   "cell_type": "code",
   "execution_count": 361,
   "metadata": {},
   "outputs": [
    {
     "data": {
      "text/plain": [
       "torch.nn.modules.linear.Linear"
      ]
     },
     "execution_count": 361,
     "metadata": {},
     "output_type": "execute_result"
    }
   ],
   "source": [
    "type(shared_lin)"
   ]
  },
  {
   "cell_type": "code",
   "execution_count": 362,
   "metadata": {},
   "outputs": [
    {
     "data": {
      "text/plain": [
       "<module 'torch.nn' from 'C:\\\\Users\\\\HP\\\\miniconda3\\\\envs\\\\d2l\\\\lib\\\\site-packages\\\\torch\\\\nn\\\\__init__.py'>"
      ]
     },
     "execution_count": 362,
     "metadata": {},
     "output_type": "execute_result"
    }
   ],
   "source": [
    "nn"
   ]
  },
  {
   "cell_type": "code",
   "execution_count": 363,
   "metadata": {},
   "outputs": [],
   "source": [
    "net=nn.Sequential(\n",
    "    nn.Linear(4,8),nn.ReLU(),\n",
    "    shared_lin,nn.ReLU(),\n",
    "    nn.Linear(8,8),\n",
    "    shared_lin\n",
    ")"
   ]
  },
  {
   "cell_type": "code",
   "execution_count": 364,
   "metadata": {},
   "outputs": [
    {
     "data": {
      "text/plain": [
       "Sequential(\n",
       "  (0): Linear(in_features=4, out_features=8, bias=True)\n",
       "  (1): ReLU()\n",
       "  (2): Linear(in_features=8, out_features=8, bias=True)\n",
       "  (3): ReLU()\n",
       "  (4): Linear(in_features=8, out_features=8, bias=True)\n",
       "  (5): Linear(in_features=8, out_features=8, bias=True)\n",
       ")"
      ]
     },
     "execution_count": 364,
     "metadata": {},
     "output_type": "execute_result"
    }
   ],
   "source": [
    "net"
   ]
  },
  {
   "cell_type": "code",
   "execution_count": 365,
   "metadata": {},
   "outputs": [
    {
     "data": {
      "text/plain": [
       "tensor([[True, True, True, True, True, True, True, True],\n",
       "        [True, True, True, True, True, True, True, True],\n",
       "        [True, True, True, True, True, True, True, True],\n",
       "        [True, True, True, True, True, True, True, True],\n",
       "        [True, True, True, True, True, True, True, True],\n",
       "        [True, True, True, True, True, True, True, True],\n",
       "        [True, True, True, True, True, True, True, True],\n",
       "        [True, True, True, True, True, True, True, True]])"
      ]
     },
     "execution_count": 365,
     "metadata": {},
     "output_type": "execute_result"
    }
   ],
   "source": [
    "net[5].weight==net[2].weight"
   ]
  },
  {
   "cell_type": "code",
   "execution_count": 366,
   "metadata": {},
   "outputs": [
    {
     "data": {
      "text/plain": [
       "2260263008064"
      ]
     },
     "execution_count": 366,
     "metadata": {},
     "output_type": "execute_result"
    }
   ],
   "source": [
    "id(net[5].weight)"
   ]
  },
  {
   "cell_type": "code",
   "execution_count": 367,
   "metadata": {},
   "outputs": [
    {
     "data": {
      "text/plain": [
       "2260263008064"
      ]
     },
     "execution_count": 367,
     "metadata": {},
     "output_type": "execute_result"
    }
   ],
   "source": [
    "id(net[2].weight)"
   ]
  },
  {
   "cell_type": "code",
   "execution_count": null,
   "metadata": {},
   "outputs": [],
   "source": []
  },
  {
   "cell_type": "markdown",
   "metadata": {},
   "source": [
    "##  --tensorflow"
   ]
  },
  {
   "cell_type": "code",
   "execution_count": 368,
   "metadata": {},
   "outputs": [],
   "source": [
    "import tensorflow as tf\n",
    "import numpy as np"
   ]
  },
  {
   "cell_type": "code",
   "execution_count": 369,
   "metadata": {},
   "outputs": [],
   "source": [
    "net = tf.keras.models.Sequential([\n",
    "    tf.keras.layers.Flatten(),\n",
    "    tf.keras.layers.Dense(4, activation=tf.nn.relu),\n",
    "    tf.keras.layers.Dense(1),\n",
    "])"
   ]
  },
  {
   "cell_type": "code",
   "execution_count": 370,
   "metadata": {},
   "outputs": [
    {
     "data": {
      "text/plain": [
       "<tensorflow.python.keras.engine.sequential.Sequential at 0x20e42369940>"
      ]
     },
     "execution_count": 370,
     "metadata": {},
     "output_type": "execute_result"
    }
   ],
   "source": [
    "net"
   ]
  },
  {
   "cell_type": "code",
   "execution_count": 375,
   "metadata": {},
   "outputs": [
    {
     "data": {
      "text/plain": [
       "<tf.Tensor: shape=(2, 1), dtype=float32, numpy=\n",
       "array([[0.8270541 ],\n",
       "       [0.94886285]], dtype=float32)>"
      ]
     },
     "execution_count": 375,
     "metadata": {},
     "output_type": "execute_result"
    }
   ],
   "source": [
    "X = tf.random.uniform((2, 4))\n",
    "net(X)"
   ]
  },
  {
   "cell_type": "code",
   "execution_count": 376,
   "metadata": {},
   "outputs": [
    {
     "data": {
      "text/plain": [
       "[<tensorflow.python.keras.layers.core.Flatten at 0x20e3dd7eeb0>,\n",
       " <tensorflow.python.keras.layers.core.Dense at 0x20e3f7dddf0>,\n",
       " <tensorflow.python.keras.layers.core.Dense at 0x20e42278070>]"
      ]
     },
     "execution_count": 376,
     "metadata": {},
     "output_type": "execute_result"
    }
   ],
   "source": [
    "net.layers"
   ]
  },
  {
   "cell_type": "code",
   "execution_count": 384,
   "metadata": {},
   "outputs": [
    {
     "data": {
      "text/plain": [
       "TensorShape([4, 4])"
      ]
     },
     "execution_count": 384,
     "metadata": {},
     "output_type": "execute_result"
    }
   ],
   "source": [
    "net.layers[1].weights[0].shape"
   ]
  },
  {
   "cell_type": "code",
   "execution_count": 403,
   "metadata": {},
   "outputs": [
    {
     "name": "stdout",
     "output_type": "stream",
     "text": [
      "layer.weight.shape:(4, 4)\n",
      "layer.bias.shape:(4,)\n",
      "layer.weight.shape:(4, 1)\n",
      "layer.bias.shape:(1,)\n"
     ]
    }
   ],
   "source": [
    "for layer in net.layers:\n",
    "    if isinstance(layer,tf.keras.layers.Dense):\n",
    "        print(f\"layer.weight.shape:{layer.weights[0].numpy().shape}\")\n",
    "        print(f\"layer.bias.shape:{layer.weights[1].numpy().shape}\")"
   ]
  },
  {
   "cell_type": "code",
   "execution_count": 391,
   "metadata": {},
   "outputs": [
    {
     "data": {
      "text/plain": [
       "<tf.Tensor: shape=(4, 4), dtype=float32, numpy=\n",
       "array([[ 0.8333796 ,  1.4392475 ,  0.08520114,  1.0352645 ],\n",
       "       [ 0.92579734,  0.4091096 ,  0.6356511 ,  2.6621976 ],\n",
       "       [ 2.6561027 ,  1.8598822 , -0.6805105 , -0.7102002 ],\n",
       "       [ 2.2602744 , -0.09433103,  2.3724084 ,  0.3400824 ]],\n",
       "      dtype=float32)>"
      ]
     },
     "execution_count": 391,
     "metadata": {},
     "output_type": "execute_result"
    }
   ],
   "source": [
    "net.layers[1].weights[0]*2+1"
   ]
  },
  {
   "cell_type": "code",
   "execution_count": 393,
   "metadata": {},
   "outputs": [],
   "source": [
    "# tf.Variable??"
   ]
  },
  {
   "cell_type": "code",
   "execution_count": 395,
   "metadata": {},
   "outputs": [
    {
     "data": {
      "text/plain": [
       "array([[-0.08331019,  0.21962374, -0.45739943,  0.01763225],\n",
       "       [-0.03710133, -0.2954452 , -0.18217444,  0.83109885],\n",
       "       [ 0.82805127,  0.42994112, -0.84025526, -0.8551001 ],\n",
       "       [ 0.63013715, -0.5471655 ,  0.68620414, -0.3299588 ]],\n",
       "      dtype=float32)"
      ]
     },
     "execution_count": 395,
     "metadata": {},
     "output_type": "execute_result"
    }
   ],
   "source": [
    "net.get_weights()[0]"
   ]
  },
  {
   "cell_type": "code",
   "execution_count": 401,
   "metadata": {},
   "outputs": [
    {
     "data": {
      "text/plain": [
       "(4, 4)"
      ]
     },
     "execution_count": 401,
     "metadata": {},
     "output_type": "execute_result"
    }
   ],
   "source": [
    "net.layers[1].weights[0].numpy().shape"
   ]
  },
  {
   "cell_type": "code",
   "execution_count": 406,
   "metadata": {},
   "outputs": [
    {
     "data": {
      "text/plain": [
       "<tf.Variable 'dense/kernel:0' shape=(4, 4) dtype=float32, numpy=\n",
       "array([[-0.08331019,  0.21962374, -0.45739943,  0.01763225],\n",
       "       [-0.03710133, -0.2954452 , -0.18217444,  0.83109885],\n",
       "       [ 0.82805127,  0.42994112, -0.84025526, -0.8551001 ],\n",
       "       [ 0.63013715, -0.5471655 ,  0.68620414, -0.3299588 ]],\n",
       "      dtype=float32)>"
      ]
     },
     "execution_count": 406,
     "metadata": {},
     "output_type": "execute_result"
    }
   ],
   "source": [
    "net.layers[1].weights[0]"
   ]
  },
  {
   "cell_type": "code",
   "execution_count": 408,
   "metadata": {},
   "outputs": [
    {
     "data": {
      "text/plain": [
       "array([[-0.08331019,  0.21962374, -0.45739943,  0.01763225],\n",
       "       [-0.03710133, -0.2954452 , -0.18217444,  0.83109885],\n",
       "       [ 0.82805127,  0.42994112, -0.84025526, -0.8551001 ],\n",
       "       [ 0.63013715, -0.5471655 ,  0.68620414, -0.3299588 ]],\n",
       "      dtype=float32)"
      ]
     },
     "execution_count": 408,
     "metadata": {},
     "output_type": "execute_result"
    }
   ],
   "source": [
    "net.layers[1].weights[0].numpy()"
   ]
  },
  {
   "cell_type": "code",
   "execution_count": 409,
   "metadata": {},
   "outputs": [
    {
     "data": {
      "text/plain": [
       "[array([[-0.08331019,  0.21962374, -0.45739943,  0.01763225],\n",
       "        [-0.03710133, -0.2954452 , -0.18217444,  0.83109885],\n",
       "        [ 0.82805127,  0.42994112, -0.84025526, -0.8551001 ],\n",
       "        [ 0.63013715, -0.5471655 ,  0.68620414, -0.3299588 ]],\n",
       "       dtype=float32),\n",
       " array([0., 0., 0., 0.], dtype=float32),\n",
       " array([[ 0.84085774],\n",
       "        [-0.7947255 ],\n",
       "        [-1.0606515 ],\n",
       "        [-0.9609411 ]], dtype=float32),\n",
       " array([0.], dtype=float32)]"
      ]
     },
     "execution_count": 409,
     "metadata": {},
     "output_type": "execute_result"
    }
   ],
   "source": [
    "net.get_weights()"
   ]
  },
  {
   "cell_type": "code",
   "execution_count": 410,
   "metadata": {},
   "outputs": [
    {
     "data": {
      "text/plain": [
       "array([[-0.08331019,  0.21962374, -0.45739943,  0.01763225],\n",
       "       [-0.03710133, -0.2954452 , -0.18217444,  0.83109885],\n",
       "       [ 0.82805127,  0.42994112, -0.84025526, -0.8551001 ],\n",
       "       [ 0.63013715, -0.5471655 ,  0.68620414, -0.3299588 ]],\n",
       "      dtype=float32)"
      ]
     },
     "execution_count": 410,
     "metadata": {},
     "output_type": "execute_result"
    }
   ],
   "source": [
    "net.get_weights()[0]"
   ]
  },
  {
   "cell_type": "code",
   "execution_count": 412,
   "metadata": {},
   "outputs": [],
   "source": [
    "# tf.keras.Sequential??"
   ]
  },
  {
   "cell_type": "code",
   "execution_count": 414,
   "metadata": {},
   "outputs": [],
   "source": [
    "s=tf.keras.Sequential([\n",
    "        tf.keras.layers.Flatten(),\n",
    "        tf.keras.layers.Dense(4, activation=tf.nn.relu)],\n",
    "        name=\"S_name\")"
   ]
  },
  {
   "cell_type": "code",
   "execution_count": 415,
   "metadata": {},
   "outputs": [
    {
     "data": {
      "text/plain": [
       "'S_name'"
      ]
     },
     "execution_count": 415,
     "metadata": {},
     "output_type": "execute_result"
    }
   ],
   "source": [
    "s.name"
   ]
  },
  {
   "cell_type": "code",
   "execution_count": 416,
   "metadata": {},
   "outputs": [
    {
     "data": {
      "text/plain": [
       "'S_name/'"
      ]
     },
     "execution_count": 416,
     "metadata": {},
     "output_type": "execute_result"
    }
   ],
   "source": [
    "s.name_scope()"
   ]
  },
  {
   "cell_type": "code",
   "execution_count": 436,
   "metadata": {},
   "outputs": [],
   "source": [
    "def block(name:str):\n",
    "    s=tf.keras.Sequential([\n",
    "        tf.keras.layers.Flatten(),\n",
    "        tf.keras.layers.Dense(4, activation=tf.nn.relu)],\n",
    "        name=name)\n",
    "    return s"
   ]
  },
  {
   "cell_type": "code",
   "execution_count": 437,
   "metadata": {},
   "outputs": [],
   "source": [
    "s=block(\"BBB\")"
   ]
  },
  {
   "cell_type": "code",
   "execution_count": 438,
   "metadata": {},
   "outputs": [],
   "source": [
    "s.build(input_shape=(1,3))"
   ]
  },
  {
   "cell_type": "code",
   "execution_count": 439,
   "metadata": {},
   "outputs": [
    {
     "data": {
      "text/plain": [
       "'BBB'"
      ]
     },
     "execution_count": 439,
     "metadata": {},
     "output_type": "execute_result"
    }
   ],
   "source": [
    "s.name"
   ]
  },
  {
   "cell_type": "code",
   "execution_count": 440,
   "metadata": {},
   "outputs": [
    {
     "data": {
      "text/plain": [
       "[array([[-0.51507425,  0.7338506 , -0.36768752,  0.34003365],\n",
       "        [-0.61569524, -0.39298964, -0.00611234,  0.6454723 ],\n",
       "        [ 0.39660478,  0.41358864,  0.2742834 , -0.8049402 ]],\n",
       "       dtype=float32),\n",
       " array([0., 0., 0., 0.], dtype=float32)]"
      ]
     },
     "execution_count": 440,
     "metadata": {},
     "output_type": "execute_result"
    }
   ],
   "source": [
    "s.get_weights()"
   ]
  },
  {
   "cell_type": "code",
   "execution_count": 442,
   "metadata": {},
   "outputs": [],
   "source": [
    "def block2():\n",
    "    net = tf.keras.Sequential()\n",
    "    for i in range(4):\n",
    "        # Nested here\n",
    "        net.add(block(name=f'block-{i}'))\n",
    "    return net"
   ]
  },
  {
   "cell_type": "code",
   "execution_count": 443,
   "metadata": {},
   "outputs": [
    {
     "data": {
      "text/plain": [
       "<tf.Tensor: shape=(2, 1), dtype=float32, numpy=\n",
       "array([[-0.1863406 ],\n",
       "       [-0.11732443]], dtype=float32)>"
      ]
     },
     "execution_count": 443,
     "metadata": {},
     "output_type": "execute_result"
    }
   ],
   "source": [
    "rgnet = tf.keras.Sequential()\n",
    "rgnet.add(block2())\n",
    "rgnet.add(tf.keras.layers.Dense(1))\n",
    "rgnet(X)"
   ]
  },
  {
   "cell_type": "code",
   "execution_count": 444,
   "metadata": {},
   "outputs": [
    {
     "data": {
      "text/plain": [
       "<tf.Tensor: shape=(2, 4), dtype=float32, numpy=\n",
       "array([[0.62481904, 0.15839565, 0.7037914 , 0.7279985 ],\n",
       "       [0.0504837 , 0.0635581 , 0.83265996, 0.70702875]], dtype=float32)>"
      ]
     },
     "execution_count": 444,
     "metadata": {},
     "output_type": "execute_result"
    }
   ],
   "source": [
    "X"
   ]
  },
  {
   "cell_type": "code",
   "execution_count": 445,
   "metadata": {},
   "outputs": [
    {
     "name": "stdout",
     "output_type": "stream",
     "text": [
      "Model: \"sequential_1\"\n",
      "_________________________________________________________________\n",
      "Layer (type)                 Output Shape              Param #   \n",
      "=================================================================\n",
      "sequential_2 (Sequential)    (2, 4)                    80        \n",
      "_________________________________________________________________\n",
      "dense_11 (Dense)             (2, 1)                    5         \n",
      "=================================================================\n",
      "Total params: 85\n",
      "Trainable params: 85\n",
      "Non-trainable params: 0\n",
      "_________________________________________________________________\n"
     ]
    }
   ],
   "source": [
    "rgnet.summary()"
   ]
  },
  {
   "cell_type": "code",
   "execution_count": 447,
   "metadata": {},
   "outputs": [
    {
     "name": "stdout",
     "output_type": "stream",
     "text": [
      "<tensorflow.python.keras.engine.sequential.Sequential object at 0x0000021009C9EC40>\n"
     ]
    }
   ],
   "source": [
    "tf.print(rgnet)"
   ]
  },
  {
   "cell_type": "code",
   "execution_count": 450,
   "metadata": {},
   "outputs": [
    {
     "data": {
      "text/plain": [
       "[<tensorflow.python.keras.engine.sequential.Sequential at 0x21009c9e700>,\n",
       " <tensorflow.python.keras.layers.core.Dense at 0x20e4209a6a0>]"
      ]
     },
     "execution_count": 450,
     "metadata": {},
     "output_type": "execute_result"
    }
   ],
   "source": [
    "rgnet.layers"
   ]
  },
  {
   "cell_type": "code",
   "execution_count": 449,
   "metadata": {},
   "outputs": [
    {
     "data": {
      "text/plain": [
       "<tensorflow.python.keras.engine.sequential.Sequential at 0x21009c9e700>"
      ]
     },
     "execution_count": 449,
     "metadata": {},
     "output_type": "execute_result"
    }
   ],
   "source": [
    "rgnet.layers[0]"
   ]
  },
  {
   "cell_type": "code",
   "execution_count": 451,
   "metadata": {},
   "outputs": [
    {
     "data": {
      "text/plain": [
       "[<tensorflow.python.keras.engine.sequential.Sequential at 0x21009cbb2e0>,\n",
       " <tensorflow.python.keras.engine.sequential.Sequential at 0x21009c89370>,\n",
       " <tensorflow.python.keras.engine.sequential.Sequential at 0x21009ca0640>,\n",
       " <tensorflow.python.keras.engine.sequential.Sequential at 0x20e41c2cb80>]"
      ]
     },
     "execution_count": 451,
     "metadata": {},
     "output_type": "execute_result"
    }
   ],
   "source": [
    "rgnet.layers[0].layers"
   ]
  },
  {
   "cell_type": "code",
   "execution_count": 455,
   "metadata": {},
   "outputs": [
    {
     "data": {
      "text/plain": [
       "'block-1'"
      ]
     },
     "execution_count": 455,
     "metadata": {},
     "output_type": "execute_result"
    }
   ],
   "source": [
    "rgnet.layers[0].layers[1].name"
   ]
  },
  {
   "cell_type": "code",
   "execution_count": 456,
   "metadata": {},
   "outputs": [
    {
     "ename": "ValueError",
     "evalue": "No such layer: block-1.",
     "output_type": "error",
     "traceback": [
      "\u001b[1;31m---------------------------------------------------------------------------\u001b[0m",
      "\u001b[1;31mValueError\u001b[0m                                Traceback (most recent call last)",
      "\u001b[1;32m<ipython-input-456-156bb514da3a>\u001b[0m in \u001b[0;36m<module>\u001b[1;34m\u001b[0m\n\u001b[1;32m----> 1\u001b[1;33m \u001b[0mrgnet\u001b[0m\u001b[1;33m.\u001b[0m\u001b[0mget_layer\u001b[0m\u001b[1;33m(\u001b[0m\u001b[1;34m'block-1'\u001b[0m\u001b[1;33m)\u001b[0m\u001b[1;33m\u001b[0m\u001b[1;33m\u001b[0m\u001b[0m\n\u001b[0m",
      "\u001b[1;32m~\\miniconda3\\envs\\d2l\\lib\\site-packages\\tensorflow\\python\\keras\\engine\\training.py\u001b[0m in \u001b[0;36mget_layer\u001b[1;34m(self, name, index)\u001b[0m\n\u001b[0;32m   2396\u001b[0m         \u001b[1;32mif\u001b[0m \u001b[0mlayer\u001b[0m\u001b[1;33m.\u001b[0m\u001b[0mname\u001b[0m \u001b[1;33m==\u001b[0m \u001b[0mname\u001b[0m\u001b[1;33m:\u001b[0m\u001b[1;33m\u001b[0m\u001b[1;33m\u001b[0m\u001b[0m\n\u001b[0;32m   2397\u001b[0m           \u001b[1;32mreturn\u001b[0m \u001b[0mlayer\u001b[0m\u001b[1;33m\u001b[0m\u001b[1;33m\u001b[0m\u001b[0m\n\u001b[1;32m-> 2398\u001b[1;33m       \u001b[1;32mraise\u001b[0m \u001b[0mValueError\u001b[0m\u001b[1;33m(\u001b[0m\u001b[1;34m'No such layer: '\u001b[0m \u001b[1;33m+\u001b[0m \u001b[0mname\u001b[0m \u001b[1;33m+\u001b[0m \u001b[1;34m'.'\u001b[0m\u001b[1;33m)\u001b[0m\u001b[1;33m\u001b[0m\u001b[1;33m\u001b[0m\u001b[0m\n\u001b[0m\u001b[0;32m   2399\u001b[0m     \u001b[1;32mraise\u001b[0m \u001b[0mValueError\u001b[0m\u001b[1;33m(\u001b[0m\u001b[1;34m'Provide either a layer name or layer index.'\u001b[0m\u001b[1;33m)\u001b[0m\u001b[1;33m\u001b[0m\u001b[1;33m\u001b[0m\u001b[0m\n\u001b[0;32m   2400\u001b[0m \u001b[1;33m\u001b[0m\u001b[0m\n",
      "\u001b[1;31mValueError\u001b[0m: No such layer: block-1."
     ]
    }
   ],
   "source": [
    "rgnet.get_layer('block-1')"
   ]
  },
  {
   "cell_type": "code",
   "execution_count": 457,
   "metadata": {},
   "outputs": [
    {
     "data": {
      "text/plain": [
       "<tensorflow.python.keras.engine.sequential.Sequential at 0x21009c89370>"
      ]
     },
     "execution_count": 457,
     "metadata": {},
     "output_type": "execute_result"
    }
   ],
   "source": [
    "rgnet.layers[0].get_layer('block-1')"
   ]
  },
  {
   "cell_type": "code",
   "execution_count": 459,
   "metadata": {},
   "outputs": [
    {
     "data": {
      "text/plain": [
       "'block-0'"
      ]
     },
     "execution_count": 459,
     "metadata": {},
     "output_type": "execute_result"
    }
   ],
   "source": [
    "rgnet.layers[0].get_layer('block-0').name"
   ]
  },
  {
   "cell_type": "code",
   "execution_count": 463,
   "metadata": {},
   "outputs": [
    {
     "data": {
      "text/plain": [
       "array([[ 0.02415216,  0.53252774,  0.42252475,  0.7537069 ],\n",
       "       [ 0.6008882 , -0.05484122,  0.29434568, -0.7257192 ],\n",
       "       [ 0.43401533, -0.39216647, -0.76510835, -0.62729824],\n",
       "       [ 0.07043988, -0.45436403,  0.29348308,  0.76853603]],\n",
       "      dtype=float32)"
      ]
     },
     "execution_count": 463,
     "metadata": {},
     "output_type": "execute_result"
    }
   ],
   "source": [
    "rgnet.layers[0].get_layer('block-0').weights[0].numpy()"
   ]
  },
  {
   "cell_type": "code",
   "execution_count": 465,
   "metadata": {},
   "outputs": [
    {
     "data": {
      "text/plain": [
       "'block-0'"
      ]
     },
     "execution_count": 465,
     "metadata": {},
     "output_type": "execute_result"
    }
   ],
   "source": [
    "rgnet.layers[0].layers[0].name"
   ]
  },
  {
   "cell_type": "code",
   "execution_count": 466,
   "metadata": {},
   "outputs": [
    {
     "data": {
      "text/plain": [
       "array([[ 0.02415216,  0.53252774,  0.42252475,  0.7537069 ],\n",
       "       [ 0.6008882 , -0.05484122,  0.29434568, -0.7257192 ],\n",
       "       [ 0.43401533, -0.39216647, -0.76510835, -0.62729824],\n",
       "       [ 0.07043988, -0.45436403,  0.29348308,  0.76853603]],\n",
       "      dtype=float32)"
      ]
     },
     "execution_count": 466,
     "metadata": {},
     "output_type": "execute_result"
    }
   ],
   "source": [
    "rgnet.layers[0].layers[0].weights[0].numpy()"
   ]
  },
  {
   "cell_type": "code",
   "execution_count": 468,
   "metadata": {},
   "outputs": [
    {
     "data": {
      "text/plain": [
       "'sequential_2'"
      ]
     },
     "execution_count": 468,
     "metadata": {},
     "output_type": "execute_result"
    }
   ],
   "source": [
    "rgnet.layers[0].name"
   ]
  },
  {
   "cell_type": "code",
   "execution_count": 470,
   "metadata": {},
   "outputs": [
    {
     "data": {
      "text/plain": [
       "'block-0'"
      ]
     },
     "execution_count": 470,
     "metadata": {},
     "output_type": "execute_result"
    }
   ],
   "source": [
    "rgnet.layers[0].layers[0].name"
   ]
  },
  {
   "cell_type": "code",
   "execution_count": 471,
   "metadata": {},
   "outputs": [
    {
     "data": {
      "text/plain": [
       "\u001b[1;31mInit signature:\u001b[0m \u001b[0mtf\u001b[0m\u001b[1;33m.\u001b[0m\u001b[0mkeras\u001b[0m\u001b[1;33m.\u001b[0m\u001b[0minitializers\u001b[0m\u001b[1;33m.\u001b[0m\u001b[0mInitializer\u001b[0m\u001b[1;33m(\u001b[0m\u001b[1;33m)\u001b[0m\u001b[1;33m\u001b[0m\u001b[1;33m\u001b[0m\u001b[0m\n",
       "\u001b[1;31mSource:\u001b[0m        \n",
       "\u001b[1;32mclass\u001b[0m \u001b[0mInitializer\u001b[0m\u001b[1;33m(\u001b[0m\u001b[0mobject\u001b[0m\u001b[1;33m)\u001b[0m\u001b[1;33m:\u001b[0m\u001b[1;33m\n",
       "\u001b[0m  \u001b[1;34m\"\"\"Initializer base class: all Keras initializers inherit from this class.\n",
       "\n",
       "  Initializers should implement a `__call__` method with the following\n",
       "  signature:\n",
       "\n",
       "  ```python\n",
       "  def __call__(self, shape, dtype=None)`:\n",
       "    # returns a tensor of shape `shape` and dtype `dtype`\n",
       "    # containing values drawn from a distribution of your choice.\n",
       "  ```\n",
       "\n",
       "  Optionally, you an also implement the method `get_config` and the class\n",
       "  method `from_config` in order to support serialization -- just like with\n",
       "  any Keras object.\n",
       "\n",
       "  Here's a simple example: a random normal initializer.\n",
       "\n",
       "  ```python\n",
       "  import tensorflow as tf\n",
       "\n",
       "  class ExampleRandomNormal(tf.keras.initializers.Initializer):\n",
       "\n",
       "    def __init__(self, mean, stddev):\n",
       "      self.mean = mean\n",
       "      self.stddev = stddev\n",
       "\n",
       "    def __call__(self, shape, dtype=None)`:\n",
       "      return tf.random.normal(\n",
       "          shape, mean=self.mean, stddev=self.stddev, dtype=dtype)\n",
       "\n",
       "    def get_config(self):  # To support serialization\n",
       "      return {\"mean\": self.mean, \"stddev\": self.stddev}\n",
       "  ```\n",
       "\n",
       "  Note that we don't have to implement `from_config` in the example above since\n",
       "  the constructor arguments of the class the keys in the config returned by\n",
       "  `get_config` are the same. In this case, the default `from_config`\n",
       "  works fine.\n",
       "  \"\"\"\u001b[0m\u001b[1;33m\n",
       "\u001b[0m\u001b[1;33m\n",
       "\u001b[0m  \u001b[1;32mdef\u001b[0m \u001b[0m__call__\u001b[0m\u001b[1;33m(\u001b[0m\u001b[0mself\u001b[0m\u001b[1;33m,\u001b[0m \u001b[0mshape\u001b[0m\u001b[1;33m,\u001b[0m \u001b[0mdtype\u001b[0m\u001b[1;33m=\u001b[0m\u001b[1;32mNone\u001b[0m\u001b[1;33m)\u001b[0m\u001b[1;33m:\u001b[0m\u001b[1;33m\n",
       "\u001b[0m    \u001b[1;34m\"\"\"Returns a tensor object initialized as specified by the initializer.\n",
       "\n",
       "    Args:\n",
       "      shape: Shape of the tensor.\n",
       "      dtype: Optional dtype of the tensor.\n",
       "    \"\"\"\u001b[0m\u001b[1;33m\n",
       "\u001b[0m    \u001b[1;32mraise\u001b[0m \u001b[0mNotImplementedError\u001b[0m\u001b[1;33m\n",
       "\u001b[0m\u001b[1;33m\n",
       "\u001b[0m  \u001b[1;32mdef\u001b[0m \u001b[0mget_config\u001b[0m\u001b[1;33m(\u001b[0m\u001b[0mself\u001b[0m\u001b[1;33m)\u001b[0m\u001b[1;33m:\u001b[0m\u001b[1;33m\n",
       "\u001b[0m    \u001b[1;34m\"\"\"Returns the configuration of the initializer as a JSON-serializable dict.\n",
       "\n",
       "    Returns:\n",
       "      A JSON-serializable Python dict.\n",
       "    \"\"\"\u001b[0m\u001b[1;33m\n",
       "\u001b[0m    \u001b[1;32mreturn\u001b[0m \u001b[1;33m{\u001b[0m\u001b[1;33m}\u001b[0m\u001b[1;33m\n",
       "\u001b[0m\u001b[1;33m\n",
       "\u001b[0m  \u001b[1;33m@\u001b[0m\u001b[0mclassmethod\u001b[0m\u001b[1;33m\n",
       "\u001b[0m  \u001b[1;32mdef\u001b[0m \u001b[0mfrom_config\u001b[0m\u001b[1;33m(\u001b[0m\u001b[0mcls\u001b[0m\u001b[1;33m,\u001b[0m \u001b[0mconfig\u001b[0m\u001b[1;33m)\u001b[0m\u001b[1;33m:\u001b[0m\u001b[1;33m\n",
       "\u001b[0m    \u001b[1;34m\"\"\"Instantiates an initializer from a configuration dictionary.\n",
       "\n",
       "    Example:\n",
       "\n",
       "    ```python\n",
       "    initializer = RandomUniform(-1, 1)\n",
       "    config = initializer.get_config()\n",
       "    initializer = RandomUniform.from_config(config)\n",
       "    ```\n",
       "\n",
       "    Args:\n",
       "      config: A Python dictionary, the output of `get_config`.\n",
       "\n",
       "    Returns:\n",
       "      A `tf.keras.initializers.Initializer` instance.\n",
       "    \"\"\"\u001b[0m\u001b[1;33m\n",
       "\u001b[0m    \u001b[0mconfig\u001b[0m\u001b[1;33m.\u001b[0m\u001b[0mpop\u001b[0m\u001b[1;33m(\u001b[0m\u001b[1;34m'dtype'\u001b[0m\u001b[1;33m,\u001b[0m \u001b[1;32mNone\u001b[0m\u001b[1;33m)\u001b[0m\u001b[1;33m\n",
       "\u001b[0m    \u001b[1;32mreturn\u001b[0m \u001b[0mcls\u001b[0m\u001b[1;33m(\u001b[0m\u001b[1;33m**\u001b[0m\u001b[0mconfig\u001b[0m\u001b[1;33m)\u001b[0m\u001b[1;33m\u001b[0m\u001b[1;33m\u001b[0m\u001b[0m\n",
       "\u001b[1;31mFile:\u001b[0m           c:\\users\\hp\\miniconda3\\envs\\d2l\\lib\\site-packages\\tensorflow\\python\\keras\\initializers\\initializers_v2.py\n",
       "\u001b[1;31mType:\u001b[0m           type\n",
       "\u001b[1;31mSubclasses:\u001b[0m     Zeros, Ones, Constant, RandomUniform, RandomNormal, TruncatedNormal, VarianceScaling, Orthogonal, Identity\n"
      ]
     },
     "metadata": {},
     "output_type": "display_data"
    }
   ],
   "source": [
    "tf.keras.initializers.Initializer??"
   ]
  },
  {
   "cell_type": "code",
   "execution_count": 509,
   "metadata": {},
   "outputs": [
    {
     "name": "stdout",
     "output_type": "stream",
     "text": [
      "<tf.Variable 'dense_30/kernel:0' shape=(4, 4) dtype=float32, numpy=\n",
      "array([[ 6.857296 ,  0.       ,  0.       , -0.       ],\n",
      "       [ 9.202946 ,  8.291145 ,  0.       ,  7.466118 ],\n",
      "       [-7.4632335, -0.       , -7.7842164,  0.       ],\n",
      "       [ 5.173319 , -0.       , -5.302031 , -0.       ]], dtype=float32)>\n"
     ]
    }
   ],
   "source": [
    "class MyInit(tf.keras.initializers.Initializer):\n",
    "    def __call__(self, shape, dtype=None):\n",
    "        data=tf.random.uniform(shape,-10, 10, dtype=dtype)\n",
    "        factor=(tf.abs(data)>=5)\n",
    "        factor=tf.cast(factor,tf.float32)\n",
    "        return data*factor\n",
    "\n",
    "net = tf.keras.models.Sequential([\n",
    "    tf.keras.layers.Flatten(),\n",
    "    tf.keras.layers.Dense(\n",
    "        4,\n",
    "        activation=tf.nn.relu,\n",
    "        kernel_initializer=MyInit()),\n",
    "    tf.keras.layers.Dense(1,kernel_initializer=MyInit()),\n",
    "])\n",
    "\n",
    "net(X)\n",
    "print(net.layers[1].weights[0])"
   ]
  },
  {
   "cell_type": "code",
   "execution_count": 510,
   "metadata": {},
   "outputs": [
    {
     "data": {
      "text/plain": [
       "<tf.Variable 'dense_31/kernel:0' shape=(4, 1) dtype=float32, numpy=\n",
       "array([[ 0.      ],\n",
       "       [-8.78397 ],\n",
       "       [-9.205301],\n",
       "       [ 0.      ]], dtype=float32)>"
      ]
     },
     "execution_count": 510,
     "metadata": {},
     "output_type": "execute_result"
    }
   ],
   "source": [
    "net.layers[2].weights[0]"
   ]
  },
  {
   "cell_type": "code",
   "execution_count": 503,
   "metadata": {},
   "outputs": [],
   "source": [
    "data=tf.random.uniform((2,3), -10,10,dtype=tf.float32)"
   ]
  },
  {
   "cell_type": "code",
   "execution_count": 476,
   "metadata": {},
   "outputs": [
    {
     "data": {
      "text/plain": [
       "<tf.Tensor: shape=(2, 3), dtype=float32, numpy=\n",
       "array([[ 8.337114 ,  5.5709248, -5.218873 ],\n",
       "       [ 6.2537155,  4.4574404, -6.261115 ]], dtype=float32)>"
      ]
     },
     "execution_count": 476,
     "metadata": {},
     "output_type": "execute_result"
    }
   ],
   "source": [
    "data"
   ]
  },
  {
   "cell_type": "code",
   "execution_count": 477,
   "metadata": {},
   "outputs": [
    {
     "data": {
      "text/plain": [
       "<tf.Tensor: shape=(2, 3), dtype=bool, numpy=\n",
       "array([[ True,  True, False],\n",
       "       [ True, False, False]])>"
      ]
     },
     "execution_count": 477,
     "metadata": {},
     "output_type": "execute_result"
    }
   ],
   "source": [
    "data>=5"
   ]
  },
  {
   "cell_type": "code",
   "execution_count": 512,
   "metadata": {},
   "outputs": [
    {
     "data": {
      "text/plain": [
       "(<tf.Tensor: shape=(2, 3), dtype=bool, numpy=\n",
       " array([[False, False,  True],\n",
       "        [ True,  True,  True]])>,\n",
       " tensorflow.python.framework.ops.EagerTensor)"
      ]
     },
     "execution_count": 512,
     "metadata": {},
     "output_type": "execute_result"
    }
   ],
   "source": [
    "factor=(tf.abs(data)>=5)\n",
    "factor,type(factor)"
   ]
  },
  {
   "cell_type": "code",
   "execution_count": 492,
   "metadata": {},
   "outputs": [
    {
     "data": {
      "text/plain": [
       "<tf.Tensor: shape=(2, 3), dtype=float32, numpy=\n",
       "array([[1., 1., 1.],\n",
       "       [1., 0., 1.]], dtype=float32)>"
      ]
     },
     "execution_count": 492,
     "metadata": {},
     "output_type": "execute_result"
    }
   ],
   "source": [
    "factor=tf.cast(factor,tf.float32)\n",
    "factor"
   ]
  },
  {
   "cell_type": "code",
   "execution_count": 493,
   "metadata": {},
   "outputs": [
    {
     "data": {
      "text/plain": [
       "<tf.Tensor: shape=(2, 3), dtype=float32, numpy=\n",
       "array([[ 8.337114 ,  5.5709248, -5.218873 ],\n",
       "       [ 6.2537155,  0.       , -6.261115 ]], dtype=float32)>"
      ]
     },
     "execution_count": 493,
     "metadata": {},
     "output_type": "execute_result"
    }
   ],
   "source": [
    "data*factor"
   ]
  },
  {
   "cell_type": "code",
   "execution_count": 494,
   "metadata": {},
   "outputs": [
    {
     "data": {
      "text/plain": [
       "<tf.Tensor: shape=(2, 3), dtype=float32, numpy=\n",
       "array([[ 8.337114 ,  5.5709248, -5.218873 ],\n",
       "       [ 6.2537155,  4.4574404, -6.261115 ]], dtype=float32)>"
      ]
     },
     "execution_count": 494,
     "metadata": {},
     "output_type": "execute_result"
    }
   ],
   "source": [
    "data"
   ]
  },
  {
   "cell_type": "code",
   "execution_count": 486,
   "metadata": {},
   "outputs": [],
   "source": [
    "# factor*data"
   ]
  },
  {
   "cell_type": "code",
   "execution_count": 483,
   "metadata": {},
   "outputs": [
    {
     "ename": "AttributeError",
     "evalue": "'tensorflow.python.framework.ops.EagerTensor' object has no attribute 'float'",
     "output_type": "error",
     "traceback": [
      "\u001b[1;31m---------------------------------------------------------------------------\u001b[0m",
      "\u001b[1;31mAttributeError\u001b[0m                            Traceback (most recent call last)",
      "\u001b[1;32m<ipython-input-483-0fc6e6c94483>\u001b[0m in \u001b[0;36m<module>\u001b[1;34m\u001b[0m\n\u001b[1;32m----> 1\u001b[1;33m \u001b[0mfactor\u001b[0m\u001b[1;33m.\u001b[0m\u001b[0mfloat\u001b[0m\u001b[1;33m(\u001b[0m\u001b[1;33m)\u001b[0m\u001b[1;33m\u001b[0m\u001b[1;33m\u001b[0m\u001b[0m\n\u001b[0m",
      "\u001b[1;31mAttributeError\u001b[0m: 'tensorflow.python.framework.ops.EagerTensor' object has no attribute 'float'"
     ]
    }
   ],
   "source": [
    "factor.float()"
   ]
  },
  {
   "cell_type": "code",
   "execution_count": 484,
   "metadata": {},
   "outputs": [
    {
     "data": {
      "text/plain": [
       "<tf.Tensor: shape=(2, 3), dtype=float32, numpy=\n",
       "array([[1., 1., 0.],\n",
       "       [1., 0., 0.]], dtype=float32)>"
      ]
     },
     "execution_count": 484,
     "metadata": {},
     "output_type": "execute_result"
    }
   ],
   "source": [
    "tf.cast(factor,tf.float32)"
   ]
  },
  {
   "cell_type": "code",
   "execution_count": null,
   "metadata": {},
   "outputs": [],
   "source": []
  }
 ],
 "metadata": {
  "kernelspec": {
   "display_name": "d2l",
   "language": "python",
   "name": "d2l"
  },
  "language_info": {
   "codemirror_mode": {
    "name": "ipython",
    "version": 3
   },
   "file_extension": ".py",
   "mimetype": "text/x-python",
   "name": "python",
   "nbconvert_exporter": "python",
   "pygments_lexer": "ipython3",
   "version": "3.8.5"
  }
 },
 "nbformat": 4,
 "nbformat_minor": 4
}
