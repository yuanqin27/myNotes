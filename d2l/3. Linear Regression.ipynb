{
 "cells": [
  {
   "cell_type": "code",
   "execution_count": 1,
   "metadata": {},
   "outputs": [],
   "source": [
    "import torch as tc\n",
    "import tensorflow as tf\n",
    "import mxnet as mx\n",
    "from mxnet import np as mxnp\n",
    "from mxnet import npx as npx\n",
    "npx.set_np()\n",
    "import numpy as np\n",
    "\n",
    "from d2l import mxnet as mxd2l  # Use MXNet as the backend\n",
    "from d2l import torch as tcd2l  # Use PyTorch as the backend\n",
    "from d2l import tensorflow as tfd2l  # Use TensorFlow as the backend"
   ]
  },
  {
   "cell_type": "code",
   "execution_count": 2,
   "metadata": {},
   "outputs": [],
   "source": [
    "%matplotlib inline"
   ]
  },
  {
   "cell_type": "code",
   "execution_count": 1,
   "metadata": {},
   "outputs": [
    {
     "name": "stderr",
     "output_type": "stream",
     "text": [
      "Enabling notebook extension varInspector/main...\n",
      "      - Validating: ok\n"
     ]
    }
   ],
   "source": [
    "!jupyter nbextension enable varInspector/main"
   ]
  },
  {
   "cell_type": "code",
   "execution_count": 2,
   "metadata": {},
   "outputs": [
    {
     "name": "stderr",
     "output_type": "stream",
     "text": [
      "Enabling notebook extension collapsible_headings/main...\n",
      "      - Validating: ok\n"
     ]
    }
   ],
   "source": [
    "!jupyter nbextension enable collapsible_headings/main"
   ]
  },
  {
   "cell_type": "markdown",
   "metadata": {},
   "source": [
    "# 3.1 Linear Regression"
   ]
  },
  {
   "cell_type": "code",
   "execution_count": 3,
   "metadata": {},
   "outputs": [],
   "source": [
    "timer=mxd2l.Timer()"
   ]
  },
  {
   "cell_type": "code",
   "execution_count": 20,
   "metadata": {},
   "outputs": [],
   "source": [
    "n=100000\n",
    "a=np.ones(n)\n",
    "b=np.ones(n)"
   ]
  },
  {
   "cell_type": "code",
   "execution_count": 30,
   "metadata": {},
   "outputs": [
    {
     "data": {
      "text/plain": [
       "'0.04200 sec'"
      ]
     },
     "execution_count": 30,
     "metadata": {},
     "output_type": "execute_result"
    }
   ],
   "source": [
    "c=np.zeros(n)\n",
    "timer=mxd2l.Timer()\n",
    "for i in range(n):\n",
    "    c[i]=a[i]+b[i]\n",
    "f'{timer.stop():.5f} sec' "
   ]
  },
  {
   "cell_type": "code",
   "execution_count": 31,
   "metadata": {},
   "outputs": [
    {
     "data": {
      "text/plain": [
       "0.04199981689453125"
      ]
     },
     "execution_count": 31,
     "metadata": {},
     "output_type": "execute_result"
    }
   ],
   "source": [
    "timer.avg()"
   ]
  },
  {
   "cell_type": "code",
   "execution_count": 34,
   "metadata": {},
   "outputs": [
    {
     "data": {
      "text/plain": [
       "[0.04199981689453125]"
      ]
     },
     "execution_count": 34,
     "metadata": {},
     "output_type": "execute_result"
    }
   ],
   "source": [
    "timer.cumsum()"
   ]
  },
  {
   "cell_type": "code",
   "execution_count": 35,
   "metadata": {},
   "outputs": [
    {
     "data": {
      "text/plain": [
       "[0.04199981689453125]"
      ]
     },
     "execution_count": 35,
     "metadata": {},
     "output_type": "execute_result"
    }
   ],
   "source": [
    "timer.times"
   ]
  },
  {
   "cell_type": "code",
   "execution_count": 36,
   "metadata": {},
   "outputs": [
    {
     "data": {
      "text/plain": [
       "array([2., 2., 2., 2., 2., 2., 2., 2., 2., 2.])"
      ]
     },
     "execution_count": 36,
     "metadata": {},
     "output_type": "execute_result"
    }
   ],
   "source": [
    "c[0:10]"
   ]
  },
  {
   "cell_type": "code",
   "execution_count": 37,
   "metadata": {},
   "outputs": [
    {
     "data": {
      "text/plain": [
       "'0.00102 sec'"
      ]
     },
     "execution_count": 37,
     "metadata": {},
     "output_type": "execute_result"
    }
   ],
   "source": [
    "timer.start()\n",
    "d = a + b\n",
    "f'{timer.stop():.5f} sec'"
   ]
  },
  {
   "cell_type": "code",
   "execution_count": 38,
   "metadata": {},
   "outputs": [
    {
     "data": {
      "text/plain": [
       "array([2., 2., 2., 2., 2., 2., 2., 2., 2., 2.])"
      ]
     },
     "execution_count": 38,
     "metadata": {},
     "output_type": "execute_result"
    }
   ],
   "source": [
    "d[0:10]"
   ]
  },
  {
   "cell_type": "code",
   "execution_count": 39,
   "metadata": {},
   "outputs": [
    {
     "data": {
      "text/plain": [
       "([0.04199981689453125, 0.04302024841308594],\n",
       " [0.04199981689453125, 0.0010204315185546875])"
      ]
     },
     "execution_count": 39,
     "metadata": {},
     "output_type": "execute_result"
    }
   ],
   "source": [
    "timer.cumsum(),timer.times"
   ]
  },
  {
   "cell_type": "markdown",
   "metadata": {},
   "source": [
    "# 3.2. Linear Regression Implementation from Scratch"
   ]
  },
  {
   "cell_type": "code",
   "execution_count": 4,
   "metadata": {},
   "outputs": [
    {
     "data": {
      "text/plain": [
       "('1.6.0', '2.3.1', '1.7.0')"
      ]
     },
     "execution_count": 4,
     "metadata": {},
     "output_type": "execute_result"
    }
   ],
   "source": [
    "%matplotlib inline\n",
    "import torch as tc\n",
    "import tensorflow as tf\n",
    "import mxnet as mx\n",
    "from mxnet import np as mxnp\n",
    "from mxnet import npx as npx\n",
    "npx.set_np()\n",
    "import numpy as np\n",
    "\n",
    "from d2l import mxnet as mxd2l  # Use MXNet as the backend\n",
    "from d2l import torch as tcd2l  # Use PyTorch as the backend\n",
    "from d2l import tensorflow as tfd2l  # Use TensorFlow as the backend\n",
    "\n",
    "tc.__version__,tf.__version__,mx.__version__"
   ]
  },
  {
   "cell_type": "code",
   "execution_count": 5,
   "metadata": {},
   "outputs": [],
   "source": [
    "true_w = mxnp.array([2, -3.4])\n",
    "true_b = 4.2\n",
    "features, labels = mxd2l.synthetic_data(true_w,true_b,1000)"
   ]
  },
  {
   "cell_type": "code",
   "execution_count": 6,
   "metadata": {},
   "outputs": [
    {
     "data": {
      "text/plain": [
       "((1000, 2), (1000, 1))"
      ]
     },
     "execution_count": 6,
     "metadata": {},
     "output_type": "execute_result"
    }
   ],
   "source": [
    "features.shape,labels.shape"
   ]
  },
  {
   "cell_type": "code",
   "execution_count": 7,
   "metadata": {},
   "outputs": [
    {
     "data": {
      "text/plain": [
       "array([[ 1.1630785 ,  2.2122061 ],\n",
       "       [ 0.4838046 ,  0.7740038 ],\n",
       "       [ 0.29956347,  1.0434403 ],\n",
       "       [ 0.15302546,  1.1839255 ],\n",
       "       [-1.1688148 ,  1.8917114 ],\n",
       "       [ 1.5580711 , -1.2347414 ],\n",
       "       [-0.5459446 , -1.771029  ],\n",
       "       [-2.3556297 , -0.45138445],\n",
       "       [ 0.5414402 ,  0.57938355],\n",
       "       [ 2.6785066 , -1.856082  ]])"
      ]
     },
     "execution_count": 7,
     "metadata": {},
     "output_type": "execute_result"
    }
   ],
   "source": [
    "features[0:10]"
   ]
  },
  {
   "cell_type": "code",
   "execution_count": 8,
   "metadata": {},
   "outputs": [
    {
     "data": {
      "image/png": "[encoded data removed]",
      "text/plain": [
       "<Figure size 432x288 with 1 Axes>"
      ]
     },
     "metadata": {
      "needs_background": "light"
     },
     "output_type": "display_data"
    }
   ],
   "source": [
    "mxd2l.plt.scatter(features[:,0],labels[:,0]);"
   ]
  },
  {
   "cell_type": "code",
   "execution_count": 9,
   "metadata": {},
   "outputs": [
    {
     "data": {
      "image/png": "[encoded data removed]",
      "text/plain": [
       "<Figure size 432x288 with 1 Axes>"
      ]
     },
     "metadata": {
      "needs_background": "light"
     },
     "output_type": "display_data"
    }
   ],
   "source": [
    "mxd2l.plt.scatter(features[:,1],labels[:,0],1);"
   ]
  },
  {
   "cell_type": "code",
   "execution_count": 10,
   "metadata": {},
   "outputs": [
    {
     "data": {
      "image/png": "[encoded data removed]",
      "text/plain": [
       "<Figure size 432x288 with 1 Axes>"
      ]
     },
     "metadata": {
      "needs_background": "light"
     },
     "output_type": "display_data"
    }
   ],
   "source": [
    "mxd2l.plt.scatter(features[:,0],features[:,1],1);"
   ]
  },
  {
   "cell_type": "code",
   "execution_count": 11,
   "metadata": {},
   "outputs": [
    {
     "data": {
      "image/png": "[encoded data removed]",
      "text/plain": [
       "<Figure size 432x288 with 1 Axes>"
      ]
     },
     "metadata": {
      "needs_background": "light"
     },
     "output_type": "display_data"
    }
   ],
   "source": [
    "mxd2l.plt.scatter(mxd2l.numpy(features[:, 1]), mxd2l.numpy(labels), 1);"
   ]
  },
  {
   "cell_type": "code",
   "execution_count": 12,
   "metadata": {},
   "outputs": [
    {
     "data": {
      "image/png": "[encoded data removed]",
      "text/plain": [
       "<Figure size 432x288 with 1 Axes>"
      ]
     },
     "metadata": {
      "needs_background": "light"
     },
     "output_type": "display_data"
    }
   ],
   "source": [
    "mxd2l.plt.scatter(features[:, 1], labels, 1);"
   ]
  },
  {
   "cell_type": "markdown",
   "metadata": {},
   "source": [
    "## 3.2.2. Reading the Dataset"
   ]
  },
  {
   "cell_type": "code",
   "execution_count": 13,
   "metadata": {},
   "outputs": [],
   "source": [
    "import random"
   ]
  },
  {
   "cell_type": "markdown",
   "metadata": {},
   "source": [
    "### mxnet"
   ]
  },
  {
   "cell_type": "code",
   "execution_count": 14,
   "metadata": {},
   "outputs": [],
   "source": [
    "true_w_mx = mxnp.array([2, -3.4])\n",
    "true_b_mx = 4.2\n",
    "features_mx, labels_mx = mxd2l.synthetic_data(true_w_mx,true_b_mx,1000)"
   ]
  },
  {
   "cell_type": "code",
   "execution_count": 109,
   "metadata": {},
   "outputs": [],
   "source": [
    "def data_iter_mx(batch_size,features,labels):\n",
    "    num_examples=len(features)\n",
    "    indices=list(range(num_examples))  # 必须转变成list\n",
    "    random.shuffle(indices)\n",
    "    for i in range(0,num_examples,batch_size):\n",
    "        batch_indices=mxnp.array(indices[i:min(i+batch_size,num_examples)])\n",
    "        if i==0:\n",
    "            print(f\"batch_indices.shape={batch_indices.shape},batch_indices= {batch_indices}\")\n",
    "        yield features[batch_indices],labels[batch_indices]    "
   ]
  },
  {
   "cell_type": "code",
   "execution_count": 71,
   "metadata": {},
   "outputs": [
    {
     "name": "stdout",
     "output_type": "stream",
     "text": [
      "(5,) [105. 776. 752.  49. 950.]\n",
      "(5, 2) (5, 1)\n",
      "[[ 0.53822994  0.15657862]\n",
      " [ 0.6676839  -0.5338718 ]\n",
      " [ 0.5668887  -0.39027944]\n",
      " [ 0.16353652 -0.31873387]\n",
      " [ 1.8061298  -0.59092736]] \n",
      " [[4.739031 ]\n",
      " [7.3499727]\n",
      " [6.6519136]\n",
      " [5.620028 ]\n",
      " [9.821617 ]]\n"
     ]
    }
   ],
   "source": [
    "batch_size = 5\n",
    "for X, y in data_iter_mx(batch_size, features_mx, labels_mx):\n",
    "    print(X.shape,  y.shape)\n",
    "    print(X,\"\\n\",  y)\n",
    "    break"
   ]
  },
  {
   "cell_type": "markdown",
   "metadata": {},
   "source": [
    "### torch"
   ]
  },
  {
   "cell_type": "code",
   "execution_count": 72,
   "metadata": {},
   "outputs": [
    {
     "data": {
      "text/plain": [
       "(torch.Size([1000, 2]), torch.Size([1000, 1]))"
      ]
     },
     "execution_count": 72,
     "metadata": {},
     "output_type": "execute_result"
    }
   ],
   "source": [
    "true_w_tc = tc.tensor([2, -3.4])\n",
    "true_b_tc = 4.2\n",
    "features_tc, labels_tc = tcd2l.synthetic_data(true_w_tc, true_b_tc, 1000)\n",
    "features_tc.shape, labels_tc.shape"
   ]
  },
  {
   "cell_type": "code",
   "execution_count": 110,
   "metadata": {},
   "outputs": [],
   "source": [
    "def data_iter_tc(batch_size,features,labels):\n",
    "    num_examples=len(labels)\n",
    "    indices=tc.arange(num_examples)\n",
    "    indices=list(indices) # 必须转变成list\n",
    "    random.shuffle(indices)\n",
    "    for i in range(0,num_examples,batch_size):\n",
    "        batch_indices=tc.tensor(indices[i:min(i+batch_size,num_examples)])\n",
    "        if i==0:\n",
    "            print(f\"batch_indices.shape={batch_indices.shape},batch_indices= {batch_indices}\")\n",
    "        yield features[batch_indices], labels[batch_indices]\n",
    "    "
   ]
  },
  {
   "cell_type": "code",
   "execution_count": 74,
   "metadata": {},
   "outputs": [
    {
     "name": "stdout",
     "output_type": "stream",
     "text": [
      "torch.Size([5]) tensor([263, 406, 543,  55,  53])\n",
      "torch.Size([5, 2]) torch.Size([5, 1])\n",
      "tensor([[-0.8302,  1.6058],\n",
      "        [ 0.5343,  0.0514],\n",
      "        [-3.0079,  0.2771],\n",
      "        [-0.4775,  1.5116],\n",
      "        [-0.5310,  0.4611]]) \n",
      " tensor([[-2.9161],\n",
      "        [ 5.0950],\n",
      "        [-2.7486],\n",
      "        [-1.8815],\n",
      "        [ 1.5684]])\n"
     ]
    }
   ],
   "source": [
    "for X, y in data_iter_tc(batch_size, features_tc, labels_tc):\n",
    "    print(X.shape,  y.shape)\n",
    "    print(X,\"\\n\",  y)\n",
    "    break"
   ]
  },
  {
   "cell_type": "markdown",
   "metadata": {},
   "source": [
    "## tensorflow"
   ]
  },
  {
   "cell_type": "code",
   "execution_count": 75,
   "metadata": {},
   "outputs": [
    {
     "data": {
      "text/plain": [
       "(TensorShape([1000, 2]), TensorShape([1000, 1]))"
      ]
     },
     "execution_count": 75,
     "metadata": {},
     "output_type": "execute_result"
    }
   ],
   "source": [
    "true_w_tf = tf.constant([2, -3.4])\n",
    "true_b_tf = 4.2\n",
    "features_tf, labels_tf = tfd2l.synthetic_data(true_w_tf, true_b_tf, 1000)\n",
    "features_tf.shape, labels_tf.shape"
   ]
  },
  {
   "cell_type": "code",
   "execution_count": 76,
   "metadata": {},
   "outputs": [
    {
     "data": {
      "text/plain": [
       "<tf.Tensor: shape=(5, 2), dtype=float32, numpy=\n",
       "array([[ 0.2402331 , -0.9011917 ],\n",
       "       [-1.871449  ,  0.214811  ],\n",
       "       [-0.5835053 , -1.4867499 ],\n",
       "       [-0.19069244, -0.3429719 ],\n",
       "       [-0.71324515,  0.21135889]], dtype=float32)>"
      ]
     },
     "execution_count": 76,
     "metadata": {},
     "output_type": "execute_result"
    }
   ],
   "source": [
    "tf.gather(features_tf,[711, 107, 645, 816, 830])"
   ]
  },
  {
   "cell_type": "code",
   "execution_count": 77,
   "metadata": {},
   "outputs": [],
   "source": [
    "# features_tf[711, 107, 645, 816, 830]"
   ]
  },
  {
   "cell_type": "code",
   "execution_count": 111,
   "metadata": {},
   "outputs": [],
   "source": [
    "def data_iter_tf(batch_size,features,labels):\n",
    "    num_examples=len(labels)\n",
    "    indices=list(range(num_examples))\n",
    "    random.shuffle(indices)\n",
    "    for i in range(0,num_examples,batch_size):\n",
    "        batch_indices=indices[i:min(i+batch_size,num_examples)]\n",
    "        if i==0:\n",
    "            tf.print(f\"batch_indices= {batch_indices}\")\n",
    "        yield tf.gather(features,batch_indices),tf.gather(labels,batch_indices)        \n",
    "        #yield features[batch_indices],labels[batch_indices]  \n"
   ]
  },
  {
   "cell_type": "code",
   "execution_count": 79,
   "metadata": {},
   "outputs": [
    {
     "name": "stdout",
     "output_type": "stream",
     "text": [
      "batch_indices:[166, 475, 370, 727, 5]\n",
      "-----------\n",
      "TensorShape([5, 2]) TensorShape([5, 1])\n",
      "-----------\n",
      "[[-1.15398037 -0.536836803]\n",
      " [-1.19190633 0.933767378]\n",
      " [1.19315076 -0.806188226]\n",
      " [0.102894023 -0.0697023198]\n",
      " [-2.11057186 -0.61140722]] \n",
      " [[3.72076702]\n",
      " [-1.35099661]\n",
      " [9.33956242]\n",
      " [4.63352776]\n",
      " [2.06527]]\n"
     ]
    }
   ],
   "source": [
    "batch_size = 5\n",
    "for X, y in data_iter_tf(batch_size, features_tf, labels_tf):\n",
    "    tf.print(\"-----------\")\n",
    "    tf.print(X.shape, y.shape)\n",
    "    tf.print(\"-----------\")\n",
    "    tf.print(X, '\\n', y)\n",
    "    break"
   ]
  },
  {
   "cell_type": "code",
   "execution_count": 80,
   "metadata": {},
   "outputs": [],
   "source": [
    "indices1=list(tf.range(3));indices2=list(range(3))"
   ]
  },
  {
   "cell_type": "code",
   "execution_count": 81,
   "metadata": {},
   "outputs": [],
   "source": [
    "# tf.constant(indices1) # 会报错，因为indices1已经是tf.constant了"
   ]
  },
  {
   "cell_type": "code",
   "execution_count": 82,
   "metadata": {},
   "outputs": [
    {
     "data": {
      "text/plain": [
       "<tf.Tensor: shape=(3,), dtype=int32, numpy=array([0, 1, 2])>"
      ]
     },
     "execution_count": 82,
     "metadata": {},
     "output_type": "execute_result"
    }
   ],
   "source": [
    "tf.constant(indices2)"
   ]
  },
  {
   "cell_type": "code",
   "execution_count": 83,
   "metadata": {},
   "outputs": [
    {
     "data": {
      "text/plain": [
       "[<tf.Tensor: shape=(), dtype=int32, numpy=0>,\n",
       " <tf.Tensor: shape=(), dtype=int32, numpy=2>,\n",
       " <tf.Tensor: shape=(), dtype=int32, numpy=1>]"
      ]
     },
     "execution_count": 83,
     "metadata": {},
     "output_type": "execute_result"
    }
   ],
   "source": [
    "random.shuffle(indices1);indices1"
   ]
  },
  {
   "cell_type": "code",
   "execution_count": 84,
   "metadata": {},
   "outputs": [
    {
     "data": {
      "text/plain": [
       "[2, 0, 1]"
      ]
     },
     "execution_count": 84,
     "metadata": {},
     "output_type": "execute_result"
    }
   ],
   "source": [
    "random.shuffle(indices2);indices2"
   ]
  },
  {
   "cell_type": "code",
   "execution_count": 85,
   "metadata": {},
   "outputs": [
    {
     "data": {
      "text/plain": [
       "<tf.Tensor: shape=(3, 2), dtype=float32, numpy=\n",
       "array([[-0.16569339, -1.6336664 ],\n",
       "       [-0.07698829, -1.0169058 ],\n",
       "       [ 0.24311784, -0.9521298 ]], dtype=float32)>"
      ]
     },
     "execution_count": 85,
     "metadata": {},
     "output_type": "execute_result"
    }
   ],
   "source": [
    "tf.gather(features_tf,indices2)"
   ]
  },
  {
   "cell_type": "code",
   "execution_count": 86,
   "metadata": {},
   "outputs": [
    {
     "data": {
      "text/plain": [
       "<tf.Tensor: shape=(3, 2), dtype=float32, numpy=\n",
       "array([[-0.07698829, -1.0169058 ],\n",
       "       [ 0.24311784, -0.9521298 ],\n",
       "       [-0.16569339, -1.6336664 ]], dtype=float32)>"
      ]
     },
     "execution_count": 86,
     "metadata": {},
     "output_type": "execute_result"
    }
   ],
   "source": [
    "tf.gather(features_tf,[0,1,2])"
   ]
  },
  {
   "cell_type": "code",
   "execution_count": 87,
   "metadata": {},
   "outputs": [
    {
     "data": {
      "text/plain": [
       "[<tf.Tensor: shape=(), dtype=int32, numpy=0>,\n",
       " <tf.Tensor: shape=(), dtype=int32, numpy=2>,\n",
       " <tf.Tensor: shape=(), dtype=int32, numpy=1>]"
      ]
     },
     "execution_count": 87,
     "metadata": {},
     "output_type": "execute_result"
    }
   ],
   "source": [
    "indices1"
   ]
  },
  {
   "cell_type": "code",
   "execution_count": 88,
   "metadata": {},
   "outputs": [
    {
     "data": {
      "text/plain": [
       "<tf.Tensor: shape=(3, 2), dtype=float32, numpy=\n",
       "array([[-0.07698829, -1.0169058 ],\n",
       "       [-0.16569339, -1.6336664 ],\n",
       "       [ 0.24311784, -0.9521298 ]], dtype=float32)>"
      ]
     },
     "execution_count": 88,
     "metadata": {},
     "output_type": "execute_result"
    }
   ],
   "source": [
    "tf.gather(features_tf,indices1)"
   ]
  },
  {
   "cell_type": "markdown",
   "metadata": {},
   "source": [
    "## 3.2.3. Initializing Model Parameters"
   ]
  },
  {
   "cell_type": "markdown",
   "metadata": {},
   "source": [
    "### mxnet"
   ]
  },
  {
   "cell_type": "code",
   "execution_count": 89,
   "metadata": {},
   "outputs": [
    {
     "data": {
      "text/plain": [
       "(array([[-0.01231408],\n",
       "        [-0.00284909]]),\n",
       " array([0.]))"
      ]
     },
     "execution_count": 89,
     "metadata": {},
     "output_type": "execute_result"
    }
   ],
   "source": [
    "w_mx=mxnp.random.normal(0.0,0.01,(2,1))\n",
    "b_mx=mxnp.zeros(1)\n",
    "w_mx,b_mx"
   ]
  },
  {
   "cell_type": "code",
   "execution_count": 90,
   "metadata": {},
   "outputs": [],
   "source": [
    "w_mx.attach_grad()\n",
    "b_mx.attach_grad()"
   ]
  },
  {
   "cell_type": "markdown",
   "metadata": {},
   "source": [
    "### torch"
   ]
  },
  {
   "cell_type": "code",
   "execution_count": 91,
   "metadata": {},
   "outputs": [],
   "source": [
    "w_tc=tc.normal(0.,0.01,size=(2,1),requires_grad=True)\n",
    "b_tc=tc.zeros(1,requires_grad=True)"
   ]
  },
  {
   "cell_type": "code",
   "execution_count": 92,
   "metadata": {},
   "outputs": [
    {
     "data": {
      "text/plain": [
       "(tensor([[-0.0059],\n",
       "         [-0.0061]], requires_grad=True),\n",
       " tensor([0.], requires_grad=True))"
      ]
     },
     "execution_count": 92,
     "metadata": {},
     "output_type": "execute_result"
    }
   ],
   "source": [
    "w_tc,b_tc"
   ]
  },
  {
   "cell_type": "markdown",
   "metadata": {},
   "source": [
    "### tensorflow"
   ]
  },
  {
   "cell_type": "code",
   "execution_count": 158,
   "metadata": {},
   "outputs": [],
   "source": [
    "w_tf=tf.Variable(tf.random.normal(shape=(2,1),mean=0,stddev=0.01),trainable=True)\n",
    "b_tf=tf.Variable(tf.zeros(1),trainable=True)"
   ]
  },
  {
   "cell_type": "code",
   "execution_count": 159,
   "metadata": {},
   "outputs": [
    {
     "data": {
      "text/plain": [
       "(<tf.Variable 'Variable:0' shape=(2, 1) dtype=float32, numpy=\n",
       " array([[-0.00208048],\n",
       "        [-0.00642008]], dtype=float32)>,\n",
       " <tf.Variable 'Variable:0' shape=(1,) dtype=float32, numpy=array([0.], dtype=float32)>)"
      ]
     },
     "execution_count": 159,
     "metadata": {},
     "output_type": "execute_result"
    }
   ],
   "source": [
    "w_tf,b_tf"
   ]
  },
  {
   "cell_type": "markdown",
   "metadata": {},
   "source": [
    "## 3.2.4 & 5. Defining the Model  /  Defining the Loss Function"
   ]
  },
  {
   "cell_type": "markdown",
   "metadata": {},
   "source": [
    "### mxnet"
   ]
  },
  {
   "cell_type": "code",
   "execution_count": 215,
   "metadata": {},
   "outputs": [],
   "source": [
    "def linreg_mx(X,w,b):\n",
    "    return X@w+b\n",
    "    #return mxnp.dot(X,w)+b"
   ]
  },
  {
   "cell_type": "code",
   "execution_count": 216,
   "metadata": {},
   "outputs": [],
   "source": [
    "def squared_loss_mx(y_hat, y):\n",
    "#     print(f\"y_hat_shape:{y_hat.shape}\")\n",
    "    return (y_hat-y.reshape(y_hat.shape))**2/2"
   ]
  },
  {
   "cell_type": "markdown",
   "metadata": {},
   "source": [
    "### torch"
   ]
  },
  {
   "cell_type": "code",
   "execution_count": 217,
   "metadata": {},
   "outputs": [],
   "source": [
    "def linreg_tc(X,w,b):\n",
    "    return X@w+b\n",
    "    #return tc.matmul(X,w)+b"
   ]
  },
  {
   "cell_type": "code",
   "execution_count": 218,
   "metadata": {},
   "outputs": [],
   "source": [
    "squared_loss_tc=squared_loss_mx"
   ]
  },
  {
   "cell_type": "markdown",
   "metadata": {},
   "source": [
    "### tensorflow"
   ]
  },
  {
   "cell_type": "code",
   "execution_count": 219,
   "metadata": {},
   "outputs": [],
   "source": [
    "def linreg_tf(X,w,b):\n",
    "    #return tf.matmul(X,w)+b\n",
    "    return X@w+b"
   ]
  },
  {
   "cell_type": "code",
   "execution_count": 220,
   "metadata": {},
   "outputs": [],
   "source": [
    "# help(tf.matmul)"
   ]
  },
  {
   "cell_type": "code",
   "execution_count": null,
   "metadata": {},
   "outputs": [],
   "source": []
  },
  {
   "cell_type": "code",
   "execution_count": 221,
   "metadata": {},
   "outputs": [],
   "source": [
    "def squared_loss_tf(y_hat, y): \n",
    "    y_hat_shape=y_hat.shape\n",
    "#     print(f\"y_hat_shape:{y_hat_shape}\")\n",
    "    return (y_hat-tf.reshape(y,y_hat_shape))**2 / 2"
   ]
  },
  {
   "cell_type": "markdown",
   "metadata": {},
   "source": [
    "## 3.2.6. Defining the Optimization Algorithm"
   ]
  },
  {
   "cell_type": "markdown",
   "metadata": {},
   "source": [
    "### mxnet"
   ]
  },
  {
   "cell_type": "code",
   "execution_count": 222,
   "metadata": {},
   "outputs": [],
   "source": [
    "def sgd_mx(params,lr,batch_size):\n",
    "    for param in params:\n",
    "        param[:]=param-lr*param.grad/batch_size"
   ]
  },
  {
   "cell_type": "markdown",
   "metadata": {},
   "source": [
    "### torch"
   ]
  },
  {
   "cell_type": "code",
   "execution_count": 223,
   "metadata": {},
   "outputs": [],
   "source": [
    "def sgd_tc(params,lr,batch_size):\n",
    "    for param in params:\n",
    "        param.data.sub_(lr*param.grad/batch_size)\n",
    "        param.grad.data.zero_()"
   ]
  },
  {
   "cell_type": "markdown",
   "metadata": {},
   "source": [
    "### tensorflow"
   ]
  },
  {
   "cell_type": "code",
   "execution_count": 224,
   "metadata": {},
   "outputs": [],
   "source": [
    "def sgd_tf(params,grads,lr,batch_size):\n",
    "    for param,grad in zip(params,grads):\n",
    "        param.assign_sub(lr*grad/batch_size)"
   ]
  },
  {
   "cell_type": "markdown",
   "metadata": {},
   "source": [
    "## 3.2.7. Training"
   ]
  },
  {
   "cell_type": "code",
   "execution_count": 245,
   "metadata": {},
   "outputs": [],
   "source": [
    "lr = 0.01\n",
    "num_epochs = 3\n",
    "batch_size=10"
   ]
  },
  {
   "cell_type": "markdown",
   "metadata": {},
   "source": [
    "### mxnet"
   ]
  },
  {
   "cell_type": "code",
   "execution_count": 246,
   "metadata": {},
   "outputs": [],
   "source": [
    "from mxnet import autograd"
   ]
  },
  {
   "cell_type": "code",
   "execution_count": 247,
   "metadata": {},
   "outputs": [
    {
     "name": "stdout",
     "output_type": "stream",
     "text": [
      "batch_indices.shape=(10,),batch_indices= [236. 603. 902. 212. 985. 222. 504. 861. 934. 815.]\n",
      "epoch 1, loss 0.000051, y_hats.shape (1000, 1)\n",
      "batch_indices.shape=(10,),batch_indices= [878. 739. 578. 905.  66. 742. 884. 542. 593. 103.]\n",
      "epoch 2, loss 0.000051, y_hats.shape (1000, 1)\n",
      "batch_indices.shape=(10,),batch_indices= [776. 552. 356. 297. 197. 879. 496.  15. 188. 463.]\n",
      "epoch 3, loss 0.000051, y_hats.shape (1000, 1)\n"
     ]
    }
   ],
   "source": [
    "net = linreg_mx\n",
    "loss = squared_loss_mx\n",
    "for epoch in range(num_epochs):\n",
    "    for X,y in data_iter_mx(batch_size,features,labels):\n",
    "        with autograd.record():\n",
    "            y_hat=net(X,w_mx,b_mx)\n",
    "            l=loss(y_hat,y)\n",
    "        l.backward()\n",
    "        sgd_mx([w_mx,b_mx],lr,batch_size)\n",
    "    y_hats=net(features,w_mx,b_mx)\n",
    "    train_l=loss(y_hats,labels)\n",
    "    print(f'epoch {epoch + 1}, loss {float(train_l.mean()):f}, y_hats.shape {y_hats.shape}')"
   ]
  },
  {
   "cell_type": "code",
   "execution_count": 248,
   "metadata": {},
   "outputs": [
    {
     "data": {
      "text/plain": [
       "(array([[ 1.9996084],\n",
       "        [-3.4003   ]]),\n",
       " array([4.1997824]))"
      ]
     },
     "execution_count": 248,
     "metadata": {},
     "output_type": "execute_result"
    }
   ],
   "source": [
    "w_mx,b_mx"
   ]
  },
  {
   "cell_type": "code",
   "execution_count": 249,
   "metadata": {},
   "outputs": [],
   "source": [
    "# true_w = np.array([2, -3.4])\n",
    "# true_b = 4.2"
   ]
  },
  {
   "cell_type": "markdown",
   "metadata": {},
   "source": [
    "### torch"
   ]
  },
  {
   "cell_type": "code",
   "execution_count": 250,
   "metadata": {},
   "outputs": [
    {
     "name": "stdout",
     "output_type": "stream",
     "text": [
      "batch_indices.shape=torch.Size([10]),batch_indices= tensor([951, 986, 171, 994, 392, 983, 699, 192, 536, 681])\n",
      "epoch 1, loss 0.000049, y_hats.shape torch.Size([1000, 1])\n",
      "batch_indices.shape=torch.Size([10]),batch_indices= tensor([739, 311, 216, 993, 358, 788,  75, 224, 160, 774])\n",
      "epoch 2, loss 0.000049, y_hats.shape torch.Size([1000, 1])\n",
      "batch_indices.shape=torch.Size([10]),batch_indices= tensor([596, 997, 832,  88, 968,  57, 439, 554, 203, 982])\n",
      "epoch 3, loss 0.000049, y_hats.shape torch.Size([1000, 1])\n"
     ]
    }
   ],
   "source": [
    "net=linreg_tc\n",
    "loss=squared_loss_tc\n",
    "for epoch in range(num_epochs):\n",
    "    for X,y in data_iter_tc(batch_size,features_tc,labels_tc):\n",
    "        l = loss(net(X, w_tc,b_tc), y)\n",
    "        l.sum().backward()\n",
    "        sgd_tc([w_tc,b_tc],lr,batch_size)\n",
    "    with tc.no_grad():\n",
    "        y_hats=net(features_tc,w_tc,b_tc)\n",
    "        train_l=loss(y_hats,labels_tc)\n",
    "        print(f'epoch {epoch + 1}, loss {float(train_l.mean()):f}, y_hats.shape {y_hats.shape}')\n",
    "#         train_1=loss(net(features_tc,w_tc,b_tc),labels_tc)\n",
    "#         print(f'epoch {epoch + 1}, loss {float(train_l.mean()):f}, y_hats.shape {y_hats.shape}')"
   ]
  },
  {
   "cell_type": "code",
   "execution_count": 251,
   "metadata": {},
   "outputs": [
    {
     "data": {
      "text/plain": [
       "(tensor([[ 2.0000],\n",
       "         [-3.4003]], requires_grad=True),\n",
       " tensor([4.1999], requires_grad=True))"
      ]
     },
     "execution_count": 251,
     "metadata": {},
     "output_type": "execute_result"
    }
   ],
   "source": [
    "w_tc,b_tc"
   ]
  },
  {
   "cell_type": "markdown",
   "metadata": {},
   "source": [
    "### tensorflow"
   ]
  },
  {
   "cell_type": "code",
   "execution_count": 252,
   "metadata": {},
   "outputs": [],
   "source": [
    "lr = 0.01\n",
    "num_epochs = 3\n",
    "net = linreg_tf\n",
    "loss = squared_loss_tf\n"
   ]
  },
  {
   "cell_type": "code",
   "execution_count": 253,
   "metadata": {},
   "outputs": [],
   "source": [
    "# linreg_tf??"
   ]
  },
  {
   "cell_type": "code",
   "execution_count": 254,
   "metadata": {},
   "outputs": [],
   "source": [
    "# loss??"
   ]
  },
  {
   "cell_type": "code",
   "execution_count": 255,
   "metadata": {},
   "outputs": [],
   "source": [
    "# sgd_tf??"
   ]
  },
  {
   "cell_type": "code",
   "execution_count": 256,
   "metadata": {},
   "outputs": [],
   "source": [
    "# features_tf[0:10]"
   ]
  },
  {
   "cell_type": "code",
   "execution_count": 257,
   "metadata": {},
   "outputs": [],
   "source": [
    "# labels_tf[0:10]"
   ]
  },
  {
   "cell_type": "code",
   "execution_count": 258,
   "metadata": {},
   "outputs": [],
   "source": [
    "# net??"
   ]
  },
  {
   "cell_type": "code",
   "execution_count": 259,
   "metadata": {},
   "outputs": [],
   "source": [
    "# y_tf=net(features_tf[0:10],w_tf,b_tf)\n",
    "# y_tf"
   ]
  },
  {
   "cell_type": "code",
   "execution_count": 260,
   "metadata": {},
   "outputs": [
    {
     "data": {
      "text/plain": [
       "(<tf.Variable 'Variable:0' shape=(2, 1) dtype=float32, numpy=\n",
       " array([[ 1.9988761],\n",
       "        [-3.4004917]], dtype=float32)>,\n",
       " <tf.Variable 'Variable:0' shape=(1,) dtype=float32, numpy=array([4.1987767], dtype=float32)>)"
      ]
     },
     "execution_count": 260,
     "metadata": {},
     "output_type": "execute_result"
    }
   ],
   "source": [
    "w_tf,b_tf"
   ]
  },
  {
   "cell_type": "code",
   "execution_count": 271,
   "metadata": {},
   "outputs": [
    {
     "data": {
      "text/plain": [
       "(<tf.Variable 'Variable:0' shape=(2, 1) dtype=float32, numpy=\n",
       " array([[0.],\n",
       "        [0.]], dtype=float32)>,\n",
       " <tf.Variable 'Variable:0' shape=(1,) dtype=float32, numpy=array([0.], dtype=float32)>)"
      ]
     },
     "execution_count": 271,
     "metadata": {},
     "output_type": "execute_result"
    }
   ],
   "source": [
    "w_tf=tf.Variable(tf.zeros(shape=(2,1)))\n",
    "b_tf=tf.Variable(tf.zeros(1),trainable=True)\n",
    "w_tf,b_tf"
   ]
  },
  {
   "cell_type": "code",
   "execution_count": 272,
   "metadata": {},
   "outputs": [
    {
     "name": "stdout",
     "output_type": "stream",
     "text": [
      "batch_indices= [216, 333, 561, 784, 30, 431, 750, 515, 461, 664]\n",
      "epoch 1, loss 0.000052,y_hats.shape (1000, 1)\n",
      "batch_indices= [173, 849, 897, 950, 0, 23, 715, 707, 752, 513]\n",
      "epoch 2, loss 0.000052,y_hats.shape (1000, 1)\n",
      "batch_indices= [838, 33, 999, 652, 159, 872, 505, 989, 677, 250]\n",
      "epoch 3, loss 0.000052,y_hats.shape (1000, 1)\n"
     ]
    }
   ],
   "source": [
    "# w_tf=tf.Variable(tf.random.normal(shape=(2,1),mean=0,stddev=0.01),trainable=True)\n",
    "w_tf=tf.Variable(tf.zeros(shape=(2,1)))\n",
    "b_tf=tf.Variable(tf.zeros(1),trainable=True)\n",
    "lr=0.01\n",
    "batch_size=10\n",
    "num_epochs=3\n",
    "for epoch in range(num_epochs):\n",
    "    for X, y in data_iter_tf(batch_size, features_tf, labels_tf):\n",
    "        with tf.GradientTape() as g:\n",
    "            l=loss(net(features_tf,w_tf,b_tf),labels_tf)\n",
    "        dw,db=g.gradient(l,[w_tf,b_tf])\n",
    "        sgd_tf([w_tf,b_tf],[dw,db],lr,batch_size)\n",
    "    y_hats=net(features_tf, w_tf,b_tf)\n",
    "    train_l = loss(y_hats, labels_tf)\n",
    "    print(f'epoch {epoch + 1}, loss {float(tf.reduce_mean(train_l)):f},y_hats.shape {y_hats.shape}')"
   ]
  },
  {
   "cell_type": "code",
   "execution_count": 270,
   "metadata": {},
   "outputs": [
    {
     "data": {
      "text/plain": [
       "(<tf.Variable 'Variable:0' shape=(2, 1) dtype=float32, numpy=\n",
       " array([[ 1.9994975],\n",
       "        [-3.400505 ]], dtype=float32)>,\n",
       " <tf.Variable 'Variable:0' shape=(1,) dtype=float32, numpy=array([4.199357], dtype=float32)>)"
      ]
     },
     "execution_count": 270,
     "metadata": {},
     "output_type": "execute_result"
    }
   ],
   "source": [
    "w_tf,b_tf"
   ]
  },
  {
   "cell_type": "code",
   "execution_count": 265,
   "metadata": {},
   "outputs": [
    {
     "name": "stdout",
     "output_type": "stream",
     "text": [
      "error in estimating w: [0.00050247 0.00050497]\n",
      "error in estimating b: [0.00064278]\n"
     ]
    }
   ],
   "source": [
    "true_w = tf.constant([2, -3.4])\n",
    "true_b = 4.2\n",
    "print(f'error in estimating w: {true_w - tf.reshape(w_tf, true_w.shape)}')\n",
    "print(f'error in estimating b: {true_b - b_tf}')"
   ]
  },
  {
   "cell_type": "code",
   "execution_count": 266,
   "metadata": {},
   "outputs": [
    {
     "data": {
      "text/plain": [
       "(<tf.Tensor: shape=(2, 1), dtype=float32, numpy=\n",
       " array([[-4.8981979e-05],\n",
       "        [ 3.2408163e-05]], dtype=float32)>,\n",
       " <tf.Tensor: shape=(1,), dtype=float32, numpy=array([0.00012769], dtype=float32)>)"
      ]
     },
     "execution_count": 266,
     "metadata": {},
     "output_type": "execute_result"
    }
   ],
   "source": [
    "dw,db"
   ]
  },
  {
   "cell_type": "markdown",
   "metadata": {},
   "source": [
    "## random.shuffle前必须转变成list"
   ]
  },
  {
   "cell_type": "code",
   "execution_count": 71,
   "metadata": {},
   "outputs": [
    {
     "data": {
      "text/plain": [
       "(tensor([0, 1, 2, 3, 4, 5, 6, 7, 8, 9]),\n",
       " [tensor(0),\n",
       "  tensor(1),\n",
       "  tensor(2),\n",
       "  tensor(3),\n",
       "  tensor(4),\n",
       "  tensor(5),\n",
       "  tensor(6),\n",
       "  tensor(7),\n",
       "  tensor(8),\n",
       "  tensor(9)])"
      ]
     },
     "execution_count": 71,
     "metadata": {},
     "output_type": "execute_result"
    }
   ],
   "source": [
    "a=tc.arange(10)\n",
    "b=list(tc.arange(10))\n",
    "a,b"
   ]
  },
  {
   "cell_type": "code",
   "execution_count": 72,
   "metadata": {},
   "outputs": [],
   "source": [
    "random.shuffle(a)"
   ]
  },
  {
   "cell_type": "code",
   "execution_count": 73,
   "metadata": {},
   "outputs": [
    {
     "data": {
      "text/plain": [
       "tensor([0, 1, 0, 0, 3, 2, 2, 2, 6, 1])"
      ]
     },
     "execution_count": 73,
     "metadata": {},
     "output_type": "execute_result"
    }
   ],
   "source": [
    "a  # 结果取不到所有的数值"
   ]
  },
  {
   "cell_type": "code",
   "execution_count": 74,
   "metadata": {},
   "outputs": [],
   "source": [
    "random.shuffle(b)"
   ]
  },
  {
   "cell_type": "code",
   "execution_count": 75,
   "metadata": {},
   "outputs": [
    {
     "data": {
      "text/plain": [
       "[tensor(0),\n",
       " tensor(1),\n",
       " tensor(4),\n",
       " tensor(2),\n",
       " tensor(3),\n",
       " tensor(5),\n",
       " tensor(6),\n",
       " tensor(9),\n",
       " tensor(7),\n",
       " tensor(8)]"
      ]
     },
     "execution_count": 75,
     "metadata": {},
     "output_type": "execute_result"
    }
   ],
   "source": [
    "b "
   ]
  },
  {
   "cell_type": "code",
   "execution_count": null,
   "metadata": {},
   "outputs": [],
   "source": []
  }
 ],
 "metadata": {
  "kernelspec": {
   "display_name": "d2l",
   "language": "python",
   "name": "d2l"
  },
  "language_info": {
   "codemirror_mode": {
    "name": "ipython",
    "version": 3
   },
   "file_extension": ".py",
   "mimetype": "text/x-python",
   "name": "python",
   "nbconvert_exporter": "python",
   "pygments_lexer": "ipython3",
   "version": "3.8.5"
  },
  "toc-autonumbering": false,
  "toc-showcode": false,
  "toc-showmarkdowntxt": true,
  "toc-showtags": false
 },
 "nbformat": 4,
 "nbformat_minor": 4
}
