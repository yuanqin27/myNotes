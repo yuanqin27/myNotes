{
 "cells": [
  {
   "cell_type": "code",
   "execution_count": 1,
   "metadata": {},
   "outputs": [],
   "source": [
    "%matplotlib inline\n",
    "import torch as tc\n",
    "import tensorflow as tf\n",
    "import mxnet as mx\n",
    "from mxnet import np as mxnp\n",
    "from mxnet import npx as npx\n",
    "npx.set_np()\n",
    "import numpy as np\n",
    "\n",
    "from d2l import mxnet as mxd2l  # Use MXNet as the backend\n",
    "from d2l import torch as tcd2l  # Use PyTorch as the backend\n",
    "from d2l import tensorflow as tfd2l  # Use TensorFlow as the backend"
   ]
  },
  {
   "cell_type": "code",
   "execution_count": 2,
   "metadata": {},
   "outputs": [],
   "source": [
    "import sys\n",
    "\n",
    "from mxnet import gluon\n",
    "\n",
    "import torchvision\n",
    "from torchvision import transforms\n",
    "from torch.utils import data"
   ]
  },
  {
   "cell_type": "code",
   "execution_count": 3,
   "metadata": {},
   "outputs": [],
   "source": [
    "mnist_train_mx = gluon.data.vision.FashionMNIST(train=True)\n",
    "mnist_test_mx = gluon.data.vision.FashionMNIST(train=False)"
   ]
  },
  {
   "cell_type": "code",
   "execution_count": 4,
   "metadata": {},
   "outputs": [
    {
     "data": {
      "text/plain": [
       "(60000, 10000)"
      ]
     },
     "execution_count": 4,
     "metadata": {},
     "output_type": "execute_result"
    }
   ],
   "source": [
    "len(mnist_train_mx),len(mnist_test_mx)"
   ]
  },
  {
   "cell_type": "code",
   "execution_count": 5,
   "metadata": {},
   "outputs": [],
   "source": [
    "def get_dataloader_workers():  #@save\n",
    "    \"\"\"Use 4 processes to read the data except for Windows.\"\"\"\n",
    "    return 0 if sys.platform.startswith('win') else 4"
   ]
  },
  {
   "cell_type": "code",
   "execution_count": 6,
   "metadata": {},
   "outputs": [],
   "source": [
    "def load_data_fashion_mnist_from_mxnet(batch_size, resize=None,mnist_train_mx=mnist_train_mx,mnist_test_mx=mnist_test_mx):\n",
    "    my_trans_X=[transforms.ToPILImage(),transforms.ToTensor()]\n",
    "    if resize:\n",
    "        my_trans_X.insert(1,transforms.Resize((resize,resize)))\n",
    "    my_trans_compose_X=transforms.Compose(my_trans_X)\n",
    "    my_trans_map_X_train=map(lambda x:my_trans_compose_X(x),mnist_train_mx._data.asnumpy())\n",
    "    list_train=list(my_trans_map_X_train)\n",
    "    train_X=tc.stack(list_train)\n",
    "    train_y=tc.from_numpy(mnist_train_mx._label.asnumpy())\n",
    "    train_Xy=list(zip(train_X,train_y))\n",
    "    \n",
    "    \n",
    "    my_trans_map_X_test =map(lambda x:my_trans_compose_X(x),mnist_test_mx._data.asnumpy())\n",
    "    list_test=list(my_trans_map_X_test)\n",
    "    test_X=tc.stack(list_test)\n",
    "    test_y=tc.from_numpy(mnist_test_mx._label.asnumpy())\n",
    "    test_Xy=list(zip(test_X,test_y))\n",
    "    \n",
    "    num_workers=get_dataloader_workers()\n",
    "    train_dl=data.DataLoader(train_Xy,batch_size,shuffle=True,num_workers=num_workers)\n",
    "    test_dl =data.DataLoader(test_Xy,batch_size,shuffle=False,num_workers=num_workers)\n",
    "    \n",
    "    return (train_dl,test_dl)"
   ]
  },
  {
   "cell_type": "code",
   "execution_count": 7,
   "metadata": {},
   "outputs": [],
   "source": [
    "batch_size = 256\n",
    "train_iter, test_iter = load_data_fashion_mnist_from_mxnet(32, resize=64)"
   ]
  },
  {
   "cell_type": "code",
   "execution_count": 8,
   "metadata": {},
   "outputs": [
    {
     "name": "stdout",
     "output_type": "stream",
     "text": [
      "torch.Size([32, 1, 64, 64]) torch.float32 torch.Size([32]) torch.int32\n"
     ]
    }
   ],
   "source": [
    "for X, y in train_iter:\n",
    "    print(X.shape, X.dtype, y.shape, y.dtype)\n",
    "    break"
   ]
  },
  {
   "cell_type": "code",
   "execution_count": 9,
   "metadata": {},
   "outputs": [
    {
     "name": "stdout",
     "output_type": "stream",
     "text": [
      "torch.Size([32, 1, 64, 64]) torch.float32 torch.Size([32]) torch.int32\n"
     ]
    }
   ],
   "source": [
    "for X, y in test_iter:\n",
    "    print(X.shape, X.dtype, y.shape, y.dtype)\n",
    "    break"
   ]
  },
  {
   "cell_type": "code",
   "execution_count": 10,
   "metadata": {},
   "outputs": [],
   "source": [
    "train_iter, test_iter = load_data_fashion_mnist_from_mxnet(32, resize=None)"
   ]
  },
  {
   "cell_type": "code",
   "execution_count": 11,
   "metadata": {},
   "outputs": [
    {
     "name": "stdout",
     "output_type": "stream",
     "text": [
      "torch.Size([32, 1, 28, 28]) torch.float32 torch.Size([32]) torch.int32\n"
     ]
    }
   ],
   "source": [
    "for X, y in train_iter:\n",
    "    print(X.shape, X.dtype, y.shape, y.dtype)\n",
    "    break"
   ]
  },
  {
   "cell_type": "code",
   "execution_count": 12,
   "metadata": {},
   "outputs": [
    {
     "name": "stdout",
     "output_type": "stream",
     "text": [
      "torch.Size([32, 1, 28, 28]) torch.float32 torch.Size([32]) torch.int32\n"
     ]
    }
   ],
   "source": [
    "for X, y in test_iter:\n",
    "    print(X.shape, X.dtype, y.shape, y.dtype)\n",
    "    break"
   ]
  },
  {
   "cell_type": "code",
   "execution_count": null,
   "metadata": {},
   "outputs": [],
   "source": []
  }
 ],
 "metadata": {
  "kernelspec": {
   "display_name": "d2l",
   "language": "python",
   "name": "d2l"
  },
  "language_info": {
   "codemirror_mode": {
    "name": "ipython",
    "version": 3
   },
   "file_extension": ".py",
   "mimetype": "text/x-python",
   "name": "python",
   "nbconvert_exporter": "python",
   "pygments_lexer": "ipython3",
   "version": "3.8.5"
  }
 },
 "nbformat": 4,
 "nbformat_minor": 4
}
