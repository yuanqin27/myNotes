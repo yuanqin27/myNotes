{
 "cells": [
  {
   "cell_type": "code",
   "execution_count": 26,
   "metadata": {},
   "outputs": [],
   "source": [
    "# import torch\n",
    "# import tensorflow as tf\n",
    "# from mxnet import np as mnp\n",
    "# from mxnet import npx as mnpx\n",
    "# mnpx.set_np()\n",
    "# import numpy as nmp"
   ]
  },
  {
   "cell_type": "code",
   "execution_count": 11,
   "metadata": {},
   "outputs": [],
   "source": [
    "!conda deactivate"
   ]
  },
  {
   "cell_type": "code",
   "execution_count": 4,
   "metadata": {},
   "outputs": [],
   "source": [
    "!conda activate d2l"
   ]
  },
  {
   "cell_type": "code",
   "execution_count": null,
   "metadata": {},
   "outputs": [],
   "source": []
  },
  {
   "cell_type": "code",
   "execution_count": 5,
   "metadata": {},
   "outputs": [],
   "source": [
    "# !conda list"
   ]
  },
  {
   "cell_type": "code",
   "execution_count": 6,
   "metadata": {},
   "outputs": [],
   "source": [
    "import torch as tc\n",
    "import tensorflow as tf\n",
    "import mxnet as mx\n",
    "from mxnet import np as mxnp\n",
    "from mxnet import npx as npx\n",
    "npx.set_np()\n",
    "import numpy as np"
   ]
  },
  {
   "cell_type": "code",
   "execution_count": 7,
   "metadata": {},
   "outputs": [],
   "source": [
    "from d2l import mxnet as mxd2l  # Use MXNet as the backend\n",
    "from d2l import torch as tcd2l  # Use PyTorch as the backend\n",
    "from d2l import tensorflow as tfd2l  # Use TensorFlow as the backend"
   ]
  },
  {
   "cell_type": "code",
   "execution_count": 9,
   "metadata": {},
   "outputs": [
    {
     "data": {
      "text/plain": [
       "\u001b[1;31mSignature:\u001b[0m \u001b[0mmxd2l\u001b[0m\u001b[1;33m.\u001b[0m\u001b[0mmkdir_if_not_exist\u001b[0m\u001b[1;33m(\u001b[0m\u001b[0mpath\u001b[0m\u001b[1;33m)\u001b[0m\u001b[1;33m\u001b[0m\u001b[1;33m\u001b[0m\u001b[0m\n",
       "\u001b[1;31mSource:\u001b[0m   \n",
       "\u001b[1;32mdef\u001b[0m \u001b[0mmkdir_if_not_exist\u001b[0m\u001b[1;33m(\u001b[0m\u001b[0mpath\u001b[0m\u001b[1;33m)\u001b[0m\u001b[1;33m:\u001b[0m  \u001b[1;31m#@save\u001b[0m\u001b[1;33m\n",
       "\u001b[0m    \u001b[1;34m\"\"\"Make a directory if it does not exist.\"\"\"\u001b[0m\u001b[1;33m\n",
       "\u001b[0m    \u001b[1;32mif\u001b[0m \u001b[1;32mnot\u001b[0m \u001b[0misinstance\u001b[0m\u001b[1;33m(\u001b[0m\u001b[0mpath\u001b[0m\u001b[1;33m,\u001b[0m \u001b[0mstr\u001b[0m\u001b[1;33m)\u001b[0m\u001b[1;33m:\u001b[0m\u001b[1;33m\n",
       "\u001b[0m        \u001b[0mpath\u001b[0m \u001b[1;33m=\u001b[0m \u001b[0mos\u001b[0m\u001b[1;33m.\u001b[0m\u001b[0mpath\u001b[0m\u001b[1;33m.\u001b[0m\u001b[0mjoin\u001b[0m\u001b[1;33m(\u001b[0m\u001b[1;33m*\u001b[0m\u001b[0mpath\u001b[0m\u001b[1;33m)\u001b[0m\u001b[1;33m\n",
       "\u001b[0m    \u001b[1;32mif\u001b[0m \u001b[1;32mnot\u001b[0m \u001b[0mos\u001b[0m\u001b[1;33m.\u001b[0m\u001b[0mpath\u001b[0m\u001b[1;33m.\u001b[0m\u001b[0mexists\u001b[0m\u001b[1;33m(\u001b[0m\u001b[0mpath\u001b[0m\u001b[1;33m)\u001b[0m\u001b[1;33m:\u001b[0m\u001b[1;33m\n",
       "\u001b[0m        \u001b[0mos\u001b[0m\u001b[1;33m.\u001b[0m\u001b[0mmakedirs\u001b[0m\u001b[1;33m(\u001b[0m\u001b[0mpath\u001b[0m\u001b[1;33m)\u001b[0m\u001b[1;33m\u001b[0m\u001b[1;33m\u001b[0m\u001b[0m\n",
       "\u001b[1;31mFile:\u001b[0m      c:\\users\\hp\\miniconda3\\envs\\d2l\\lib\\site-packages\\d2l\\mxnet.py\n",
       "\u001b[1;31mType:\u001b[0m      function\n"
      ]
     },
     "metadata": {},
     "output_type": "display_data"
    }
   ],
   "source": [
    "mxd2l.mkdir_if_not_exist??"
   ]
  },
  {
   "cell_type": "code",
   "execution_count": null,
   "metadata": {},
   "outputs": [],
   "source": []
  },
  {
   "cell_type": "code",
   "execution_count": null,
   "metadata": {},
   "outputs": [],
   "source": []
  },
  {
   "cell_type": "code",
   "execution_count": 19,
   "metadata": {},
   "outputs": [
    {
     "data": {
      "text/plain": [
       "('1.6.0', 0, 'GeForce RTX 2070 with Max-Q Design')"
      ]
     },
     "execution_count": 19,
     "metadata": {},
     "output_type": "execute_result"
    }
   ],
   "source": [
    "torch.__version__,torch.cuda.current_device(),torch.cuda.get_device_name(0)"
   ]
  },
  {
   "cell_type": "code",
   "execution_count": 20,
   "metadata": {},
   "outputs": [
    {
     "data": {
      "text/plain": [
       "('1.7.0', range(0, 1), gpu(0))"
      ]
     },
     "execution_count": 20,
     "metadata": {},
     "output_type": "execute_result"
    }
   ],
   "source": [
    "mxnet.__version__,mxnet.test_utils.list_gpus(),mxnet.gpu()"
   ]
  },
  {
   "cell_type": "code",
   "execution_count": 21,
   "metadata": {},
   "outputs": [
    {
     "data": {
      "text/plain": [
       "('2.3.1', '/device:GPU:0')"
      ]
     },
     "execution_count": 21,
     "metadata": {},
     "output_type": "execute_result"
    }
   ],
   "source": [
    "tensorflow.__version__,tensorflow.test.gpu_device_name()"
   ]
  },
  {
   "cell_type": "code",
   "execution_count": 22,
   "metadata": {},
   "outputs": [
    {
     "data": {
      "text/plain": [
       "(True,)"
      ]
     },
     "execution_count": 22,
     "metadata": {},
     "output_type": "execute_result"
    }
   ],
   "source": [
    "tensorflow.test.is_gpu_available(),"
   ]
  },
  {
   "cell_type": "code",
   "execution_count": 13,
   "metadata": {},
   "outputs": [
    {
     "data": {
      "text/plain": [
       "[PhysicalDevice(name='/physical_device:GPU:0', device_type='GPU')]"
      ]
     },
     "execution_count": 13,
     "metadata": {},
     "output_type": "execute_result"
    }
   ],
   "source": [
    "tensorflow.config.list_physical_devices('GPU')"
   ]
  },
  {
   "cell_type": "code",
   "execution_count": 14,
   "metadata": {},
   "outputs": [],
   "source": [
    "from tensorflow.python.client import device_lib"
   ]
  },
  {
   "cell_type": "code",
   "execution_count": 15,
   "metadata": {},
   "outputs": [],
   "source": [
    "local_device_protos = device_lib.list_local_devices()"
   ]
  },
  {
   "cell_type": "code",
   "execution_count": 16,
   "metadata": {},
   "outputs": [
    {
     "name": "stdout",
     "output_type": "stream",
     "text": [
      "name: \"/device:GPU:0\"\n",
      "device_type: \"GPU\"\n",
      "memory_limit: 6854736288\n",
      "locality {\n",
      "  bus_id: 1\n",
      "  links {\n",
      "  }\n",
      "}\n",
      "incarnation: 17857982050072236914\n",
      "physical_device_desc: \"device: 0, name: GeForce RTX 2070 with Max-Q Design, pci bus id: 0000:01:00.0, compute capability: 7.5\"\n",
      "\n"
     ]
    },
    {
     "data": {
      "text/plain": [
       "[None]"
      ]
     },
     "execution_count": 16,
     "metadata": {},
     "output_type": "execute_result"
    }
   ],
   "source": [
    "[print(x) for x in local_device_protos if x.device_type == 'GPU']"
   ]
  },
  {
   "cell_type": "code",
   "execution_count": 17,
   "metadata": {},
   "outputs": [
    {
     "data": {
      "text/plain": [
       "[name: \"/device:CPU:0\"\n",
       " device_type: \"CPU\"\n",
       " memory_limit: 268435456\n",
       " locality {\n",
       " }\n",
       " incarnation: 7224890850623913041,\n",
       " name: \"/device:XLA_CPU:0\"\n",
       " device_type: \"XLA_CPU\"\n",
       " memory_limit: 17179869184\n",
       " locality {\n",
       " }\n",
       " incarnation: 17659652965799406481\n",
       " physical_device_desc: \"device: XLA_CPU device\",\n",
       " name: \"/device:GPU:0\"\n",
       " device_type: \"GPU\"\n",
       " memory_limit: 6854736288\n",
       " locality {\n",
       "   bus_id: 1\n",
       "   links {\n",
       "   }\n",
       " }\n",
       " incarnation: 17857982050072236914\n",
       " physical_device_desc: \"device: 0, name: GeForce RTX 2070 with Max-Q Design, pci bus id: 0000:01:00.0, compute capability: 7.5\",\n",
       " name: \"/device:XLA_GPU:0\"\n",
       " device_type: \"XLA_GPU\"\n",
       " memory_limit: 17179869184\n",
       " locality {\n",
       " }\n",
       " incarnation: 101928186607890762\n",
       " physical_device_desc: \"device: XLA_GPU device\"]"
      ]
     },
     "execution_count": 17,
     "metadata": {},
     "output_type": "execute_result"
    }
   ],
   "source": [
    "local_device_protos"
   ]
  },
  {
   "cell_type": "code",
   "execution_count": 5,
   "metadata": {},
   "outputs": [
    {
     "name": "stdout",
     "output_type": "stream",
     "text": [
      "# packages in environment at C:\\Users\\HP\\miniconda3\\envs\\fastai2book:\n",
      "#\n",
      "# Name                    Version                   Build  Channel\n",
      "adal                      1.2.4                    pypi_0    pypi\n",
      "argon2-cffi               20.1.0           py38he774522_1    defaults\n",
      "async_generator           1.10                       py_0    defaults\n",
      "attrs                     20.2.0                     py_0    defaults\n",
      "azure-cognitiveservices-search-imagesearch 2.0.0                    pypi_0    pypi\n",
      "azure-common              1.1.25                   pypi_0    pypi\n",
      "backcall                  0.2.0                      py_0    defaults\n",
      "blas                      1.0                         mkl    defaults\n",
      "bleach                    3.2.1                      py_0    defaults\n",
      "brotlipy                  0.7.0           py38he774522_1000    defaults\n",
      "ca-certificates           2020.7.22                     0    defaults\n",
      "catalogue                 1.0.0                    py38_1    defaults\n",
      "certifi                   2020.6.20                py38_0    defaults\n",
      "cffi                      1.14.3           py38h7a1dbc1_0    defaults\n",
      "chardet                   3.0.4                 py38_1003    defaults\n",
      "colorama                  0.4.3                      py_0    defaults\n",
      "cryptography              3.1.1            py38h7a1dbc1_0    defaults\n",
      "cudatoolkit               10.2.89              h74a9793_1    defaults\n",
      "cycler                    0.10.0                   py38_0    defaults\n",
      "cymem                     2.0.3            py38ha925a31_0    defaults\n",
      "cython-blis               0.4.1            py38he774522_1    defaults\n",
      "decorator                 4.4.2                      py_0    defaults\n",
      "defusedxml                0.6.0                    pypi_0    pypi\n",
      "entrypoints               0.3                      pypi_0    pypi\n",
      "fastai                    2.0.16                     py_0    fastai\n",
      "fastbook                  0.0.11                   pypi_0    pypi\n",
      "fastcore                  1.1.0                      py_0    fastai\n",
      "fastprogress              1.0.0              pyh39e3cac_0    fastai\n",
      "freetype                  2.10.2               hd328e21_0    defaults\n",
      "future                    0.18.2                   pypi_0    pypi\n",
      "graphviz                  2.38                 hfd603c8_2    defaults\n",
      "icc_rt                    2019.0.0             h0cc432a_1    defaults\n",
      "icu                       58.2                 ha925a31_3    defaults\n",
      "idna                      2.10                       py_0    defaults\n",
      "importlib-metadata        2.0.0                      py_1    defaults\n",
      "importlib_metadata        2.0.0                         1    defaults\n",
      "intel-openmp              2020.2                      254    defaults\n",
      "ipykernel                 5.3.4            py38h5ca1d4c_0    defaults\n",
      "ipython                   7.18.1           py38h5ca1d4c_0    defaults\n",
      "ipython-genutils          0.2.0                    pypi_0    pypi\n",
      "ipython_genutils          0.2.0                    py38_0    defaults\n",
      "ipywidgets                7.5.1                      py_1    defaults\n",
      "isodate                   0.6.0                    pypi_0    pypi\n",
      "jedi                      0.17.2                   py38_0    defaults\n",
      "jinja2                    2.11.2                     py_0    defaults\n",
      "joblib                    0.17.0                     py_0    defaults\n",
      "jpeg                      9b                   hb83a4c4_2    defaults\n",
      "jsonschema                3.0.2                    py38_0    defaults\n",
      "jupyter                   1.0.0                    py38_7    defaults\n",
      "jupyter_client            6.1.7                      py_0    defaults\n",
      "jupyter_console           6.2.0                      py_0    defaults\n",
      "jupyter_core              4.6.3                    py38_0    defaults\n",
      "jupyterlab_pygments       0.1.2                      py_0    defaults\n",
      "kiwisolver                1.2.0            py38h74a9793_0    defaults\n",
      "libpng                    1.6.37               h2a8f88b_0    defaults\n",
      "libsodium                 1.0.18               h62dcd97_0    defaults\n",
      "libtiff                   4.1.0                h56a325e_1    defaults\n",
      "lz4-c                     1.9.2                hf4a77e7_3    defaults\n",
      "m2w64-gcc-libgfortran     5.3.0                         6    defaults\n",
      "m2w64-gcc-libs            5.3.0                         7    defaults\n",
      "m2w64-gcc-libs-core       5.3.0                         7    defaults\n",
      "m2w64-gmp                 6.1.0                         2    defaults\n",
      "m2w64-libwinpthread-git   5.0.0.4634.697f757               2    defaults\n",
      "markupsafe                1.1.1            py38he774522_0    defaults\n",
      "matplotlib                3.3.1                         0    defaults\n",
      "matplotlib-base           3.3.1            py38hba9282a_0    defaults\n",
      "mistune                   0.8.4           py38he774522_1000    defaults\n",
      "mkl                       2020.2                      256    defaults\n",
      "mkl-service               2.3.0            py38hb782905_0    defaults\n",
      "mkl_fft                   1.2.0            py38h45dec08_0    defaults\n",
      "mkl_random                1.1.1            py38h47e9c7a_0    defaults\n",
      "msrest                    0.6.19                   pypi_0    pypi\n",
      "msrestazure               0.6.4                    pypi_0    pypi\n",
      "msys2-conda-epoch         20160418                      1    defaults\n",
      "murmurhash                1.0.2            py38h33f27b4_0    defaults\n",
      "nbclient                  0.5.0                      py_0    defaults\n",
      "nbconvert                 5.6.1                    pypi_0    pypi\n",
      "nbdev                     1.1.2                    pypi_0    pypi\n",
      "nbformat                  5.0.7                      py_0    defaults\n",
      "nest-asyncio              1.4.1                      py_0    defaults\n",
      "ninja                     1.10.1           py38h7ef1ec2_0    defaults\n",
      "notebook                  6.1.4                    py38_0    defaults\n",
      "numpy                     1.19.1           py38h5510c5b_0    defaults\n",
      "numpy-base                1.19.1           py38ha3acd2a_0    defaults\n",
      "oauthlib                  3.1.0                    pypi_0    pypi\n",
      "olefile                   0.46                       py_0    defaults\n",
      "openssl                   1.1.1h               he774522_0    defaults\n",
      "packaging                 20.4                       py_0    defaults\n",
      "pandas                    1.1.3            py38ha925a31_0    defaults\n",
      "pandoc                    2.10.1                        0    defaults\n",
      "pandocfilters             1.4.2                    py38_1    defaults\n",
      "parso                     0.7.1                    pypi_0    pypi\n",
      "pickleshare               0.7.5                 py38_1000    defaults\n",
      "pillow                    7.2.0            py38hcc1f983_0    defaults\n",
      "pip                       20.2.3                   py38_0    defaults\n",
      "plac                      0.9.6                    py38_1    defaults\n",
      "preshed                   3.0.2            py38h33f27b4_1    defaults\n",
      "prometheus_client         0.8.0                      py_0    defaults\n",
      "prompt-toolkit            3.0.7                      py_0    defaults\n",
      "prompt_toolkit            3.0.7                         0    defaults\n",
      "pycparser                 2.20                       py_2    defaults\n",
      "pygments                  2.7.1                      py_0    defaults\n",
      "pyjwt                     1.7.1                    pypi_0    pypi\n",
      "pyopenssl                 19.1.0                     py_1    defaults\n",
      "pyparsing                 2.4.7                      py_0    defaults\n",
      "pyqt                      5.9.2            py38ha925a31_4    defaults\n",
      "pyrsistent                0.17.3           py38he774522_0    defaults\n",
      "pysocks                   1.7.1                    py38_0    defaults\n",
      "python                    3.8.5                h5fd99cc_1    defaults\n",
      "python-dateutil           2.8.1                      py_0    defaults\n",
      "python-graphviz           0.14.2                   pypi_0    pypi\n",
      "pytorch                   1.6.0           py3.8_cuda102_cudnn7_0    pytorch\n",
      "pytz                      2020.1                     py_0    defaults\n",
      "pywin32                   228                      pypi_0    pypi\n",
      "pywinpty                  0.5.7                    py38_0    defaults\n",
      "pyyaml                    5.3.1            py38he774522_1    defaults\n",
      "pyzmq                     19.0.2                   pypi_0    pypi\n",
      "qt                        5.9.7            vc14h73c81de_0    defaults\n",
      "qtconsole                 4.7.7                      py_0    defaults\n",
      "qtpy                      1.9.0                      py_0    defaults\n",
      "requests                  2.24.0                     py_0    defaults\n",
      "requests-oauthlib         1.3.0                    pypi_0    pypi\n",
      "scikit-learn              0.23.2           py38h47e9c7a_0    defaults\n",
      "scipy                     1.5.0            py38h9439919_0    defaults\n",
      "send2trash                1.5.0                    pypi_0    pypi\n",
      "sentencepiece             0.1.86                   pypi_0    pypi\n",
      "setuptools                50.3.0           py38h9490d1a_1    defaults\n",
      "sip                       4.19.13          py38ha925a31_0    defaults\n",
      "six                       1.15.0                     py_0    defaults\n",
      "spacy                     2.3.2            py38h74a9793_0    defaults\n",
      "sqlite                    3.33.0               h2a8f88b_0    defaults\n",
      "srsly                     1.0.2            py38ha925a31_0    defaults\n",
      "terminado                 0.9.1                    pypi_0    pypi\n",
      "testpath                  0.4.4                      py_0    defaults\n",
      "thinc                     7.4.1            py38h74a9793_0    defaults\n",
      "threadpoolctl             2.1.0              pyh5ca1d4c_0    defaults\n",
      "tk                        8.6.10               he774522_0    defaults\n",
      "torchvision               0.7.0                py38_cu102    pytorch\n",
      "tornado                   6.0.4            py38he774522_1    defaults\n",
      "tqdm                      4.50.2                     py_0    defaults\n",
      "traitlets                 5.0.4                      py_0    defaults\n",
      "urllib3                   1.25.10                    py_0    defaults\n",
      "vc                        14.1                 h0510ff6_4    defaults\n",
      "vs2015_runtime            14.16.27012          hf0eaf9b_3    defaults\n",
      "wasabi                    0.8.0                      py_0    defaults\n",
      "wcwidth                   0.2.5                      py_0    defaults\n",
      "webencodings              0.5.1                    pypi_0    pypi\n",
      "wheel                     0.35.1                     py_0    defaults\n",
      "widgetsnbextension        3.5.1                    py38_0    defaults\n",
      "win_inet_pton             1.1.0                    py38_0    defaults\n",
      "wincertstore              0.2                      py38_0    defaults\n",
      "winpty                    0.4.3                         4    defaults\n",
      "xz                        5.2.5                h62dcd97_0    defaults\n",
      "yaml                      0.2.5                he774522_0    defaults\n",
      "zeromq                    4.3.2                ha925a31_3    defaults\n",
      "zipp                      3.3.0                      py_0    defaults\n",
      "zlib                      1.2.11               h62dcd97_4    defaults\n",
      "zstd                      1.4.5                h04227a9_0    defaults\n"
     ]
    }
   ],
   "source": [
    "!conda list\n"
   ]
  },
  {
   "cell_type": "code",
   "execution_count": 2,
   "metadata": {},
   "outputs": [],
   "source": [
    "from mxnet import numpy as mxnp\n",
    "mxnp.ones?"
   ]
  },
  {
   "cell_type": "code",
   "execution_count": null,
   "metadata": {},
   "outputs": [],
   "source": []
  }
 ],
 "metadata": {
  "kernelspec": {
   "display_name": "d2l",
   "language": "python",
   "name": "d2l"
  },
  "language_info": {
   "codemirror_mode": {
    "name": "ipython",
    "version": 3
   },
   "file_extension": ".py",
   "mimetype": "text/x-python",
   "name": "python",
   "nbconvert_exporter": "python",
   "pygments_lexer": "ipython3",
   "version": "3.8.5"
  }
 },
 "nbformat": 4,
 "nbformat_minor": 4
}
